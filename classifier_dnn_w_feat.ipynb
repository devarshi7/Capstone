{
 "cells": [
  {
   "cell_type": "code",
   "execution_count": 1,
   "metadata": {},
   "outputs": [
    {
     "name": "stderr",
     "output_type": "stream",
     "text": [
      "Using TensorFlow backend.\n",
      "C:\\Users\\Administrator\\Anaconda3\\lib\\site-packages\\tensorflow\\python\\framework\\dtypes.py:516: FutureWarning: Passing (type, 1) or '1type' as a synonym of type is deprecated; in a future version of numpy, it will be understood as (type, (1,)) / '(1,)type'.\n",
      "  _np_qint8 = np.dtype([(\"qint8\", np.int8, 1)])\n",
      "C:\\Users\\Administrator\\Anaconda3\\lib\\site-packages\\tensorflow\\python\\framework\\dtypes.py:517: FutureWarning: Passing (type, 1) or '1type' as a synonym of type is deprecated; in a future version of numpy, it will be understood as (type, (1,)) / '(1,)type'.\n",
      "  _np_quint8 = np.dtype([(\"quint8\", np.uint8, 1)])\n",
      "C:\\Users\\Administrator\\Anaconda3\\lib\\site-packages\\tensorflow\\python\\framework\\dtypes.py:518: FutureWarning: Passing (type, 1) or '1type' as a synonym of type is deprecated; in a future version of numpy, it will be understood as (type, (1,)) / '(1,)type'.\n",
      "  _np_qint16 = np.dtype([(\"qint16\", np.int16, 1)])\n",
      "C:\\Users\\Administrator\\Anaconda3\\lib\\site-packages\\tensorflow\\python\\framework\\dtypes.py:519: FutureWarning: Passing (type, 1) or '1type' as a synonym of type is deprecated; in a future version of numpy, it will be understood as (type, (1,)) / '(1,)type'.\n",
      "  _np_quint16 = np.dtype([(\"quint16\", np.uint16, 1)])\n",
      "C:\\Users\\Administrator\\Anaconda3\\lib\\site-packages\\tensorflow\\python\\framework\\dtypes.py:520: FutureWarning: Passing (type, 1) or '1type' as a synonym of type is deprecated; in a future version of numpy, it will be understood as (type, (1,)) / '(1,)type'.\n",
      "  _np_qint32 = np.dtype([(\"qint32\", np.int32, 1)])\n",
      "C:\\Users\\Administrator\\Anaconda3\\lib\\site-packages\\tensorflow\\python\\framework\\dtypes.py:525: FutureWarning: Passing (type, 1) or '1type' as a synonym of type is deprecated; in a future version of numpy, it will be understood as (type, (1,)) / '(1,)type'.\n",
      "  np_resource = np.dtype([(\"resource\", np.ubyte, 1)])\n",
      "C:\\Users\\Administrator\\Anaconda3\\lib\\site-packages\\tensorboard\\compat\\tensorflow_stub\\dtypes.py:541: FutureWarning: Passing (type, 1) or '1type' as a synonym of type is deprecated; in a future version of numpy, it will be understood as (type, (1,)) / '(1,)type'.\n",
      "  _np_qint8 = np.dtype([(\"qint8\", np.int8, 1)])\n",
      "C:\\Users\\Administrator\\Anaconda3\\lib\\site-packages\\tensorboard\\compat\\tensorflow_stub\\dtypes.py:542: FutureWarning: Passing (type, 1) or '1type' as a synonym of type is deprecated; in a future version of numpy, it will be understood as (type, (1,)) / '(1,)type'.\n",
      "  _np_quint8 = np.dtype([(\"quint8\", np.uint8, 1)])\n",
      "C:\\Users\\Administrator\\Anaconda3\\lib\\site-packages\\tensorboard\\compat\\tensorflow_stub\\dtypes.py:543: FutureWarning: Passing (type, 1) or '1type' as a synonym of type is deprecated; in a future version of numpy, it will be understood as (type, (1,)) / '(1,)type'.\n",
      "  _np_qint16 = np.dtype([(\"qint16\", np.int16, 1)])\n",
      "C:\\Users\\Administrator\\Anaconda3\\lib\\site-packages\\tensorboard\\compat\\tensorflow_stub\\dtypes.py:544: FutureWarning: Passing (type, 1) or '1type' as a synonym of type is deprecated; in a future version of numpy, it will be understood as (type, (1,)) / '(1,)type'.\n",
      "  _np_quint16 = np.dtype([(\"quint16\", np.uint16, 1)])\n",
      "C:\\Users\\Administrator\\Anaconda3\\lib\\site-packages\\tensorboard\\compat\\tensorflow_stub\\dtypes.py:545: FutureWarning: Passing (type, 1) or '1type' as a synonym of type is deprecated; in a future version of numpy, it will be understood as (type, (1,)) / '(1,)type'.\n",
      "  _np_qint32 = np.dtype([(\"qint32\", np.int32, 1)])\n",
      "C:\\Users\\Administrator\\Anaconda3\\lib\\site-packages\\tensorboard\\compat\\tensorflow_stub\\dtypes.py:550: FutureWarning: Passing (type, 1) or '1type' as a synonym of type is deprecated; in a future version of numpy, it will be understood as (type, (1,)) / '(1,)type'.\n",
      "  np_resource = np.dtype([(\"resource\", np.ubyte, 1)])\n"
     ]
    }
   ],
   "source": [
    "from cap_package import ReadTransform as rt\n",
    "from datetime import datetime\n",
    "from dotenv import load_dotenv\n",
    "from hyperas import optim\n",
    "from hyperas.distributions import choice, uniform\n",
    "from hyperopt import Trials, STATUS_OK, tpe\n",
    "import numpy as np\n",
    "import os\n",
    "import pandas as pd\n",
    "from pathlib import Path\n",
    "import random\n",
    "from sklearn.model_selection import train_test_split\n",
    "import tensorflow as tf\n",
    "import tensorflow.keras as keras\n",
    "from tensorflow.keras import Model, Input\n",
    "from tensorflow.keras.layers import Dense, BatchNormalization, Activation, Dropout\n"
   ]
  },
  {
   "cell_type": "code",
   "execution_count": 2,
   "metadata": {},
   "outputs": [],
   "source": [
    "from IPython.utils.text import columnize\n",
    "def disp_col(list_):\n",
    "    \n",
    "    # import -> from IPython.utils.text import columnize\n",
    "    l = list(map(lambda x:repr(x)+ ',', list_))\n",
    "    print(columnize(l, displaywidth=120))\n",
    "def timer(start_time=None):\n",
    "    if start_time is None:\n",
    "        start_time = datetime.now()\n",
    "        return start_time\n",
    "    else:\n",
    "        thour, temp_sec = divmod((datetime.now() - start_time).total_seconds(), 3600)\n",
    "        tmin, tsec = divmod(temp_sec, 60)\n",
    "        print('\\n Time taken: %i hours %i minutes and %s seconds.' % (thour, tmin, round(tsec, 2)))"
   ]
  },
  {
   "cell_type": "code",
   "execution_count": 3,
   "metadata": {},
   "outputs": [],
   "source": [
    "#tf.keras.backend.clear_session()"
   ]
  },
  {
   "cell_type": "code",
   "execution_count": 4,
   "metadata": {},
   "outputs": [],
   "source": [
    "load_dotenv()\n",
    "path = Path(os.getenv('PATH_DATASET1.2')).joinpath('user_pl_featstats')"
   ]
  },
  {
   "cell_type": "code",
   "execution_count": 5,
   "metadata": {},
   "outputs": [],
   "source": [
    "path_ = path.joinpath('user_pl_segstat')\n",
    "dfs = []\n",
    "for f in path_.iterdir():\n",
    "    dfs.append(pd.read_parquet(f))\n",
    "\n",
    "segstat_df = pd.concat(dfs, ignore_index=True)"
   ]
  },
  {
   "cell_type": "code",
   "execution_count": 6,
   "metadata": {},
   "outputs": [],
   "source": [
    "path_ = path.joinpath('user_pl_secstat')\n",
    "dfs = []\n",
    "for f in path_.iterdir():\n",
    "    dfs.append(pd.read_parquet(f))\n",
    "\n",
    "secstat_df = pd.concat(dfs, ignore_index=True)"
   ]
  },
  {
   "cell_type": "code",
   "execution_count": 7,
   "metadata": {},
   "outputs": [
    {
     "data": {
      "text/html": [
       "<div>\n",
       "<style scoped>\n",
       "    .dataframe tbody tr th:only-of-type {\n",
       "        vertical-align: middle;\n",
       "    }\n",
       "\n",
       "    .dataframe tbody tr th {\n",
       "        vertical-align: top;\n",
       "    }\n",
       "\n",
       "    .dataframe thead th {\n",
       "        text-align: right;\n",
       "    }\n",
       "</style>\n",
       "<table border=\"1\" class=\"dataframe\">\n",
       "  <thead>\n",
       "    <tr style=\"text-align: right;\">\n",
       "      <th></th>\n",
       "      <th>playlist</th>\n",
       "      <th>track_name</th>\n",
       "      <th>timbre_01_kurtosis</th>\n",
       "      <th>timbre_02_kurtosis</th>\n",
       "      <th>timbre_03_kurtosis</th>\n",
       "      <th>timbre_04_kurtosis</th>\n",
       "      <th>timbre_05_kurtosis</th>\n",
       "      <th>timbre_06_kurtosis</th>\n",
       "      <th>timbre_07_kurtosis</th>\n",
       "      <th>timbre_08_kurtosis</th>\n",
       "      <th>...</th>\n",
       "      <th>timbre_03_topsec4</th>\n",
       "      <th>timbre_04_topsec4</th>\n",
       "      <th>timbre_05_topsec4</th>\n",
       "      <th>timbre_06_topsec4</th>\n",
       "      <th>timbre_07_topsec4</th>\n",
       "      <th>timbre_08_topsec4</th>\n",
       "      <th>timbre_09_topsec4</th>\n",
       "      <th>timbre_10_topsec4</th>\n",
       "      <th>timbre_11_topsec4</th>\n",
       "      <th>timbre_12_topsec4</th>\n",
       "    </tr>\n",
       "  </thead>\n",
       "  <tbody>\n",
       "    <tr>\n",
       "      <th>0</th>\n",
       "      <td>Classic progressive</td>\n",
       "      <td>2 Roads [Mix Cut] - Blood Groove &amp; Kikis Remix...</td>\n",
       "      <td>2.607578</td>\n",
       "      <td>5.769883</td>\n",
       "      <td>-0.054055</td>\n",
       "      <td>-0.718820</td>\n",
       "      <td>1.933854</td>\n",
       "      <td>0.284112</td>\n",
       "      <td>-0.027060</td>\n",
       "      <td>-0.247640</td>\n",
       "      <td>...</td>\n",
       "      <td>29.080792</td>\n",
       "      <td>13.802042</td>\n",
       "      <td>25.277000</td>\n",
       "      <td>-32.948583</td>\n",
       "      <td>17.312542</td>\n",
       "      <td>-12.906875</td>\n",
       "      <td>-21.608750</td>\n",
       "      <td>-0.966958</td>\n",
       "      <td>0.269958</td>\n",
       "      <td>8.368042</td>\n",
       "    </tr>\n",
       "    <tr>\n",
       "      <th>1</th>\n",
       "      <td>Classic progressive</td>\n",
       "      <td>After The Rain - Club Mix_The</td>\n",
       "      <td>0.032042</td>\n",
       "      <td>-0.037483</td>\n",
       "      <td>0.940155</td>\n",
       "      <td>0.448693</td>\n",
       "      <td>0.353088</td>\n",
       "      <td>0.332408</td>\n",
       "      <td>-0.110257</td>\n",
       "      <td>-0.253300</td>\n",
       "      <td>...</td>\n",
       "      <td>-3.381045</td>\n",
       "      <td>5.244773</td>\n",
       "      <td>14.047773</td>\n",
       "      <td>-33.001500</td>\n",
       "      <td>0.778386</td>\n",
       "      <td>-15.752159</td>\n",
       "      <td>2.761523</td>\n",
       "      <td>4.371068</td>\n",
       "      <td>-13.471977</td>\n",
       "      <td>-0.787523</td>\n",
       "    </tr>\n",
       "    <tr>\n",
       "      <th>2</th>\n",
       "      <td>Classic progressive</td>\n",
       "      <td>Always A Stranger - Dub_The</td>\n",
       "      <td>1.667161</td>\n",
       "      <td>1.627691</td>\n",
       "      <td>4.120893</td>\n",
       "      <td>0.062973</td>\n",
       "      <td>4.441805</td>\n",
       "      <td>3.931294</td>\n",
       "      <td>0.077389</td>\n",
       "      <td>1.107477</td>\n",
       "      <td>...</td>\n",
       "      <td>-32.608300</td>\n",
       "      <td>6.164125</td>\n",
       "      <td>17.060300</td>\n",
       "      <td>-26.698300</td>\n",
       "      <td>17.009175</td>\n",
       "      <td>11.365875</td>\n",
       "      <td>-9.591550</td>\n",
       "      <td>12.695800</td>\n",
       "      <td>-18.881800</td>\n",
       "      <td>2.709900</td>\n",
       "    </tr>\n",
       "    <tr>\n",
       "      <th>3</th>\n",
       "      <td>Classic progressive</td>\n",
       "      <td>Colors Of The Night - Dub_Haz</td>\n",
       "      <td>1.317984</td>\n",
       "      <td>1.235949</td>\n",
       "      <td>0.579231</td>\n",
       "      <td>0.890771</td>\n",
       "      <td>-0.728799</td>\n",
       "      <td>1.944975</td>\n",
       "      <td>-0.410863</td>\n",
       "      <td>2.804291</td>\n",
       "      <td>...</td>\n",
       "      <td>45.584944</td>\n",
       "      <td>7.923778</td>\n",
       "      <td>80.423861</td>\n",
       "      <td>-21.019139</td>\n",
       "      <td>-12.866694</td>\n",
       "      <td>14.524917</td>\n",
       "      <td>-14.065833</td>\n",
       "      <td>-0.770167</td>\n",
       "      <td>-11.919750</td>\n",
       "      <td>-2.527250</td>\n",
       "    </tr>\n",
       "    <tr>\n",
       "      <th>4</th>\n",
       "      <td>Classic progressive</td>\n",
       "      <td>Eclipse - Original Mix_Haz</td>\n",
       "      <td>-1.190126</td>\n",
       "      <td>0.820478</td>\n",
       "      <td>-0.631190</td>\n",
       "      <td>0.037340</td>\n",
       "      <td>-0.106807</td>\n",
       "      <td>-0.594247</td>\n",
       "      <td>0.250968</td>\n",
       "      <td>1.128378</td>\n",
       "      <td>...</td>\n",
       "      <td>13.269545</td>\n",
       "      <td>-52.955636</td>\n",
       "      <td>-4.268364</td>\n",
       "      <td>-14.068545</td>\n",
       "      <td>25.495636</td>\n",
       "      <td>0.540727</td>\n",
       "      <td>-12.415091</td>\n",
       "      <td>11.890091</td>\n",
       "      <td>-8.753455</td>\n",
       "      <td>0.035364</td>\n",
       "    </tr>\n",
       "  </tbody>\n",
       "</table>\n",
       "<p>5 rows × 199 columns</p>\n",
       "</div>"
      ],
      "text/plain": [
       "              playlist                                         track_name  \\\n",
       "0  Classic progressive  2 Roads [Mix Cut] - Blood Groove & Kikis Remix...   \n",
       "1  Classic progressive                      After The Rain - Club Mix_The   \n",
       "2  Classic progressive                        Always A Stranger - Dub_The   \n",
       "3  Classic progressive                      Colors Of The Night - Dub_Haz   \n",
       "4  Classic progressive                         Eclipse - Original Mix_Haz   \n",
       "\n",
       "   timbre_01_kurtosis  timbre_02_kurtosis  timbre_03_kurtosis  \\\n",
       "0            2.607578            5.769883           -0.054055   \n",
       "1            0.032042           -0.037483            0.940155   \n",
       "2            1.667161            1.627691            4.120893   \n",
       "3            1.317984            1.235949            0.579231   \n",
       "4           -1.190126            0.820478           -0.631190   \n",
       "\n",
       "   timbre_04_kurtosis  timbre_05_kurtosis  timbre_06_kurtosis  \\\n",
       "0           -0.718820            1.933854            0.284112   \n",
       "1            0.448693            0.353088            0.332408   \n",
       "2            0.062973            4.441805            3.931294   \n",
       "3            0.890771           -0.728799            1.944975   \n",
       "4            0.037340           -0.106807           -0.594247   \n",
       "\n",
       "   timbre_07_kurtosis  timbre_08_kurtosis  ...  timbre_03_topsec4  \\\n",
       "0           -0.027060           -0.247640  ...          29.080792   \n",
       "1           -0.110257           -0.253300  ...          -3.381045   \n",
       "2            0.077389            1.107477  ...         -32.608300   \n",
       "3           -0.410863            2.804291  ...          45.584944   \n",
       "4            0.250968            1.128378  ...          13.269545   \n",
       "\n",
       "   timbre_04_topsec4  timbre_05_topsec4  timbre_06_topsec4  timbre_07_topsec4  \\\n",
       "0          13.802042          25.277000         -32.948583          17.312542   \n",
       "1           5.244773          14.047773         -33.001500           0.778386   \n",
       "2           6.164125          17.060300         -26.698300          17.009175   \n",
       "3           7.923778          80.423861         -21.019139         -12.866694   \n",
       "4         -52.955636          -4.268364         -14.068545          25.495636   \n",
       "\n",
       "   timbre_08_topsec4  timbre_09_topsec4  timbre_10_topsec4  timbre_11_topsec4  \\\n",
       "0         -12.906875         -21.608750          -0.966958           0.269958   \n",
       "1         -15.752159           2.761523           4.371068         -13.471977   \n",
       "2          11.365875          -9.591550          12.695800         -18.881800   \n",
       "3          14.524917         -14.065833          -0.770167         -11.919750   \n",
       "4           0.540727         -12.415091          11.890091          -8.753455   \n",
       "\n",
       "   timbre_12_topsec4  \n",
       "0           8.368042  \n",
       "1          -0.787523  \n",
       "2           2.709900  \n",
       "3          -2.527250  \n",
       "4           0.035364  \n",
       "\n",
       "[5 rows x 199 columns]"
      ]
     },
     "execution_count": 7,
     "metadata": {},
     "output_type": "execute_result"
    }
   ],
   "source": [
    "segsecstat_df = pd.concat([segstat_df, secstat_df.iloc[:, 2:]], axis=1)\n",
    "segsecstat_df.head()"
   ]
  },
  {
   "cell_type": "code",
   "execution_count": 8,
   "metadata": {},
   "outputs": [],
   "source": [
    "path_ = path.joinpath('user_pl_feat')\n",
    "dfs = []\n",
    "for f in path_.iterdir():\n",
    "    \n",
    "    df = pd.read_parquet(f)\n",
    "    pl_col = [f.name.replace('_features.parquet', '')] * len(df)\n",
    "    df.insert(loc=0, column='playlist', value=pl_col)\n",
    "    dfs.append(df)\n",
    "    \n",
    "\n",
    "full_feat_df = pd.concat(dfs, ignore_index=True)\n",
    "feat_df = full_feat_df.loc[:, : 'artists_name']"
   ]
  },
  {
   "cell_type": "code",
   "execution_count": 9,
   "metadata": {},
   "outputs": [],
   "source": [
    "# rename 'name' column to match 'track name' column in segstat_df\n",
    "feat_df = feat_df.rename(columns={'name': 'track_name'})\n",
    "\n",
    "# update track name column values to match that of in segstat_df\n",
    "\n",
    "# add first 3 characters from artists_name\n",
    "upd_trname = feat_df.track_name + '_' + feat_df.artists_name.apply(lambda x: x[:3])\n",
    "# remove any special characters\n",
    "upd_trname.replace(regex=r'[*|><:\"?/]|\\\\', value='', inplace=True)\n",
    "# find duplicates and add 'dup' to those track names\n",
    "ind = upd_trname[upd_trname.duplicated()].index\n",
    "upd_trname.iloc[ind] = upd_trname.iloc[ind].apply(lambda x: x + '_dup')\n",
    "\n",
    "feat_df['track_name'] = upd_trname"
   ]
  },
  {
   "cell_type": "code",
   "execution_count": 10,
   "metadata": {},
   "outputs": [
    {
     "name": "stdout",
     "output_type": "stream",
     "text": [
      "'playlist',            'timbre_10_max',       'timbre_06_std',      'loudness_topsec1',   'key_07_topsec3',   \n",
      "'danceability',        'timbre_11_max',       'timbre_07_std',      'timbre_01_topsec1',  'key_08_topsec3',   \n",
      "'energy',              'timbre_12_max',       'timbre_08_std',      'timbre_02_topsec1',  'key_09_topsec3',   \n",
      "'loudness',            'timbre_01_mean',      'timbre_09_std',      'timbre_03_topsec1',  'key_10_topsec3',   \n",
      "'speechiness',         'timbre_02_mean',      'timbre_10_std',      'timbre_04_topsec1',  'key_11_topsec3',   \n",
      "'acousticness',        'timbre_03_mean',      'timbre_11_std',      'timbre_05_topsec1',  'key_12_topsec3',   \n",
      "'instrumentalness',    'timbre_04_mean',      'timbre_12_std',      'timbre_06_topsec1',  'loudness_topsec3', \n",
      "'valence',             'timbre_05_mean',      'key_01_topsec0',     'timbre_07_topsec1',  'timbre_01_topsec3',\n",
      "'tempo',               'timbre_06_mean',      'key_02_topsec0',     'timbre_08_topsec1',  'timbre_02_topsec3',\n",
      "'key_0',               'timbre_07_mean',      'key_03_topsec0',     'timbre_09_topsec1',  'timbre_03_topsec3',\n",
      "'key_1',               'timbre_08_mean',      'key_04_topsec0',     'timbre_10_topsec1',  'timbre_04_topsec3',\n",
      "'key_2',               'timbre_09_mean',      'key_05_topsec0',     'timbre_11_topsec1',  'timbre_05_topsec3',\n",
      "'key_3',               'timbre_10_mean',      'key_06_topsec0',     'timbre_12_topsec1',  'timbre_06_topsec3',\n",
      "'key_4',               'timbre_11_mean',      'key_07_topsec0',     'key_01_topsec2',     'timbre_07_topsec3',\n",
      "'key_5',               'timbre_12_mean',      'key_08_topsec0',     'key_02_topsec2',     'timbre_08_topsec3',\n",
      "'key_6',               'timbre_01_min',       'key_09_topsec0',     'key_03_topsec2',     'timbre_09_topsec3',\n",
      "'key_7',               'timbre_02_min',       'key_10_topsec0',     'key_04_topsec2',     'timbre_10_topsec3',\n",
      "'key_8',               'timbre_03_min',       'key_11_topsec0',     'key_05_topsec2',     'timbre_11_topsec3',\n",
      "'key_9',               'timbre_04_min',       'key_12_topsec0',     'key_06_topsec2',     'timbre_12_topsec3',\n",
      "'key_10',              'timbre_05_min',       'loudness_topsec0',   'key_07_topsec2',     'key_01_topsec4',   \n",
      "'key_11',              'timbre_06_min',       'timbre_01_topsec0',  'key_08_topsec2',     'key_02_topsec4',   \n",
      "'track_name',          'timbre_07_min',       'timbre_02_topsec0',  'key_09_topsec2',     'key_03_topsec4',   \n",
      "'artists_name',        'timbre_08_min',       'timbre_03_topsec0',  'key_10_topsec2',     'key_04_topsec4',   \n",
      "'timbre_01_kurtosis',  'timbre_09_min',       'timbre_04_topsec0',  'key_11_topsec2',     'key_05_topsec4',   \n",
      "'timbre_02_kurtosis',  'timbre_10_min',       'timbre_05_topsec0',  'key_12_topsec2',     'key_06_topsec4',   \n",
      "'timbre_03_kurtosis',  'timbre_11_min',       'timbre_06_topsec0',  'loudness_topsec2',   'key_07_topsec4',   \n",
      "'timbre_04_kurtosis',  'timbre_12_min',       'timbre_07_topsec0',  'timbre_01_topsec2',  'key_08_topsec4',   \n",
      "'timbre_05_kurtosis',  'timbre_01_skewness',  'timbre_08_topsec0',  'timbre_02_topsec2',  'key_09_topsec4',   \n",
      "'timbre_06_kurtosis',  'timbre_02_skewness',  'timbre_09_topsec0',  'timbre_03_topsec2',  'key_10_topsec4',   \n",
      "'timbre_07_kurtosis',  'timbre_03_skewness',  'timbre_10_topsec0',  'timbre_04_topsec2',  'key_11_topsec4',   \n",
      "'timbre_08_kurtosis',  'timbre_04_skewness',  'timbre_11_topsec0',  'timbre_05_topsec2',  'key_12_topsec4',   \n",
      "'timbre_09_kurtosis',  'timbre_05_skewness',  'timbre_12_topsec0',  'timbre_06_topsec2',  'loudness_topsec4', \n",
      "'timbre_10_kurtosis',  'timbre_06_skewness',  'key_01_topsec1',     'timbre_07_topsec2',  'timbre_01_topsec4',\n",
      "'timbre_11_kurtosis',  'timbre_07_skewness',  'key_02_topsec1',     'timbre_08_topsec2',  'timbre_02_topsec4',\n",
      "'timbre_12_kurtosis',  'timbre_08_skewness',  'key_03_topsec1',     'timbre_09_topsec2',  'timbre_03_topsec4',\n",
      "'timbre_01_max',       'timbre_09_skewness',  'key_04_topsec1',     'timbre_10_topsec2',  'timbre_04_topsec4',\n",
      "'timbre_02_max',       'timbre_10_skewness',  'key_05_topsec1',     'timbre_11_topsec2',  'timbre_05_topsec4',\n",
      "'timbre_03_max',       'timbre_11_skewness',  'key_06_topsec1',     'timbre_12_topsec2',  'timbre_06_topsec4',\n",
      "'timbre_04_max',       'timbre_12_skewness',  'key_07_topsec1',     'key_01_topsec3',     'timbre_07_topsec4',\n",
      "'timbre_05_max',       'timbre_01_std',       'key_08_topsec1',     'key_02_topsec3',     'timbre_08_topsec4',\n",
      "'timbre_06_max',       'timbre_02_std',       'key_09_topsec1',     'key_03_topsec3',     'timbre_09_topsec4',\n",
      "'timbre_07_max',       'timbre_03_std',       'key_10_topsec1',     'key_04_topsec3',     'timbre_10_topsec4',\n",
      "'timbre_08_max',       'timbre_04_std',       'key_11_topsec1',     'key_05_topsec3',     'timbre_11_topsec4',\n",
      "'timbre_09_max',       'timbre_05_std',       'key_12_topsec1',     'key_06_topsec3',     'timbre_12_topsec4',\n",
      "\n"
     ]
    }
   ],
   "source": [
    "new_df = pd.merge(feat_df, segsecstat_df, how='outer', on=['track_name', 'playlist'])\n",
    "disp_col(new_df.columns)"
   ]
  },
  {
   "cell_type": "code",
   "execution_count": 11,
   "metadata": {},
   "outputs": [],
   "source": [
    "data_df = new_df.drop(['track_name', 'artists_name', 'playlist'], axis=1).values\n",
    "labels = new_df.loc[:, 'playlist'].values\n",
    "enc_labels, categories = rt.encode_label(labels)"
   ]
  },
  {
   "cell_type": "code",
   "execution_count": 12,
   "metadata": {},
   "outputs": [
    {
     "name": "stdout",
     "output_type": "stream",
     "text": [
      " Total number of tracks: 372\n",
      " Total number of categories/playlists: 1\n"
     ]
    }
   ],
   "source": [
    "tot_num = len(data_df)\n",
    "categ = len(categories)\n",
    "print(' Total number of tracks:', tot_num)\n",
    "print(' Total number of categories/playlists:', categ)"
   ]
  },
  {
   "cell_type": "code",
   "execution_count": 13,
   "metadata": {},
   "outputs": [],
   "source": [
    "SEED=17"
   ]
  },
  {
   "cell_type": "code",
   "execution_count": 14,
   "metadata": {},
   "outputs": [],
   "source": [
    "x_train, x_test, y_train, y_test = train_test_split( \\\n",
    "            data_df, enc_labels, test_size = 0.25, stratify=enc_labels, random_state=SEED)"
   ]
  },
  {
   "cell_type": "code",
   "execution_count": 15,
   "metadata": {},
   "outputs": [],
   "source": [
    "def create_classifier(base_model, nodes, dropout=True, new_idx=True):\n",
    "    \n",
    "    def dense_layer(x, nodes_, activation=tf.nn.leaky_relu, dropout=dropout, name_idx=None):\n",
    "    \n",
    "        # define a dense layer section\n",
    "        x = Dense(nodes_, name='dense_{}'.format(name_idx))(x)\n",
    "        x = Activation(activation, name='act_{}'.format(name_idx))(x)\n",
    "        x = BatchNormalization(name='bn_{}'.format(name_idx))(x)\n",
    "        if dropout:\n",
    "            x = Dropout(0.25, name='dropout_{}'.format(name_idx))(x)\n",
    "            \n",
    "        return x\n",
    "    \n",
    "    # classes/playlists in the dataset\n",
    "    classes = len(y_train[0])\n",
    "    \n",
    "    if new_idx:\n",
    "        # create new index for naming layers\n",
    "        idx = int(base_model.layers[-1].name[-1]) + 1\n",
    "    else:\n",
    "        idx = 0\n",
    "    # Create classifier by adding dense layers to the base model\n",
    "    x = dense_layer(base_model.layers[-1].output, nodes[0], activation='tanh', name_idx=idx + 0 )\n",
    "   \n",
    "    for i in range(1, len(nodes)):\n",
    "        x = dense_layer(x, nodes[i], name_idx=idx + i)\n",
    "    \n",
    "    # Set nodes of last dense layer as number of classes\n",
    "    outputs = Dense(classes, activation='softmax', name='dense_{}'.format(idx + len(nodes)))(x)\n",
    "    \n",
    "    # create model\n",
    "    model = Model(inputs=base_model.input, outputs=outputs, name='classifier')\n",
    "    \n",
    "    return  model"
   ]
  },
  {
   "cell_type": "code",
   "execution_count": 16,
   "metadata": {},
   "outputs": [
    {
     "name": "stdout",
     "output_type": "stream",
     "text": [
      "WARNING:tensorflow:From C:\\Users\\Administrator\\Anaconda3\\lib\\site-packages\\tensorflow\\python\\ops\\init_ops.py:97: calling GlorotUniform.__init__ (from tensorflow.python.ops.init_ops) with dtype is deprecated and will be removed in a future version.\n",
      "Instructions for updating:\n",
      "Call initializer instance with the dtype argument instead of passing it to the constructor\n",
      "WARNING:tensorflow:From C:\\Users\\Administrator\\Anaconda3\\lib\\site-packages\\tensorflow\\python\\ops\\init_ops.py:1251: calling VarianceScaling.__init__ (from tensorflow.python.ops.init_ops) with dtype is deprecated and will be removed in a future version.\n",
      "Instructions for updating:\n",
      "Call initializer instance with the dtype argument instead of passing it to the constructor\n",
      "WARNING:tensorflow:From C:\\Users\\Administrator\\Anaconda3\\lib\\site-packages\\tensorflow\\python\\ops\\init_ops.py:97: calling Zeros.__init__ (from tensorflow.python.ops.init_ops) with dtype is deprecated and will be removed in a future version.\n",
      "Instructions for updating:\n",
      "Call initializer instance with the dtype argument instead of passing it to the constructor\n",
      "WARNING:tensorflow:From C:\\Users\\Administrator\\Anaconda3\\lib\\site-packages\\tensorflow\\python\\ops\\init_ops.py:97: calling Ones.__init__ (from tensorflow.python.ops.init_ops) with dtype is deprecated and will be removed in a future version.\n",
      "Instructions for updating:\n",
      "Call initializer instance with the dtype argument instead of passing it to the constructor\n"
     ]
    }
   ],
   "source": [
    "# Load encoder model\n",
    "loaded_enc = keras.models.load_model(filepath=Path(os.getenv('PATH_MODELS')).joinpath('encoder'))\n",
    "    \n",
    "# Freeze and rename all the layers\n",
    "for layer in loaded_enc.layers[:]:\n",
    "    layer.trainable = False\n",
    "    layer._name = str('enc_') + layer.name\n",
    "    \n"
   ]
  },
  {
   "cell_type": "code",
   "execution_count": 25,
   "metadata": {},
   "outputs": [
    {
     "name": "stdout",
     "output_type": "stream",
     "text": [
      "217\n"
     ]
    }
   ],
   "source": [
    "\n",
    "inputlength = len(x_train[0])\n",
    "print(inputlength)\n",
    "inputs = Input(shape=(inputlength,), name='base_input')\n",
    "x = Dense(50, name='base_dense')(inputs)\n",
    "outputs = Activation(tf.nn.leaky_relu, name='base_act')(x)\n",
    "#outputs = BatchNormalization(name='base_bn')(x)\n",
    "\n",
    "basemodel = Model(inputs, outputs, name='base_model')"
   ]
  },
  {
   "cell_type": "code",
   "execution_count": 33,
   "metadata": {},
   "outputs": [],
   "source": [
    "# Set number of units/nodes for the dense layers added in the classifier\n",
    "nodes = [150, 120, 100, 80, 60, 50, 40, 25]\n",
    "# Create model\n",
    "cls_nn = create_classifier(basemodel, nodes, dropout=True, new_idx=False)"
   ]
  },
  {
   "cell_type": "code",
   "execution_count": 34,
   "metadata": {},
   "outputs": [],
   "source": [
    "#cls_nn.summary()"
   ]
  },
  {
   "cell_type": "code",
   "execution_count": 35,
   "metadata": {},
   "outputs": [],
   "source": [
    "opt = tf.keras.optimizers.Adam(0.01)\n",
    "cls_nn.compile(loss='categorical_crossentropy', metrics=['accuracy'], optimizer=opt)"
   ]
  },
  {
   "cell_type": "code",
   "execution_count": 36,
   "metadata": {},
   "outputs": [],
   "source": [
    "BATCH_SIZE = 16\n",
    "TRAIN_STEPS_PER_EPOCH = np.ceil(len(x_train)/ BATCH_SIZE)       #np.ceil(TRAIN_COUNT/BATCH_SIZE)\n",
    "#VAL_STEPS_PER_EPOCH = np.ceil(len(x_val)/BATCH_SIZE)        #np.ceil(VAL_COUNT/BATCH_SIZE)\n",
    "TEST_STEPS = len(x_test)\n",
    "EPOCHS = 1000"
   ]
  },
  {
   "cell_type": "code",
   "execution_count": 37,
   "metadata": {},
   "outputs": [],
   "source": [
    "callback = tf.keras.callbacks.EarlyStopping(monitor='acc', patience=100)\n",
    "result = cls_nn.fit(x_train, y_train,\n",
    "              batch_size=BATCH_SIZE,\n",
    "              verbose=0,\n",
    "              epochs=EPOCHS,\n",
    "              validation_split=0.12,\n",
    "              callbacks=[callback])"
   ]
  },
  {
   "cell_type": "code",
   "execution_count": 38,
   "metadata": {},
   "outputs": [
    {
     "data": {
      "text/plain": [
       "134"
      ]
     },
     "execution_count": 38,
     "metadata": {},
     "output_type": "execute_result"
    }
   ],
   "source": [
    "len(result.history['acc'])"
   ]
  },
  {
   "cell_type": "code",
   "execution_count": 39,
   "metadata": {},
   "outputs": [
    {
     "data": {
      "text/plain": [
       "[0.12653062, 0.14693877, 0.118367344, 0.13469388, 0.14693877]"
      ]
     },
     "execution_count": 39,
     "metadata": {},
     "output_type": "execute_result"
    }
   ],
   "source": [
    "result.history['acc'][-5:]"
   ]
  },
  {
   "cell_type": "code",
   "execution_count": 42,
   "metadata": {},
   "outputs": [
    {
     "data": {
      "text/plain": [
       "[0.11764706, 0.11764706, 0.11764706, 0.1764706, 0.1764706]"
      ]
     },
     "execution_count": 42,
     "metadata": {},
     "output_type": "execute_result"
    }
   ],
   "source": [
    "result.history['val_acc'][-5:]"
   ]
  },
  {
   "cell_type": "code",
   "execution_count": null,
   "metadata": {},
   "outputs": [],
   "source": []
  }
 ],
 "metadata": {
  "kernelspec": {
   "display_name": "Python 3",
   "language": "python",
   "name": "python3"
  },
  "language_info": {
   "codemirror_mode": {
    "name": "ipython",
    "version": 3
   },
   "file_extension": ".py",
   "mimetype": "text/x-python",
   "name": "python",
   "nbconvert_exporter": "python",
   "pygments_lexer": "ipython3",
   "version": "3.7.7"
  }
 },
 "nbformat": 4,
 "nbformat_minor": 4
}
