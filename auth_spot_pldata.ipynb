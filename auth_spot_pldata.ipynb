{
 "cells": [
  {
   "cell_type": "markdown",
   "metadata": {},
   "source": [
    "### Collect data from Spotify API using spotipy library"
   ]
  },
  {
   "cell_type": "code",
   "execution_count": 35,
   "metadata": {},
   "outputs": [],
   "source": [
    "import datetime as dt\n",
    "from dotenv import load_dotenv\n",
    "import json\n",
    "import matplotlib.pyplot as plt\n",
    "import matplotlib.dates as mdates\n",
    "from matplotlib.ticker import FuncFormatter\n",
    "import numpy as np\n",
    "import os\n",
    "import pandas as pd\n",
    "from pandas.io.json import json_normalize\n",
    "from pathlib import Path\n",
    "import re\n",
    "import requests\n",
    "import spotipy\n",
    "import spotipy.util as util\n",
    "\n",
    "%matplotlib inline"
   ]
  },
  {
   "cell_type": "code",
   "execution_count": 36,
   "metadata": {},
   "outputs": [],
   "source": [
    "load_dotenv()\n",
    "CLIENT_ID = os.getenv('CLIENT_ID')\n",
    "CLIENT_SECRET = os.getenv('CLIENT_SECRET')\n",
    "REDIRECT_URI = os.getenv('REDIRECT_URI')\n",
    "USERNAME = os.getenv('SPOTIFY_USERNAME')\n",
    "SCOPE = 'playlist-read-private'"
   ]
  },
  {
   "cell_type": "markdown",
   "metadata": {},
   "source": [
    "Hierachy:\n",
    "- spotipy_userauth\n",
    "- create_dataset > arg(get_folder_analysis)\n",
    "                 > get_playlist_analysis \n",
    "                 > get_segments > arg(extract_tracks_analysis) > arg(extract_tracks)\n",
    "\n",
    "  - get_segments > arg(track_analysis), track_analysis_to_df, convert_time\n",
    "\n",
    "     - track_analysis_to_df > arg(track_analysis) or > extract_track_analysis(arg(track_id))\n",
    "\n",
    "  - extract_track_analysis > arg(tracksid), spotipy.audio_analysis\n",
    "  - extract_tracks > arg(playlist_id), spotipy.playlist_tracks\n",
    "   \n",
    "- Using USER's playlist: get_pl_details >  playlist_id_url > arg(extract_playlists,)\n",
    "\n",
    "   \n",
    "Reduntant - tracks_analysis, track_genre"
   ]
  },
  {
   "cell_type": "code",
   "execution_count": 38,
   "metadata": {},
   "outputs": [],
   "source": [
    "def spotipy_userauth2(username=USERNAME, scope=SCOPE,client_id=CLIENT_ID,\\\n",
    "                      client_secret=CLIENT_SECRET, redirect_uri=REDIRECT_URI):\n",
    "    \n",
    "    '''\n",
    "    Creates authorization token and returns spotipy object. util prompt does not refresh token\n",
    "    and maybe deprecated in future.\n",
    "    '''\n",
    "    \n",
    "    token = util.prompt_for_user_token(username = username, scope=SCOPE,client_id=CLIENT_ID,\\\n",
    "                                       client_secret=CLIENT_SECRET, redirect_uri=REDIRECT_URI)\n",
    "    \n",
    "    sp = spotipy.Spotify(auth=token)\n",
    "    \n",
    "    return sp\n",
    "\n",
    "def spotipy_userauth(username=USERNAME,scope=SCOPE,client_id=CLIENT_ID,\\\n",
    "                     client_secret=CLIENT_SECRET, redirect_uri=REDIRECT_URI):\n",
    "    \n",
    "    '''\n",
    "    Creates authorization token and returns spotipy object. Token automatically refreshes.\n",
    "    '''\n",
    "    username = USERNAME\n",
    "    spotify = spotipy.Spotify(auth_manager=spotipy.SpotifyOAuth(scope=SCOPE,client_id=CLIENT_ID,\\\n",
    "                                       client_secret=CLIENT_SECRET, redirect_uri=REDIRECT_URI))\n",
    "    \n",
    "    return spotify"
   ]
  },
  {
   "cell_type": "code",
   "execution_count": 39,
   "metadata": {},
   "outputs": [],
   "source": [
    "def extract_playlists(spotipyUserAuth, username):\n",
    "    \n",
    "    '''\n",
    "    Extract user's playlists' details\n",
    "    \n",
    "    spotipyUserAuth : spotipy object from 'spotipy_userauth' function.\n",
    "    username : username(string)\n",
    "    \n",
    "    Returns a list of dictionary containing details of individual playlists.\n",
    "    '''\n",
    "    playlists = spotipyUserAuth.user_playlists(username) \n",
    "    playlistsdetails = playlists['items']\n",
    "   \n",
    "    return playlistsdetails "
   ]
  },
  {
   "cell_type": "code",
   "execution_count": 40,
   "metadata": {},
   "outputs": [],
   "source": [
    "def playlists_id_url(playlistsdetails):\n",
    "    \n",
    "    '''\n",
    "    Collects and returns lists of playlist names, IDs, URLs, \n",
    "    and number of tracks present in a playlist\n",
    "    \n",
    "    playlistsdetails : list of dictionary containing details of individual\n",
    "                       playlist. Obtained from spotipy.user_playlists.\n",
    "                       \n",
    "    Returns :  list of playlists' total tracks, url, and ids.\n",
    "    '''\n",
    "    \n",
    "    pl_name = [] # Initiate playlist name list\n",
    "    pl_id = []  # Initiate playlist id list\n",
    "    pl_url = [] # Initiate playlist url list\n",
    "    pltot_tracks = [] # Initiate playlist track count list\n",
    "    \n",
    "    playlistsURL = 'https://api.spotify.com/v1/playlists/'\n",
    "\n",
    "    for i in range(len(playlistsdetails)) : \n",
    "    \n",
    "        current_list = playlistsdetails[i]\n",
    "        \n",
    "        pl_name.append(current_list['name']) \n",
    "        pl_id.append(current_list['id'])\n",
    "        url = playlistsURL + current_list['id'] + '/tracks'\n",
    "        pl_url.append(url) \n",
    "        pltot_tracks.append(current_list['tracks']['total'])\n",
    "    \n",
    "    return pl_name, pl_id, pl_url, pltot_tracks"
   ]
  },
  {
   "cell_type": "code",
   "execution_count": 41,
   "metadata": {},
   "outputs": [],
   "source": [
    "def get_pl_details(sp, username):\n",
    "\n",
    "    pl_details = extract_playlists(sp, username)\n",
    "\n",
    "    pl_name, pl_id, pl_url, pltot_tracks = playlists_id_url(pl_details)\n",
    "\n",
    "    return pl_name, pl_id, pl_url, pltot_tracks"
   ]
  },
  {
   "cell_type": "code",
   "execution_count": 42,
   "metadata": {},
   "outputs": [],
   "source": [
    "def filtersort_playlists(pl_name, pl_id, pl_url, pltot_tracks, key_words = None, start = 0, pl_range = 10):\n",
    "    \n",
    "    '''\n",
    "    Filters playlists based on provided keywords present in the name of the playlists or the \n",
    "    first n playlists present in the range provided.\n",
    "    Sorts ascending by total number of tracks in a playlist.\n",
    "    \n",
    "    playlist name, id, url , total tracks : returned from the 'playlist_id_url' function.\n",
    "    Key_words = list of words (genre/terms). Default None.\n",
    "    pl_range = First 'n' number of playlists. Default 10\n",
    "    \n",
    "    Returns: filtered and sorted list of tuples - \n",
    "             (playlist name, id, url and # of tracks).\n",
    "    '''\n",
    "    \n",
    "    fil_pl_name = []  # Initiate filtered playlist name list\n",
    "    fil_pltot_tracks = []  # Initiate filtered total tracks list\n",
    "    fil_pl_id = []  # Initiate filtered playlist ID list\n",
    "    fil_pl_url = []  # Initiate filtered playlist URL list\n",
    "    \n",
    "    if key_words is not None:\n",
    "    \n",
    "        for i in range(len(pl_name)):\n",
    "    \n",
    "            name = pl_name[i]\n",
    "            if any( word in name for word in key_words):\n",
    "                fil_pl_name.append(name)\n",
    "                fil_pltot_tracks.append(pltot_tracks[i])\n",
    "                fil_pl_id.append(pl_id[i])\n",
    "                fil_pl_url.append(pl_url[i])\n",
    "    else:\n",
    "        \n",
    "        for i in range(start, pl_range):\n",
    "            \n",
    "            fil_pl_name.append(pl_name[i])\n",
    "            fil_pltot_tracks.append(pltot_tracks[i])\n",
    "            fil_pl_id.append(pl_id[i])\n",
    "            fil_pl_url.append(pl_url[i])\n",
    "        \n",
    "        \n",
    "    sorted_pl = sorted(zip(fil_pltot_tracks, fil_pl_name, fil_pl_id, fil_pl_url), reverse = True)\n",
    "    \n",
    "    return sorted_pl\n",
    "    "
   ]
  },
  {
   "cell_type": "code",
   "execution_count": 43,
   "metadata": {},
   "outputs": [],
   "source": [
    "def extract_tracks(spotipyUserAuth, playlist_id, allCol = False, showkeys = False):\n",
    "    \n",
    "    '''\n",
    "    Extract track info of all tracks in a playlist. \n",
    "    \n",
    "    spotipyUserAuth : spotipy object from 'spotipy_userauth' function.\n",
    "    playlist_id : playlist id can be obtained from  'extract_playlists'\n",
    "                  or 'filtersort_playlists' function.\n",
    "    allCol : Default False - Returns a dataframe with only track name and id.\n",
    "             True - Returns a complete dataframe of track details \n",
    "                    with all columns.\n",
    "    \n",
    "    showkeys : Prints all column names/keys of the complete dataframe \n",
    "    \n",
    "    Returns: Dataframe with track info (Default - name and id)\n",
    "    \n",
    "    '''\n",
    "    track_lim = 100\n",
    "    \n",
    "    tracks = spotipyUserAuth.playlist_tracks(playlist_id)\n",
    "    tracks_json = [tracks['items'][j]['track'] for j in range(len(tracks['items']))]\n",
    "    tracks_df = json_normalize(tracks_json, sep ='_')\n",
    "    \n",
    "    if tracks['total'] > track_lim :\n",
    "        offset = track_lim\n",
    "        tracks_dflist = [tracks_df]\n",
    "        \n",
    "        for i in range(int(tracks['total']/track_lim)):\n",
    "            \n",
    "            tracks = spotipyUserAuth.playlist_tracks(playlist_id, offset = (i+1)*offset)\n",
    "            tracks_json = [tracks['items'][j]['track'] for j in range(len(tracks['items']))]\n",
    "            tracks_df_ = json_normalize(tracks_json, sep ='_') \n",
    "            tracks_dflist.append(tracks_df_)\n",
    "    \n",
    "        tracks_df = pd.concat(tracks_dflist, ignore_index = True)\n",
    "\n",
    "    if allCol == False:\n",
    "        df = tracks_df[['name', 'id']]\n",
    "    else:\n",
    "        df = tracks_df\n",
    "        \n",
    "    if showkeys == True:\n",
    "        print('Info keys are :', tracks_df.columns)\n",
    "    \n",
    "    return df\n",
    "    "
   ]
  },
  {
   "cell_type": "code",
   "execution_count": 44,
   "metadata": {},
   "outputs": [],
   "source": [
    "def track_genre(spotipyUserAuth, album_ids):\n",
    "    \n",
    "    '''\n",
    "    spotipyUserAuth : spotipy object from 'spotipy_userauth' function.\n",
    "    album_ids : list of album ids. If a single album id is provided, it needs to be wrapped\n",
    "                in a list.\n",
    "    Returns : List of tuples of Name and Genre of albums\n",
    "    '''\n",
    "   \n",
    "    # To remove any repeating album ids\n",
    "    album_ids = list(set(album_ids))\n",
    "    album_ids.remove(None)\n",
    "    tot_albums = len(album_ids)\n",
    "    print('total albums', tot_albums)\n",
    "    # Limit of number of albums spotipy takes in its method 'albums'\n",
    "    album_lim = 20\n",
    "    \n",
    "    if  tot_albums < album_lim :\n",
    "        # Switch assignment so the next loop runs just once\n",
    "        album_lim = tot_albums\n",
    "        \n",
    "    album_genre = []\n",
    "    end_idx = 0\n",
    "    \n",
    "    \n",
    "    for i in range(int(tot_albums/album_lim)):\n",
    "\n",
    "        start_idx = end_idx\n",
    "        #print('in loop, start at: ',start_idx)\n",
    "        end_idx = start_idx + album_lim\n",
    "        #print('in loop, end at: ',end_idx)\n",
    "        \n",
    "        album_details = spotipyUserAuth.albums(album_ids[start_idx: end_idx])['albums']\n",
    "        [album_genre.append((album_details[j]['name'], album_details[j]['genres'])) \\\n",
    "         for j in range(album_lim) if len(album_details[j]['genres']) != 0 ]\n",
    "\n",
    "        \n",
    "    if tot_albums%album_lim != 0:\n",
    "        \n",
    "        album_details = spotipyUserAuth.albums(album_ids[end_idx:])['albums']\n",
    "        [album_genre.append((album_details[j]['name'], album_details[j]['genres'])) \\\n",
    "         for j in range(len(album_ids[end_idx:])) if len(album_details[j]['genres']) != 0 ]\n",
    "            \n",
    "    return album_genre"
   ]
  },
  {
   "cell_type": "code",
   "execution_count": 45,
   "metadata": {},
   "outputs": [],
   "source": [
    "def extract_tracks_analysis(spotipyUserAuth, tracksid, showkeys = False):\n",
    "    \n",
    "    '''\n",
    "    spotipyUserAuth : spotipy object from 'spotipy_userauth' function.\n",
    "    trackids : list of track ids.\n",
    "    showkeys : Default False - prints dictionary keys\n",
    "    returns : list of dictionaries containing track analysis\n",
    "    '''\n",
    "    tracks_analysis = [spotipyUserAuth.audio_analysis(tracksid[j]) \\\n",
    "                      for j in range(len(tracksid))]\n",
    "    \n",
    "    if showkeys == True:\n",
    "        print(tracks_analysis[0].keys())\n",
    "    \n",
    "    return tracks_analysis"
   ]
  },
  {
   "cell_type": "code",
   "execution_count": 46,
   "metadata": {},
   "outputs": [],
   "source": [
    "def track_anlaysis_to_df(trackid = None, spotipyUserAuth = None,\\\n",
    "                      track_analysis = None):\n",
    "    \n",
    "    '''\n",
    "    Convert track analysis dictionaries into dateframes- beats, bars, segments and sections.\n",
    "    \n",
    "    trackid : Spotify track id\n",
    "    spotipyUserAuth : Spotipy auth object. Required if using track id\n",
    "    track_analysis : Track analysis dictionary of a single track if trackid is not provided\n",
    "    \n",
    "    Returns : track overview (dictionary) and dataframes of beats, \n",
    "              bars, segments and sections\n",
    "    '''\n",
    "    \n",
    "    if trackid is not None:\n",
    "        if spotipyUserAuth is None:\n",
    "            raise TypeError('Need spotipy authorized object')\n",
    "            \n",
    "        track_analysis = extract_tracks_analysis(spotipyUserAuth, [trackid])[0]\n",
    "    \n",
    "    \n",
    "    trackoverview = track_analysis['track']\n",
    "    # We don't need tatums currently\n",
    "    \n",
    "    beats_df = json_normalize(track_analysis['beats'], sep ='_')\n",
    "    bars_df =  json_normalize(track_analysis['bars'], sep ='_')\n",
    "    segments_df = json_normalize(track_analysis['segments'], sep ='_')\n",
    "    sections_df = json_normalize(track_analysis['sections'], sep ='_')\n",
    "    \n",
    "    return trackoverview, beats_df, bars_df, segments_df, sections_df"
   ]
  },
  {
   "cell_type": "code",
   "execution_count": 47,
   "metadata": {},
   "outputs": [],
   "source": [
    "def convert_time(secs):\n",
    "    ''' COnverts seconds to mins. Format mm:ss \n",
    "    '''\n",
    "    if pd.isna(secs):\n",
    "        return float('NaN')\n",
    "    else:\n",
    "        int_secs = int(secs)\n",
    "        if int_secs is not 0:\n",
    "            milisecs = int(round(secs % int_secs,2) * 100)\n",
    "        else:\n",
    "            milisecs = int(round(secs,2) * 100)\n",
    "\n",
    "        minutes = int(int_secs / 60)\n",
    "        seconds = int_secs % 60\n",
    "\n",
    "        return '{:0>2d}:{:0>2d}:{:0>2d}'.format(minutes,seconds,milisecs)"
   ]
  },
  {
   "cell_type": "code",
   "execution_count": 48,
   "metadata": {},
   "outputs": [],
   "source": [
    "'''\n",
    "def tracks_analysis(spotipyUserAuth, playlist_id):\n",
    "    \n",
    "    \n",
    "    spotipyUserAuth : Spotipy auth object.\n",
    "    playlist_id : playlist id  \n",
    "    *user functions extract_tracks and extract_track_analysis used here.\n",
    "    \n",
    "    Returns : a list of tuples : (name of the track (string), tuple containing trackoverview (dictionary), \n",
    "                            beats_df, bars_df, segments_df, sections_df)\n",
    "\n",
    "    # extract_tracks returns a dataframe\n",
    "    tracks_df = extract_tracks(spotipyUserAuth, playlist_id)\n",
    "    tracks_name = list(tracks_df['name'])\n",
    "    tracks_id = list(tracks_df['id'])\n",
    "    #track_analysis returns a list of dictionary\n",
    "    tracks_analysis_ = extract_tracks_analysis(spotipyUserAuth, tracks_id)\n",
    "    analysis_dict = {}\n",
    "    \n",
    "    for name_, track_analysis in zip(tracks_name, tracks_analysis_):\n",
    "        #trackanalysis = track_analysis_to_df(track_analysis = track_analysis)\n",
    "        analysis_dict[name_] = track_analysis\n",
    "        \n",
    "    return analysis_dict\n",
    "'''"
   ]
  },
  {
   "cell_type": "code",
   "execution_count": 49,
   "metadata": {},
   "outputs": [],
   "source": [
    "def get_segments(track_analysis, segments=True, min_conf=0.5, min_dur=0.25, tempo=True, \\\n",
    "                 sections=False, beats=False, bars=False):\n",
    "    '''\n",
    "    Get segments of tracks on a playlist with conditions on  minimum confidence \n",
    "    and minimum duration of a segment. Since we are currently interested in tempo\n",
    "    of a track we will be returning that value as well.\n",
    "    \n",
    "    trackanalysis: track analysis (dict) of a track (obtained from tracks_analysis dict)\n",
    "    segments: Default True. False if segments dataframe is not needed\n",
    "    min_conf: minimum confidence to include a segment (range 0-1)\n",
    "    min_dur : minimum duration/length in secs to include a segment\n",
    "    tempo: Default True. False if tempo value is not needed\n",
    "    sections: Default False. True if sections dataframe needs to be returned\n",
    "    beats: Default False. True if beats dataframe needs to be returned\n",
    "    bars: Default False. True if bars dataframe needs to be returned\n",
    "    \n",
    "    Returns: (in this order) tempo and segments dataframe (sections_df, beats_df, bars_df  as asked)\n",
    "              of a single track\n",
    "    '''\n",
    "    \n",
    "    trackoverview, beats_df, bars_df, segments_df, sections_df = \\\n",
    "        track_anlaysis_to_df(track_analysis = track_analysis)\n",
    "    \n",
    "    if tempo:\n",
    "        tempo_df = pd.DataFrame({ 'tempo' : [trackoverview['tempo']]})\n",
    "    \n",
    "    # Introducing start_minute column for more readability of start time in min:sec format\n",
    "    start_minute = segments_df['start'].map(convert_time)\n",
    "    segments_df.insert(1,'start_minute', start_minute)\n",
    "    segments_df_ = segments_df[(segments_df['confidence'] > min_conf) & (segments_df['duration'] > min_dur)]\n",
    "    \n",
    "    while len(segments_df_) < 100:\n",
    "        min_conf = min_conf - 0.05\n",
    "        min_dur = min_dur - 0.05\n",
    "        segments_df_ = segments_df[(segments_df['confidence'] > min_conf) & (segments_df['duration'] > min_dur)]\n",
    "    \n",
    "    segments_df_ = segments_df_[['start', 'start_minute', 'duration', 'confidence', 'pitches', 'timbre']]\n",
    "    \n",
    "    # iterating over a boolean mask to collect what to output/return\n",
    "    output = [b for a, b in zip(\\\n",
    "           [tempo, segments, sections, beats, bars],[tempo_df, segments_df_, sections_df, beats_df, bars_df])\\\n",
    "           if  a]\n",
    "    \n",
    "    return output"
   ]
  },
  {
   "cell_type": "code",
   "execution_count": 50,
   "metadata": {},
   "outputs": [],
   "source": [
    "def get_playlist_analysis(spotipyUserAuth, playlist_id, segments=True, min_conf=0.5, \\\n",
    "                          min_dur=0.25, tempo=True, sections=False, beats=False, bars=False):\n",
    "    \n",
    "    '''\n",
    "    spotipyUserAuth : Spotipy auth object.\n",
    "    playlist_id : playlist id\n",
    "    segments and tempo: Default True. False if not needed\n",
    "    min_conf: minimum confidence to include a segment (range 0-1)\n",
    "    min_dur : minimum duration/length in secs to include a segment\n",
    "    sections/beats/bars: Default False. True if needs to be returned\n",
    "    \n",
    "    Returns : a dict with key/value pairs for all tracks in the playlist \n",
    "                Keys: name of track\n",
    "                Value: list containing tempo and segment dataframe of the track \n",
    "                       (and sections/beats/bars if asked)\n",
    "    '''\n",
    "    \n",
    "    tracks_df = extract_tracks(spotipyUserAuth, playlist_id)\n",
    "    tracks_name = list(tracks_df['name'])\n",
    "    tracks_id = list(tracks_df['id'])\n",
    "    #track_analysis returns a list of dictionary\n",
    "    tracks_analysis = extract_tracks_analysis(spotipyUserAuth, tracks_id)\n",
    "    playlist_analysis = {}\n",
    "    \n",
    "    for name_, track_analysis in zip(tracks_name, tracks_analysis):\n",
    "        \n",
    "        # remove any special characters from name (they may cause issues in filenaming)\n",
    "        name_ = re.sub(r'[*|><:\"?/]|\\\\',\"\", name_)\n",
    "        playlist_analysis[name_] = get_segments(track_analysis, segments=segments, \\\n",
    "                                min_conf=min_conf, min_dur=min_dur, tempo=tempo, \\\n",
    "                                sections=sections, beats=beats, bars=bars)\n",
    "    return playlist_analysis"
   ]
  },
  {
   "cell_type": "code",
   "execution_count": 51,
   "metadata": {},
   "outputs": [],
   "source": [
    "def get_folder_analysis(spotipyUserAuth, filsort_pl=None, pl_name_id=None, segments=True, min_conf=0.5, \\\n",
    "                          min_dur=0.25, tempo=True, sections=False, beats=False, bars=False):\n",
    "    \n",
    "    '''\n",
    "    Here, we will be using filtered and sorted output. Future edit should take user \n",
    "    playlist names and id.\n",
    "    \n",
    "    spotipyUserAuth : Spotipy auth object.\n",
    "    \n",
    "    filsort_pl : Default None. Uses 4-tuple output from filtersort_playlist function.\n",
    "    pl_name_id : Dafault None. In the case filsort_pl is not available,\n",
    "                 provide list of playlist name and id tuples\n",
    "    \n",
    "    segments and tempo: Default True. False if not needed\n",
    "    min_conf: minimum confidence to include a segment (range 0-1)\n",
    "    min_dur : minimum duration/length in secs to include a segment\n",
    "    sections/beats/bars: Default False. True if needs to be returned\n",
    "    \n",
    "    Returns: a dict with key/value pairs for all playlists in the folder.\n",
    "             Key : Name of the playlist (string)\n",
    "             Value : a dict of track analysis of all tracks from the playlist \n",
    "             (Values are returned from get_playlist_analysis)\n",
    "    '''\n",
    "    \n",
    "    folder_analysis = {}\n",
    "    \n",
    "    if filsort_pl is not None:\n",
    "        for p in filsort_pl:\n",
    "\n",
    "            # remove any special characters from name (they may cause issues in filenaming)\n",
    "            pl_name = re.sub(r'[*|><:\"?/]|\\\\',\"\", p[1])\n",
    "            folder_analysis[pl_name] = get_playlist_analysis(spotipyUserAuth, playlist_id=p[2],\\\n",
    "                                                        segments=segments, tempo=tempo,\\\n",
    "                                                        min_conf=min_conf, min_dur=min_dur,\\\n",
    "                                                        sections=sections, beats=beats, bars=bars)\n",
    "    else:\n",
    "        for p in pl_name_id:\n",
    "\n",
    "            # remove any special characters from name (they may cause issues in filenaming)\n",
    "            pl_name = re.sub(r'[*|><:\"?/]|\\\\',\"\", p[0])\n",
    "            folder_analysis[pl_name] = get_playlist_analysis(spotipyUserAuth, playlist_id=p[1],\\\n",
    "                                                        segments=segments, tempo=tempo,\\\n",
    "                                                        min_conf=min_conf, min_dur=min_dur,\\\n",
    "                                                        sections=sections, beats=beats, bars=bars)\n",
    "        \n",
    "    return folder_analysis"
   ]
  },
  {
   "cell_type": "code",
   "execution_count": 52,
   "metadata": {},
   "outputs": [],
   "source": [
    "sp = spotipy_userauth(USERNAME)"
   ]
  },
  {
   "cell_type": "code",
   "execution_count": 53,
   "metadata": {},
   "outputs": [
    {
     "name": "stdout",
     "output_type": "stream",
     "text": [
      "[\"Today's Top Hits\", 'Chill Beats Weekly 🦔 groove, relax, study (chill lofi jazzhop)', 'Deeper House', 'Deep house', 'Progressive House', 'Mo House lo Trance', 'Our old school trance 138', 'Our old school trance 3', 'Our old school trance 2', 'Our old school trance', 'That familiar trance', 'Deep Trance', 'Classic progressive', 'Housy beats', 'TBD', 'Chill out', 'Progressive 8', 'Progressive 7', 'Progressive 6', 'Progressive 5.2', 'Progressive 5', 'Progressive 3', 'Progressive 2']\n",
      "[50, 139, 11, 16, 15, 42, 14, 20, 8, 27, 61, 4, 6, 3, 70, 11, 18, 8, 28, 18, 19, 8, 6, 14, 84, 6, 155, 4, 124, 1, 2, 14, 60, 21, 18, 141, 128, 85, 31, 32, 1, 20, 2, 18, 4, 15, 4, 8, 15, 65]\n"
     ]
    }
   ],
   "source": [
    "pl_Name_, pl_ID_, pl_URL_, pltot_Tracks_ = get_pl_details(USERNAME)\n",
    "\n",
    "print(pl_Name_[:23])\n",
    "print(pltot_Tracks_[:])"
   ]
  },
  {
   "cell_type": "code",
   "execution_count": 54,
   "metadata": {},
   "outputs": [
    {
     "data": {
      "text/plain": [
       "[(139,\n",
       "  'Chill Beats Weekly 🦔 groove, relax, study (chill lofi jazzhop)',\n",
       "  '2rN3mSrzUcgjlj1TcEDTX7',\n",
       "  'https://api.spotify.com/v1/playlists/2rN3mSrzUcgjlj1TcEDTX7/tracks'),\n",
       " (70,\n",
       "  'TBD',\n",
       "  '2YjqtjD98B6fGX55JBzybN',\n",
       "  'https://api.spotify.com/v1/playlists/2YjqtjD98B6fGX55JBzybN/tracks'),\n",
       " (61,\n",
       "  'That familiar trance',\n",
       "  '3PH2J5HkKhhMoxWj3W0jk8',\n",
       "  'https://api.spotify.com/v1/playlists/3PH2J5HkKhhMoxWj3W0jk8/tracks'),\n",
       " (42,\n",
       "  'Mo House lo Trance',\n",
       "  '2RnR5cw9kJUc9onu4WSRrW',\n",
       "  'https://api.spotify.com/v1/playlists/2RnR5cw9kJUc9onu4WSRrW/tracks'),\n",
       " (28,\n",
       "  'Progressive 6',\n",
       "  '53kl8WegufR0IqMgyklXEL',\n",
       "  'https://api.spotify.com/v1/playlists/53kl8WegufR0IqMgyklXEL/tracks'),\n",
       " (27,\n",
       "  'Our old school trance',\n",
       "  '7HUclibRF0h57pVvXr3g9v',\n",
       "  'https://api.spotify.com/v1/playlists/7HUclibRF0h57pVvXr3g9v/tracks'),\n",
       " (20,\n",
       "  'Our old school trance 3',\n",
       "  '43sMbiw98RFTH2WjmbTidr',\n",
       "  'https://api.spotify.com/v1/playlists/43sMbiw98RFTH2WjmbTidr/tracks'),\n",
       " (19,\n",
       "  'Progressive 5',\n",
       "  '2IlSKDObaH9jwLJQcqiv2Y',\n",
       "  'https://api.spotify.com/v1/playlists/2IlSKDObaH9jwLJQcqiv2Y/tracks'),\n",
       " (18,\n",
       "  'Progressive 8',\n",
       "  '6tnxSBU9afsgynHpNG6LTA',\n",
       "  'https://api.spotify.com/v1/playlists/6tnxSBU9afsgynHpNG6LTA/tracks'),\n",
       " (18,\n",
       "  'Progressive 5.2',\n",
       "  '2jKIzAiTvF7TATqSMBVkPH',\n",
       "  'https://api.spotify.com/v1/playlists/2jKIzAiTvF7TATqSMBVkPH/tracks'),\n",
       " (16,\n",
       "  'Deep house',\n",
       "  '6aQz1t74RjRrUAK6NcPGcf',\n",
       "  'https://api.spotify.com/v1/playlists/6aQz1t74RjRrUAK6NcPGcf/tracks'),\n",
       " (15,\n",
       "  'Progressive House',\n",
       "  '6hKrOOV3H9ReyytwXq5Y38',\n",
       "  'https://api.spotify.com/v1/playlists/6hKrOOV3H9ReyytwXq5Y38/tracks'),\n",
       " (14,\n",
       "  'Our old school trance 138',\n",
       "  '3QCVw2XlVhh3lobx3Ral6C',\n",
       "  'https://api.spotify.com/v1/playlists/3QCVw2XlVhh3lobx3Ral6C/tracks'),\n",
       " (11,\n",
       "  'Deeper House',\n",
       "  '6WgZISzncCUQXoTdxaJUct',\n",
       "  'https://api.spotify.com/v1/playlists/6WgZISzncCUQXoTdxaJUct/tracks'),\n",
       " (11,\n",
       "  'Chill out',\n",
       "  '7lGP5oce9GePW5h9RPtONC',\n",
       "  'https://api.spotify.com/v1/playlists/7lGP5oce9GePW5h9RPtONC/tracks'),\n",
       " (8,\n",
       "  'Progressive 7',\n",
       "  '15cpk0U6wiqnurY8iiwWOL',\n",
       "  'https://api.spotify.com/v1/playlists/15cpk0U6wiqnurY8iiwWOL/tracks'),\n",
       " (8,\n",
       "  'Progressive 3',\n",
       "  '34FKdpOnWhO1fLsRgrWhEq',\n",
       "  'https://api.spotify.com/v1/playlists/34FKdpOnWhO1fLsRgrWhEq/tracks'),\n",
       " (8,\n",
       "  'Our old school trance 2',\n",
       "  '4LhfHnxLvgTbPT5QU6MAaX',\n",
       "  'https://api.spotify.com/v1/playlists/4LhfHnxLvgTbPT5QU6MAaX/tracks'),\n",
       " (6,\n",
       "  'Progressive 2',\n",
       "  '0PjZ6vUQHTOMeE1TgeJu91',\n",
       "  'https://api.spotify.com/v1/playlists/0PjZ6vUQHTOMeE1TgeJu91/tracks'),\n",
       " (6,\n",
       "  'Classic progressive',\n",
       "  '7k5wrlGBdrXCtAQ1vNGC7J',\n",
       "  'https://api.spotify.com/v1/playlists/7k5wrlGBdrXCtAQ1vNGC7J/tracks'),\n",
       " (4,\n",
       "  'Deep Trance',\n",
       "  '4bfyTcpK4vexdikKdjeAFO',\n",
       "  'https://api.spotify.com/v1/playlists/4bfyTcpK4vexdikKdjeAFO/tracks'),\n",
       " (3,\n",
       "  'Housy beats',\n",
       "  '1EcZw6r8s2PW3gB2UYOk82',\n",
       "  'https://api.spotify.com/v1/playlists/1EcZw6r8s2PW3gB2UYOk82/tracks')]"
      ]
     },
     "execution_count": 54,
     "metadata": {},
     "output_type": "execute_result"
    }
   ],
   "source": [
    "key_words = ['Progressive']\n",
    "filsort_pl = filtersort_playlists(pl_Name_, pl_ID_, pl_URL_, pltot_Tracks_, start = 1, pl_range = 23)\n",
    "filsort_pl"
   ]
  },
  {
   "cell_type": "code",
   "execution_count": 55,
   "metadata": {},
   "outputs": [],
   "source": [
    "#folder_analysis_dict = get_folder_analysis(sp, filsort_pl[2:-2])"
   ]
  },
  {
   "cell_type": "code",
   "execution_count": 56,
   "metadata": {},
   "outputs": [],
   "source": [
    "#folder_analysis_dict.keys()"
   ]
  },
  {
   "cell_type": "code",
   "execution_count": 57,
   "metadata": {},
   "outputs": [],
   "source": [
    "#folder_analysis_dict['That familiar trance'].keys()"
   ]
  },
  {
   "cell_type": "code",
   "execution_count": 58,
   "metadata": {},
   "outputs": [],
   "source": [
    "#folder_analysis_dict['That familiar trance']['Kunai - Radio Edit'][1]"
   ]
  },
  {
   "cell_type": "code",
   "execution_count": 59,
   "metadata": {},
   "outputs": [],
   "source": [
    "def create_dataset(folder_analysis):\n",
    "    '''\n",
    "    Creates folders for each playlist, subfolders for all tracks in a playlist folder\n",
    "    and track analysis dataframes as parquet files\n",
    "    '''\n",
    "    \n",
    "    # Path to 'Dataset' dir\n",
    "    p = Path.cwd().parent.joinpath('Dataset')\n",
    "    # list of dataframe names in output \n",
    "    df_names = ['tempo', 'segments', 'sections', 'beats', 'bars']\n",
    "    \n",
    "    for fn, i in folder_analysis.items():\n",
    "        \n",
    "        path_ = p.joinpath('{}'.format(fn))\n",
    "        path_.mkdir(exist_ok=True) \n",
    "        \n",
    "        for track, j in i.items():\n",
    "            \n",
    "            for k in range(len(j)):\n",
    "            \n",
    "                j[k].to_parquet(path_.joinpath('{}_{}.parquet'.format(track,df_names[k])), engine = 'pyarrow')\n",
    "        "
   ]
  },
  {
   "cell_type": "code",
   "execution_count": 60,
   "metadata": {},
   "outputs": [],
   "source": [
    "#create_dataset(folder_analysis_dict)"
   ]
  },
  {
   "cell_type": "code",
   "execution_count": 61,
   "metadata": {},
   "outputs": [
    {
     "data": {
      "text/plain": [
       "\"\\ndict_sampl_ =list(folder_analysis_dict.items())[-2:]\\ndict_sample ={ dict_sampl_[0][0] : dict_sampl_[0][1], dict_sampl_[1][0] : dict_sampl_[1][1] }\\ndict_sample['Classic progressive']['Skylarking - Original Mix'][0]\\n\""
      ]
     },
     "execution_count": 61,
     "metadata": {},
     "output_type": "execute_result"
    }
   ],
   "source": [
    "\"\"\"\n",
    "dict_sampl_ =list(folder_analysis_dict.items())[-2:]\n",
    "dict_sample ={ dict_sampl_[0][0] : dict_sampl_[0][1], dict_sampl_[1][0] : dict_sampl_[1][1] }\n",
    "dict_sample['Classic progressive']['Skylarking - Original Mix'][0]\n",
    "\"\"\""
   ]
  },
  {
   "cell_type": "code",
   "execution_count": 62,
   "metadata": {},
   "outputs": [],
   "source": [
    "def uri_to_id(uri_list):\n",
    "    '''\n",
    "    Parses ID from playlist URI and returns list of playlists' ID.\n",
    "    Playlist IDs get fed into extract_tracks or tracks_analysis\n",
    "    \n",
    "    URI_list : list of playlist URIs\n",
    "    returns : playlists' ID list\n",
    "    '''\n",
    "    id_list = [uri_list[i].split(':')[-1] for i in range(len(uri_list))]\n",
    "    \n",
    "    return id_list"
   ]
  },
  {
   "cell_type": "code",
   "execution_count": 63,
   "metadata": {},
   "outputs": [
    {
     "data": {
      "text/plain": [
       "['37i9dQZF1E3adH2woxCiuA', '37i9dQZF1E39zk9HFlqqXb', '37i9dQZF1E35s2CYBuY9kz']"
      ]
     },
     "execution_count": 63,
     "metadata": {},
     "output_type": "execute_result"
    }
   ],
   "source": [
    "URI_list = ['spotify:playlist:37i9dQZF1E3adH2woxCiuA', 'spotify:playlist:37i9dQZF1E39zk9HFlqqXb', \\\n",
    "            'spotify:playlist:37i9dQZF1E35s2CYBuY9kz','spotify:playlist:37i9dQZF1DXbtYAdenGE9U',\\\n",
    "            'spotify:playlist:37i9dQZF1DWTiVLKoHQ1yC']\n",
    "x = uri_to_id(URI_list)\n",
    "x"
   ]
  },
  {
   "cell_type": "code",
   "execution_count": 64,
   "metadata": {},
   "outputs": [
    {
     "data": {
      "text/plain": [
       "[('0', '37i9dQZF1E3adH2woxCiuA'),\n",
       " ('1', '37i9dQZF1E39zk9HFlqqXb'),\n",
       " ('2', '37i9dQZF1E35s2CYBuY9kz')]"
      ]
     },
     "execution_count": 64,
     "metadata": {},
     "output_type": "execute_result"
    }
   ],
   "source": [
    "pl_nameid = [(str(i), x[i]) for i in range(len(x))]\n",
    "pl_nameid"
   ]
  },
  {
   "cell_type": "code",
   "execution_count": 65,
   "metadata": {
    "scrolled": true
   },
   "outputs": [
    {
     "name": "stderr",
     "output_type": "stream",
     "text": [
      "C:\\Users\\Administrator\\Anaconda3\\lib\\site-packages\\ipykernel_launcher.py:22: FutureWarning: pandas.io.json.json_normalize is deprecated, use pandas.json_normalize instead\n",
      "C:\\Users\\Administrator\\Anaconda3\\lib\\site-packages\\ipykernel_launcher.py:25: FutureWarning: pandas.io.json.json_normalize is deprecated, use pandas.json_normalize instead\n",
      "C:\\Users\\Administrator\\Anaconda3\\lib\\site-packages\\ipykernel_launcher.py:26: FutureWarning: pandas.io.json.json_normalize is deprecated, use pandas.json_normalize instead\n",
      "C:\\Users\\Administrator\\Anaconda3\\lib\\site-packages\\ipykernel_launcher.py:27: FutureWarning: pandas.io.json.json_normalize is deprecated, use pandas.json_normalize instead\n",
      "C:\\Users\\Administrator\\Anaconda3\\lib\\site-packages\\ipykernel_launcher.py:28: FutureWarning: pandas.io.json.json_normalize is deprecated, use pandas.json_normalize instead\n"
     ]
    }
   ],
   "source": [
    "folder_analysis_dict2 = get_folder_analysis(sp, pl_name_id=pl_nameid)"
   ]
  },
  {
   "cell_type": "code",
   "execution_count": 70,
   "metadata": {},
   "outputs": [
    {
     "data": {
      "text/plain": [
       "dict_keys(['Just As You Are', 'Northern Soul', 'Lounging By The Sea - Album Mix', 'Empire Of Hearts', 'Overtones - Extended Mix', 'R We Ever Gonna Be - Original Mix', 'Am I On Your Mind - Original Mix', 'Borrow Love - Original Mix', 'CDMX', 'Hero', 'Fractal', 'Rotunda - Official Radio Edit', 'Duality', 'Lost Signal', 'Kick Off (ASOT 954)', 'Sci-Fi', 'After The Rain - Club Mix', 'Black Hole', 'Mordecai', 'It Could Be', 'Lost - Chillout Mix', 'Let The Light Shine In - Crusy & Jose de Mara Remix', 'The Sense Of Ease - Original Mix', 'Golden Sky - Sons of Maria Remix', 'Feels Good (feat. HanLei)', '4 Elements', 'Sinner', 'North Star', 'Playing With Fire - C-Systems Acoustic Rework', 'People Come, People Go - Chillout Mix', 'Burned With Desire - Rising Star Vocal Mix', 'The Air I Breathe', 'Jetlag - Ben Gold & Allen Watts Remix', 'White Sand - Chillout Mix', \"J'ai Envie De Toi\", 'Celeste (ABGT266)', 'The Phuture (Mixed)', 'Ave Maria', 'Need You', 'A Perfect Day in Tulum', 'Rebirth - Ahmed Romel Remix', 'Galaxy', 'Polaris (ASOT 962)', 'Dapple', 'Clear Blue Moon', 'Mojave', 'To The Sky - Acoustic Mix', 'The Love You Feel - Matan Caspi Remix', 'Boxed Out', 'Sunday Morning 2.8 - Acoustic Version'])"
      ]
     },
     "execution_count": 70,
     "metadata": {},
     "output_type": "execute_result"
    }
   ],
   "source": [
    "folder_analysis_dict2['1'].keys()"
   ]
  },
  {
   "cell_type": "code",
   "execution_count": null,
   "metadata": {},
   "outputs": [],
   "source": [
    "folder_analysis_dict2['1']['Just As You Are']"
   ]
  }
 ],
 "metadata": {
  "kernelspec": {
   "display_name": "Python 3",
   "language": "python",
   "name": "python3"
  },
  "language_info": {
   "codemirror_mode": {
    "name": "ipython",
    "version": 3
   },
   "file_extension": ".py",
   "mimetype": "text/x-python",
   "name": "python",
   "nbconvert_exporter": "python",
   "pygments_lexer": "ipython3",
   "version": "3.7.7"
  }
 },
 "nbformat": 4,
 "nbformat_minor": 4
}
