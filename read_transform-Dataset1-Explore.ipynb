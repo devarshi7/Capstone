{
 "cells": [
  {
   "cell_type": "code",
   "execution_count": 1,
   "metadata": {},
   "outputs": [],
   "source": [
    "%load_ext autoreload"
   ]
  },
  {
   "cell_type": "code",
   "execution_count": 2,
   "metadata": {},
   "outputs": [],
   "source": [
    "#from cap_package import SpotipyCollectPub as scp\n",
    "from cap_package import ReadTransform as rt\n",
    "from datetime import datetime\n",
    "from dotenv import load_dotenv\n",
    "import pandas as pd\n",
    "import numpy as np\n",
    "import os\n",
    "from pathlib import Path"
   ]
  },
  {
   "cell_type": "code",
   "execution_count": 3,
   "metadata": {},
   "outputs": [],
   "source": [
    "%autoreload 2"
   ]
  },
  {
   "cell_type": "code",
   "execution_count": 4,
   "metadata": {},
   "outputs": [],
   "source": [
    "from IPython.utils.text import columnize\n",
    "def disp_col(list_):\n",
    "    \n",
    "    # import -> from IPython.utils.text import columnize\n",
    "    l = list(map(lambda x:repr(x)+',', list_))\n",
    "    print(columnize(l, displaywidth=120))\n",
    "def timer(start_time=None):\n",
    "    if start_time is not None:\n",
    "        return (datetime.now() - start_time).total_seconds()\n",
    "    else:\n",
    "        start_time = datetime.now()\n",
    "        return start_time"
   ]
  },
  {
   "cell_type": "code",
   "execution_count": 5,
   "metadata": {},
   "outputs": [],
   "source": [
    "load_dotenv()\n",
    "path = Path(os.getenv('PATH_DATASET1.2'))"
   ]
  },
  {
   "cell_type": "code",
   "execution_count": 6,
   "metadata": {},
   "outputs": [],
   "source": [
    "timbre_ = ['timbre_{}'.format(i+1) for i in range(12)]\n",
    "pitch_ = ['pitch_{}'.format(i+1) for i in range(12)]"
   ]
  },
  {
   "cell_type": "code",
   "execution_count": 7,
   "metadata": {},
   "outputs": [
    {
     "name": "stdout",
     "output_type": "stream",
     "text": [
      "Number of playlists: 13\n"
     ]
    }
   ],
   "source": [
    "# Read dataset\n",
    "\n",
    "path_ = path.joinpath('user_playlists')\n",
    "pl_dataset = rt.read_dataset(path_)\n",
    "\n",
    "print('Number of playlists:', len(pl_dataset))"
   ]
  },
  {
   "cell_type": "code",
   "execution_count": 8,
   "metadata": {},
   "outputs": [
    {
     "name": "stdout",
     "output_type": "stream",
     "text": [
      "\n",
      "Following playlists are in the dataset:\n",
      "\n",
      "'Progressive 3',          'That familiar trance',     'Progressive 5',  'Progressive House',          'Progressive 4',\n",
      "'Our old school trance',  'Our old school trance 2',  'Progressive 2',  'Deep house',               \n",
      "'House-Trance',           'Classic progressive',      'Progressive 1',  'Our old school trance 138',\n",
      "\n"
     ]
    }
   ],
   "source": [
    "# create data label list from playlist names\n",
    "data_labels = []\n",
    "\n",
    "for pl in pl_dataset:\n",
    "   \n",
    "    # extract playlist name\n",
    "    name_ = pl[0] \n",
    "    # Number of tracks in this playlist\n",
    "    num = len(pl[1]) \n",
    "    # create same labels for all tracks in this playlist\n",
    "    # add to dataset labels\n",
    "    data_labels += [name_] * len(pl[1])\n",
    "\n",
    "print('\\nFollowing playlists are in the dataset:\\n')\n",
    "disp_col(set(data_labels))"
   ]
  },
  {
   "cell_type": "code",
   "execution_count": 9,
   "metadata": {},
   "outputs": [],
   "source": [
    "# spilt columns for pitch and timbre vectors in segment dataframes\n",
    "# Make separate list of track names and updated segments dataframes\n",
    "tracks_name = []\n",
    "tracks_seg = []\n",
    "for pl in pl_dataset:\n",
    "    \n",
    "        for track in pl[1]:\n",
    "            tracks_name.append(track[0])\n",
    "            tracks_seg.append(rt.split_columns(track[1], pitch_cols=pitch_, timbre_cols=timbre_, ))"
   ]
  },
  {
   "cell_type": "code",
   "execution_count": 10,
   "metadata": {},
   "outputs": [],
   "source": [
    "# remove any commas in track names; we will be using ',' as the delimiter for saving names in a csv\n",
    "for i in range(len(tracks_name)):\n",
    "    \n",
    "    tracks_name[i] = tracks_name[i].replace(',', '')"
   ]
  },
  {
   "cell_type": "code",
   "execution_count": 11,
   "metadata": {},
   "outputs": [
    {
     "name": "stdout",
     "output_type": "stream",
     "text": [
      "all good..............\n"
     ]
    }
   ],
   "source": [
    "if len(tracks_name) == len(tracks_seg) == len(data_labels):\n",
    "    print(\"all good..............\")"
   ]
  },
  {
   "cell_type": "code",
   "execution_count": 12,
   "metadata": {},
   "outputs": [],
   "source": [
    "# Check for null values in segments dataframe\n",
    "\n",
    "nulls_in = []\n",
    "for i in  range(len(tracks_seg)):\n",
    "    n = tracks_seg[i].isnull().sum().sum()\n",
    "    if n > 0:\n",
    "        nulls_in.append(i)"
   ]
  },
  {
   "cell_type": "code",
   "execution_count": 15,
   "metadata": {},
   "outputs": [],
   "source": [
    "dfs =[]\n",
    "for t in pl_dataset[0][1]:\n",
    "    dfs.append(t[1])"
   ]
  },
  {
   "cell_type": "code",
   "execution_count": 16,
   "metadata": {},
   "outputs": [
    {
     "data": {
      "text/plain": [
       "'2 Roads [Mix Cut] - Blood Groove & Kikis Remix_Tre'"
      ]
     },
     "execution_count": 16,
     "metadata": {},
     "output_type": "execute_result"
    }
   ],
   "source": [
    "tracks_name[0]"
   ]
  },
  {
   "cell_type": "code",
   "execution_count": 58,
   "metadata": {},
   "outputs": [
    {
     "data": {
      "text/plain": [
       "array([ 8, 11, 10,  9,  5,  0,  4,  1,  3,  7,  6,  2], dtype=int64)"
      ]
     },
     "execution_count": 58,
     "metadata": {},
     "output_type": "execute_result"
    }
   ],
   "source": [
    "np.argsort(np.argsort(dfs[0]['pitches'][16]))"
   ]
  },
  {
   "cell_type": "code",
   "execution_count": 68,
   "metadata": {},
   "outputs": [],
   "source": [
    "top_pitches = []\n",
    "for df in dfs:\n",
    "    mask_ = df['pitches'].map(lambda x: np.argsort(np.argsort(x))>6)\n",
    "    \n",
    "    mask_ = pd.DataFrame(mask_.tolist(), index=mask_.index)\n",
    "    \n",
    "    top_pitches.append(np.argsort(np.argsort(np.array(mask_.sum(axis=0)))))"
   ]
  },
  {
   "cell_type": "code",
   "execution_count": 69,
   "metadata": {},
   "outputs": [
    {
     "data": {
      "text/plain": [
       "[array([ 7, 11,  9, 10,  2,  6,  4,  0,  1,  8,  5,  3], dtype=int64),\n",
       " array([ 1, 11,  2,  8,  0,  4,  9,  6, 10,  5,  7,  3], dtype=int64),\n",
       " array([ 9,  4,  6,  0, 11,  1,  2,  3,  7, 10,  5,  8], dtype=int64),\n",
       " array([11, 10,  1,  2,  5,  7,  6,  8,  9,  0,  4,  3], dtype=int64),\n",
       " array([10,  8,  9,  4,  6,  2,  0,  5,  3,  7,  1, 11], dtype=int64),\n",
       " array([11,  9,  8,  3,  4,  5,  0,  6,  2,  7,  1, 10], dtype=int64),\n",
       " array([11,  1,  2,  3, 10,  5,  9,  6,  8,  4,  0,  7], dtype=int64),\n",
       " array([10, 11,  7,  9,  5,  8,  0,  3,  2,  6,  1,  4], dtype=int64),\n",
       " array([ 8,  9,  5,  2,  1,  7, 11,  4,  3,  0,  6, 10], dtype=int64),\n",
       " array([ 7,  2,  3,  1, 10,  5,  6,  9,  4,  8,  0, 11], dtype=int64),\n",
       " array([ 9, 11,  5,  2,  1,  0,  7,  4,  8,  6,  3, 10], dtype=int64),\n",
       " array([ 8, 11,  1,  2,  0, 10,  7,  5,  6,  3,  9,  4], dtype=int64),\n",
       " array([ 3,  1,  5,  7,  0,  9,  2, 11,  4,  8, 10,  6], dtype=int64),\n",
       " array([ 9, 10,  6,  8,  7,  5,  3,  4,  0,  1,  2, 11], dtype=int64),\n",
       " array([11,  8, 10,  4,  7,  9,  1,  2,  0,  6,  3,  5], dtype=int64),\n",
       " array([11,  9,  2,  8,  7, 10,  4,  3,  6,  0,  1,  5], dtype=int64),\n",
       " array([10,  9, 11,  5,  7,  6,  2,  3,  0,  4,  1,  8], dtype=int64),\n",
       " array([10, 11,  7,  4,  6,  1,  3,  5,  8,  0,  2,  9], dtype=int64),\n",
       " array([ 7, 11,  8,  6,  5,  2,  3,  1,  4,  9,  0, 10], dtype=int64),\n",
       " array([ 8, 11,  7,  6,  5,  2,  3,  1,  9,  4,  0, 10], dtype=int64),\n",
       " array([11, 10,  4,  5,  8,  9,  6,  2,  3,  0,  1,  7], dtype=int64),\n",
       " array([ 8,  9, 10, 11,  6,  3,  4,  1,  2,  0,  5,  7], dtype=int64),\n",
       " array([10,  6,  7,  8,  0,  2,  4, 11,  5,  1,  3,  9], dtype=int64),\n",
       " array([ 7, 10, 11,  3,  5,  0,  6,  4,  2,  8,  1,  9], dtype=int64),\n",
       " array([11,  9,  7,  6,  8, 10,  5,  1,  2,  0,  3,  4], dtype=int64),\n",
       " array([ 6, 10,  7,  5,  3,  2,  8,  0,  1,  9,  4, 11], dtype=int64),\n",
       " array([11,  9, 10,  8,  5,  2,  0,  1,  3,  7,  4,  6], dtype=int64),\n",
       " array([11,  2,  3,  5, 10,  8,  4,  7,  1,  6,  0,  9], dtype=int64),\n",
       " array([ 9, 11, 10,  7,  5,  3,  4,  1,  6,  0,  2,  8], dtype=int64),\n",
       " array([ 8, 10, 11,  7,  1,  2,  3,  9,  0,  5,  6,  4], dtype=int64),\n",
       " array([11, 10,  8,  7,  1,  4,  3,  5,  6,  2,  0,  9], dtype=int64),\n",
       " array([10, 11,  2,  6,  0,  8,  3,  1,  5,  4,  9,  7], dtype=int64),\n",
       " array([ 4,  7,  9,  0,  2,  1,  8, 10,  5,  6,  3, 11], dtype=int64),\n",
       " array([ 4,  0,  5,  1,  8,  7, 10, 11,  9,  3,  2,  6], dtype=int64),\n",
       " array([ 8,  7, 11,  1,  0,  5,  9, 10,  6,  4,  2,  3], dtype=int64)]"
      ]
     },
     "execution_count": 69,
     "metadata": {},
     "output_type": "execute_result"
    }
   ],
   "source": [
    "top_pitches"
   ]
  },
  {
   "cell_type": "code",
   "execution_count": null,
   "metadata": {},
   "outputs": [],
   "source": []
  },
  {
   "cell_type": "code",
   "execution_count": null,
   "metadata": {},
   "outputs": [],
   "source": [
    "# Make a mins list and a max list of timbre elements of each track\n",
    "\n",
    "timbre_mins = []\n",
    "timbre_maxs = []\n",
    "\n",
    "for tr_seg in tracks_seg:\n",
    "    \n",
    "    min_ , max_ = rt.timbre_minmax_tr(tr_seg)\n",
    "    timbre_mins.append(min_)\n",
    "    timbre_maxs.append(max_)"
   ]
  },
  {
   "cell_type": "code",
   "execution_count": null,
   "metadata": {},
   "outputs": [],
   "source": []
  },
  {
   "cell_type": "code",
   "execution_count": null,
   "metadata": {},
   "outputs": [],
   "source": [
    "# Evaluate population min and max of timbre elements\n",
    "\n",
    "pop_timbre_min, pop_timbre_max = rt.pop_timbre_minmax(timbre_mins, timbre_maxs)"
   ]
  },
  {
   "cell_type": "code",
   "execution_count": null,
   "metadata": {},
   "outputs": [],
   "source": [
    "if len(timbre_mins) == len(timbre_maxs):\n",
    "    print('Total number of tracks : ', len(timbre_mins))\n",
    "\n",
    "if nulls_in:\n",
    "    print('\\nCheck \"nulls_in\" to see which tracks have missing values')\n",
    "else:\n",
    "    print('\\nThere are no missing values in the dataset')\n",
    "    \n",
    "print('\\nMinimum of timbre vec values for a sample track :\\n ', timbre_mins[0])   \n",
    "print('\\nMaximum of timbre vec values for a sample track :\\n ', timbre_maxs[0]) \n",
    "\n",
    "print('\\nMinimums of timbre values over the whole dataset: \\n{}'.format(pop_timbre_min))\n",
    "print('\\nMaximums of timbre values over the whole dataset: \\n{}'.format(pop_timbre_max))"
   ]
  },
  {
   "cell_type": "code",
   "execution_count": null,
   "metadata": {},
   "outputs": [],
   "source": [
    "data_arrays = rt.transform_dataset(tracks_seg, pop_timbre_min, pop_timbre_max, num_seg=100, bin_num=10)"
   ]
  },
  {
   "cell_type": "code",
   "execution_count": null,
   "metadata": {},
   "outputs": [],
   "source": [
    "print('Number of tracks :', len(data_arrays))\n",
    "print('Length of an input array :', len(data_arrays[0]))\n",
    "print('First 100 elements of a sample input array :\\n')\n",
    "disp_col(list(data_arrays[0][:100]))"
   ]
  },
  {
   "cell_type": "code",
   "execution_count": null,
   "metadata": {},
   "outputs": [],
   "source": [
    "data_y, categories = rt.encode_label(data_labels)"
   ]
  },
  {
   "cell_type": "code",
   "execution_count": null,
   "metadata": {},
   "outputs": [],
   "source": [
    "categories"
   ]
  },
  {
   "cell_type": "code",
   "execution_count": null,
   "metadata": {},
   "outputs": [],
   "source": [
    "data = [i for i in zip(data_arrays, data_y)]"
   ]
  },
  {
   "cell_type": "code",
   "execution_count": null,
   "metadata": {},
   "outputs": [],
   "source": [
    "#p = path.joinpath('usertracks_csv')\n",
    "np.savetxt(p.joinpath('track_names.csv'), tracks_name, fmt='%s', delimiter = ',')\n",
    "np.savetxt(p.joinpath('label_categories.csv'), categories, fmt='%s', delimiter = ',')"
   ]
  },
  {
   "cell_type": "code",
   "execution_count": null,
   "metadata": {},
   "outputs": [],
   "source": [
    "#p1 = p.joinpath('track_arrays') \n",
    "for t in range(len(data)):\n",
    "    np.savetxt(p1.joinpath('track_inp_{}.csv'.format(t)), data[t][0], fmt='%+10.3f', delimiter = ',')\n",
    "    \n",
    "#p2 = p.joinpath('track_labels') \n",
    "for t in range(len(data)):\n",
    "    np.savetxt(p2.joinpath('track_lab_{}.csv'.format(t)), data[t][1], fmt='%1.1f', delimiter = ',')\n"
   ]
  },
  {
   "cell_type": "code",
   "execution_count": null,
   "metadata": {},
   "outputs": [],
   "source": []
  }
 ],
 "metadata": {
  "kernelspec": {
   "display_name": "Python 3",
   "language": "python",
   "name": "python3"
  },
  "language_info": {
   "codemirror_mode": {
    "name": "ipython",
    "version": 3
   },
   "file_extension": ".py",
   "mimetype": "text/x-python",
   "name": "python",
   "nbconvert_exporter": "python",
   "pygments_lexer": "ipython3",
   "version": "3.7.7"
  }
 },
 "nbformat": 4,
 "nbformat_minor": 2
}
