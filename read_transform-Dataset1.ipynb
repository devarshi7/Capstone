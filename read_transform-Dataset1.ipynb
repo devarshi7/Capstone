{
 "cells": [
  {
   "cell_type": "code",
   "execution_count": 1,
   "metadata": {},
   "outputs": [],
   "source": [
    "%load_ext autoreload"
   ]
  },
  {
   "cell_type": "code",
   "execution_count": 2,
   "metadata": {},
   "outputs": [],
   "source": [
    "#from cap_package import SpotipyCollectPub as scp\n",
    "from cap_package import ReadTransform as rt\n",
    "from datetime import datetime\n",
    "from dotenv import load_dotenv\n",
    "import numpy as np\n",
    "import os\n",
    "from pathlib import Path"
   ]
  },
  {
   "cell_type": "code",
   "execution_count": 3,
   "metadata": {},
   "outputs": [],
   "source": [
    "%autoreload 2"
   ]
  },
  {
   "cell_type": "code",
   "execution_count": 4,
   "metadata": {},
   "outputs": [],
   "source": [
    "from IPython.utils.text import columnize\n",
    "def disp_col(list_):\n",
    "    \n",
    "    # import -> from IPython.utils.text import columnize\n",
    "    l = list(map(lambda x:repr(x)+',', list_))\n",
    "    print(columnize(l, displaywidth=120))\n",
    "def timer(start_time=None):\n",
    "    if start_time is not None:\n",
    "        return (datetime.now() - start_time).total_seconds()\n",
    "    else:\n",
    "        start_time = datetime.now()\n",
    "        return start_time"
   ]
  },
  {
   "cell_type": "code",
   "execution_count": 5,
   "metadata": {},
   "outputs": [],
   "source": [
    "load_dotenv()\n",
    "path = Path(os.getenv('PATH_DATASET1.2'))"
   ]
  },
  {
   "cell_type": "code",
   "execution_count": 6,
   "metadata": {},
   "outputs": [],
   "source": [
    "timbre_ = ['timbre_{}'.format(i+1) for i in range(12)]\n",
    "pitch_ = ['pitch_{}'.format(i+1) for i in range(12)]"
   ]
  },
  {
   "cell_type": "code",
   "execution_count": 7,
   "metadata": {},
   "outputs": [
    {
     "name": "stdout",
     "output_type": "stream",
     "text": [
      "Number of playlists: 13\n"
     ]
    }
   ],
   "source": [
    "# Read dataset\n",
    "\n",
    "path_ = path.joinpath('user_playlists')\n",
    "pl_dataset = rt.read_dataset(path_)\n",
    "\n",
    "print('Number of playlists:', len(pl_dataset))"
   ]
  },
  {
   "cell_type": "code",
   "execution_count": 8,
   "metadata": {},
   "outputs": [
    {
     "name": "stdout",
     "output_type": "stream",
     "text": [
      "\n",
      "Following playlists are in the dataset:\n",
      "\n",
      "'House-Trance',               'Classic progressive',   'Progressive 2',  'Our old school trance 2',\n",
      "'Progressive 3',              'Progressive House',     'Progressive 5',\n",
      "'Our old school trance 138',  'That familiar trance',  'Deep house',   \n",
      "'Our old school trance',      'Progressive 1',         'Progressive 4',\n",
      "\n"
     ]
    }
   ],
   "source": [
    "# create data label list from playlist names\n",
    "data_labels = []\n",
    "\n",
    "for pl in pl_dataset:\n",
    "   \n",
    "    # extract playlist name\n",
    "    name_ = pl[0] \n",
    "    # Number of tracks in this playlist\n",
    "    num = len(pl[1]) \n",
    "    # create same labels for all tracks in this playlist\n",
    "    # add to dataset labels\n",
    "    data_labels += [name_] * len(pl[1])\n",
    "\n",
    "print('\\nFollowing playlists are in the dataset:\\n')\n",
    "disp_col(set(data_labels))"
   ]
  },
  {
   "cell_type": "code",
   "execution_count": 9,
   "metadata": {},
   "outputs": [],
   "source": [
    "# spilt columns for pitch and timbre vectors in segment dataframes\n",
    "# Make separate list of track names and updated segments dataframes\n",
    "tracks_name = []\n",
    "tracks_seg = []\n",
    "for pl in pl_dataset:\n",
    "    \n",
    "        for track in pl[1]:\n",
    "            tracks_name.append(track[0])\n",
    "            tracks_seg.append(rt.split_columns(track[1], pitch_cols=pitch_, timbre_cols=timbre_, ))"
   ]
  },
  {
   "cell_type": "code",
   "execution_count": 10,
   "metadata": {},
   "outputs": [],
   "source": [
    "# remove any commas in track names; we will be using ',' as the delimiter for saving names in a csv\n",
    "for i in range(len(tracks_name)):\n",
    "    \n",
    "    tracks_name[i] = tracks_name[i].replace(',', '')"
   ]
  },
  {
   "cell_type": "code",
   "execution_count": 11,
   "metadata": {},
   "outputs": [
    {
     "name": "stdout",
     "output_type": "stream",
     "text": [
      "all good..............\n"
     ]
    }
   ],
   "source": [
    "if len(tracks_name) == len(tracks_seg) == len(data_labels):\n",
    "    print(\"all good..............\")"
   ]
  },
  {
   "cell_type": "code",
   "execution_count": 12,
   "metadata": {},
   "outputs": [],
   "source": [
    "# Check for null values in segments dataframe\n",
    "\n",
    "nulls_in = []\n",
    "for i in  range(len(tracks_seg)):\n",
    "    n = tracks_seg[i].isnull().sum().sum()\n",
    "    if n > 0:\n",
    "        nulls_in.append(i)"
   ]
  },
  {
   "cell_type": "code",
   "execution_count": 13,
   "metadata": {},
   "outputs": [],
   "source": [
    "# Make a mins list and a max list of timbre elements of each track\n",
    "\n",
    "timbre_mins = []\n",
    "timbre_maxs = []\n",
    "\n",
    "for tr_seg in tracks_seg:\n",
    "    \n",
    "    min_ , max_ = rt.timbre_minmax_tr(tr_seg)\n",
    "    timbre_mins.append(min_)\n",
    "    timbre_maxs.append(max_)"
   ]
  },
  {
   "cell_type": "code",
   "execution_count": 14,
   "metadata": {},
   "outputs": [],
   "source": [
    "# Evaluate population min and max of timbre elements\n",
    "\n",
    "pop_timbre_min, pop_timbre_max = rt.pop_timbre_minmax(timbre_mins, timbre_maxs)"
   ]
  },
  {
   "cell_type": "code",
   "execution_count": 15,
   "metadata": {},
   "outputs": [
    {
     "name": "stdout",
     "output_type": "stream",
     "text": [
      "Total number of tracks :  372\n",
      "\n",
      "There are no missing values in the dataset\n",
      "\n",
      "Minimum of timbre vec values for a sample track :\n",
      "  [31.792, -223.815, -80.134, -92.068, -25.921, -67.073, -51.277, -43.576, -51.169, -55.202, -47.284, -27.262]\n",
      "\n",
      "Maximum of timbre vec values for a sample track :\n",
      "  [53.999, 121.279, 103.483, 46.653, 119.55, 69.199, 52.258, 42.972, 34.68, 25.136, 29.058, 30.721]\n",
      "\n",
      "Minimums of timbre values over the whole dataset: \n",
      "[0.0, -299.412, -252.321, -376.661, -102.82, -217.086, -125.704, -171.744, -94.96, -159.797, -224.671, -56.843]\n",
      "\n",
      "Maximums of timbre values over the whole dataset: \n",
      "[60.121, 496.768, 318.383, 413.323, 191.311, 299.692, 121.598, 201.202, 76.953, 196.762, 192.364, 61.962]\n"
     ]
    }
   ],
   "source": [
    "if len(timbre_mins) == len(timbre_maxs):\n",
    "    print('Total number of tracks : ', len(timbre_mins))\n",
    "\n",
    "if nulls_in:\n",
    "    print('\\nCheck \"nulls_in\" to see which tracks have missing values')\n",
    "else:\n",
    "    print('\\nThere are no missing values in the dataset')\n",
    "    \n",
    "print('\\nMinimum of timbre vec values for a sample track :\\n ', timbre_mins[0])   \n",
    "print('\\nMaximum of timbre vec values for a sample track :\\n ', timbre_maxs[0]) \n",
    "\n",
    "print('\\nMinimums of timbre values over the whole dataset: \\n{}'.format(pop_timbre_min))\n",
    "print('\\nMaximums of timbre values over the whole dataset: \\n{}'.format(pop_timbre_max))"
   ]
  },
  {
   "cell_type": "code",
   "execution_count": 16,
   "metadata": {},
   "outputs": [],
   "source": [
    "data_arrays = rt.transform_dataset(tracks_seg, pop_timbre_min, pop_timbre_max, num_seg=100, bin_num=10)"
   ]
  },
  {
   "cell_type": "code",
   "execution_count": 17,
   "metadata": {},
   "outputs": [
    {
     "name": "stdout",
     "output_type": "stream",
     "text": [
      "Number of tracks : 372\n",
      "Length of an input array : 2400\n",
      "First 100 elements of a sample input array :\n",
      "\n",
      "0.295,                 -0.2507954604945525,   -0.47711053918152113,   0.5148783287037806,     0.049,               \n",
      "1.0,                   -0.15335189968560592,  -0.1457801996215009,    -0.06568112738325504,   0.215,               \n",
      "0.585,                 -0.04088146078866273,  -0.038495442818901604,  -0.2604397375872606,    0.149,               \n",
      "0.39,                  -0.24693405159715498,  -0.05069902881382293,   -0.0706191517802891,    0.028,               \n",
      "0.078,                 0.291,                 -0.20257339468219404,   -0.24033848863261598,   0.5374661100114768,  \n",
      "0.051,                 1.0,                   -0.21054299568935286,   -0.008804554373444629,  -0.09494084252304757,\n",
      "0.087,                 0.628,                 -0.012078122939321534,  -0.003509878609958661,  -0.30422425635706074,\n",
      "0.045,                 0.38,                  -0.22040318168427253,   -0.20836260477388158,   -0.07635344513306586,\n",
      "0.039,                 0.061,                 0.285,                  0.21296237050135813,    -0.23384478344683146,\n",
      "0.287,                 0.036,                 1.0,                    -0.23073039805473994,   0.05187914346198941, \n",
      "0.205,                 0.071,                 0.499,                  0.015200163055858695,   0.004949414076715897,\n",
      "0.026,                 0.036,                 0.309,                  -0.33586970245360037,   -0.25293205986925726,\n",
      "0.5203672593602902,    0.047,                 0.057,                  0.287,                  0.24745656233094637, \n",
      "-0.07287045642945067,  0.253,                 0.023,                  1.0,                    -0.2210377525178161, \n",
      "-0.05749039782444132,  0.183,                 0.056,                  0.689,                  0.1415492704449266,  \n",
      "-0.2261742009964759,   0.016,                 0.025,                  0.44,                   -0.5020243255755229, \n",
      "-0.43982103212514145,  0.49917666040152353,   0.042,                  0.072,                  0.278,               \n",
      "-0.18731060532762622,  -0.10419754326911002,  0.215,                  0.029,                  1.0,                 \n",
      "0.04505422519834035,   -0.0625963721999494,   0.161,                  0.06,                   0.69,                \n",
      "-0.04325022925571009,  -0.19567738080771246,  0.022,                  0.028,                  0.439,               \n",
      "\n"
     ]
    }
   ],
   "source": [
    "print('Number of tracks :', len(data_arrays))\n",
    "print('Length of an input array :', len(data_arrays[0]))\n",
    "print('First 100 elements of a sample input array :\\n')\n",
    "disp_col(list(data_arrays[0][:100]))"
   ]
  },
  {
   "cell_type": "code",
   "execution_count": 18,
   "metadata": {},
   "outputs": [],
   "source": [
    "data_y, categories = rt.encode_label(data_labels)"
   ]
  },
  {
   "cell_type": "code",
   "execution_count": 19,
   "metadata": {},
   "outputs": [
    {
     "data": {
      "text/plain": [
       "[array(['Classic progressive', 'Deep house', 'House-Trance',\n",
       "        'Our old school trance', 'Our old school trance 138',\n",
       "        'Our old school trance 2', 'Progressive 1', 'Progressive 2',\n",
       "        'Progressive 3', 'Progressive 4', 'Progressive 5',\n",
       "        'Progressive House', 'That familiar trance'], dtype='<U25')]"
      ]
     },
     "execution_count": 19,
     "metadata": {},
     "output_type": "execute_result"
    }
   ],
   "source": [
    "categories"
   ]
  },
  {
   "cell_type": "code",
   "execution_count": 20,
   "metadata": {},
   "outputs": [],
   "source": [
    "data = [i for i in zip(data_arrays, data_y)]"
   ]
  },
  {
   "cell_type": "code",
   "execution_count": 21,
   "metadata": {},
   "outputs": [],
   "source": [
    "p = path.joinpath('usertracks_csv')\n",
    "np.savetxt(p.joinpath('track_names.csv'), tracks_name, fmt='%s', delimiter = ',')\n",
    "np.savetxt(p.joinpath('label_categories.csv'), categories, fmt='%s', delimiter = ',')"
   ]
  },
  {
   "cell_type": "code",
   "execution_count": 23,
   "metadata": {},
   "outputs": [],
   "source": [
    "p1 = p.joinpath('track_arrays') \n",
    "for t in range(len(data)):\n",
    "    np.savetxt(p1.joinpath('track_inp_{}.csv'.format(t)), data[t][0], fmt='%+10.3f', delimiter = ',')\n",
    "    \n",
    "p2 = p.joinpath('track_labels') \n",
    "for t in range(len(data)):\n",
    "    np.savetxt(p2.joinpath('track_lab_{}.csv'.format(t)), data[t][1], fmt='%1.1f', delimiter = ',')\n"
   ]
  },
  {
   "cell_type": "code",
   "execution_count": null,
   "metadata": {},
   "outputs": [],
   "source": []
  }
 ],
 "metadata": {
  "kernelspec": {
   "display_name": "Python 3",
   "language": "python",
   "name": "python3"
  },
  "language_info": {
   "codemirror_mode": {
    "name": "ipython",
    "version": 3
   },
   "file_extension": ".py",
   "mimetype": "text/x-python",
   "name": "python",
   "nbconvert_exporter": "python",
   "pygments_lexer": "ipython3",
   "version": "3.7.7"
  }
 },
 "nbformat": 4,
 "nbformat_minor": 2
}
