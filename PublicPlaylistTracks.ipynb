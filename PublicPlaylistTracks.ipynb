{
 "cells": [
  {
   "cell_type": "markdown",
   "metadata": {},
   "source": [
    "\n",
    " - This notebook creates a dataset of track name, ids, contributing artists and user name/musiclabel's name\n",
    " - The dataset, a pandas dataframe is then saved in parquet.\n",
    " - Tracks are gathered from playlists of some prominent edm music labels present on spotify\n",
    "  > ex : armada, enhanced, emergent, anjunabeats, silk music, spinnin records.\n",
    " - And some edm playlists curated by spotify.\n",
    " - The only exception to mainstream edm genres included here is chillhop/ lofi. \n",
    " - We also filter playlists based on keywords. This is especially effective for spotify's playlists, since there are many that we are not interested in.\n",
    "    \n",
    " - All tracks are collected in one run except for anjunabeats and silk music (reason shared later in a comment below)\n",
    " - These tracks are then added/concatenated to the main output dataframe\n",
    " \n",
    " NOTE: Given these are public playlist, some of them are updated frequently. This may result in the final dataframe having different number of tra\n"
   ]
  },
  {
   "cell_type": "code",
   "execution_count": 1,
   "metadata": {},
   "outputs": [],
   "source": [
    "%load_ext autoreload"
   ]
  },
  {
   "cell_type": "code",
   "execution_count": 2,
   "metadata": {},
   "outputs": [
    {
     "name": "stdout",
     "output_type": "stream",
     "text": [
      "Downloading emoji data ...\n",
      "... OK (Got response in 0.20 seconds)\n",
      "Writing emoji data to C:\\Users\\Administrator\\.demoji\\codes.json ...\n",
      "... OK\n",
      "Downloading emoji data ...\n",
      "... OK (Got response in 0.19 seconds)\n",
      "Writing emoji data to C:\\Users\\Administrator\\.demoji\\codes.json ...\n",
      "... OK\n"
     ]
    }
   ],
   "source": [
    "from cap_package import SpotipyCollectPub as scp\n",
    "from dotenv import load_dotenv\n",
    "import os\n",
    "import pandas as pd\n",
    "from pathlib import Path\n"
   ]
  },
  {
   "cell_type": "code",
   "execution_count": 3,
   "metadata": {},
   "outputs": [],
   "source": [
    "from IPython.utils.text import columnize\n",
    "\n",
    "%autoreload 2\n",
    "#%aimport cap_package.SpotipyCollect"
   ]
  },
  {
   "cell_type": "code",
   "execution_count": 4,
   "metadata": {},
   "outputs": [],
   "source": [
    "def disp_col(list_):\n",
    "    \n",
    "    # import -> from IPython.utils.text import columnize\n",
    "    l = list(map(lambda x:repr(x)+',', list_))\n",
    "    print(columnize(l, displaywidth=120))"
   ]
  },
  {
   "cell_type": "code",
   "execution_count": 5,
   "metadata": {},
   "outputs": [
    {
     "name": "stdout",
     "output_type": "stream",
     "text": [
      "'SpotifyClientCredentials',  '__loader__',   'filterby_keyword',      'get_tracks_df',   'spotipy',            \n",
      "'__builtins__',              '__name__',     'get_artist_name',       'json_normalize',  'spotipy_client_cred',\n",
      "'__cached__',                '__package__',  'get_df_analysis',       'pd',              'uri_to_id',          \n",
      "'__doc__',                   '__spec__',     'get_public_playlists',  're',              'user_analysis',      \n",
      "'__file__',                  'demoji',       'get_tracks',            'sc',              'user_plid_pair',     \n",
      "\n"
     ]
    }
   ],
   "source": [
    "disp_col(dir(scp))"
   ]
  },
  {
   "cell_type": "code",
   "execution_count": 6,
   "metadata": {},
   "outputs": [],
   "source": [
    "load_dotenv()\n",
    "SPOTIPY_CLIENT_ID = os.getenv('CLIENT_ID')\n",
    "SPOTIPY_CLIENT_SECRET = os.getenv('CLIENT_SECRET')\n",
    "path = os.getenv('PATH_DATASET2')"
   ]
  },
  {
   "cell_type": "code",
   "execution_count": 7,
   "metadata": {},
   "outputs": [],
   "source": [
    "sp = scp.spotipy_client_cred(client_id=SPOTIPY_CLIENT_ID, client_secret=SPOTIPY_CLIENT_SECRET)"
   ]
  },
  {
   "cell_type": "code",
   "execution_count": 8,
   "metadata": {},
   "outputs": [],
   "source": [
    "# Keywords we want to include in our filter\n",
    "keywords = ['Progressive', 'melodic', 'chillout', 'deep', 'lofi', 'lo-fi', 'house', 'trance', 'trap', 'drum', 'bass',\\\n",
    "           'electronic', 'techno', 'dubstep', 'releases','releases', 'released']\n",
    "# Keywords we want to exclude in our filter\n",
    "exclude = ['rock', 'country', 'classical', 'Orchestra', 'pop', 'reggae', 'indie', 'punk', 'metal', 'soul' ]"
   ]
  },
  {
   "cell_type": "code",
   "execution_count": 9,
   "metadata": {},
   "outputs": [],
   "source": [
    "user_uri = ['spotify:user:vcdikomxn7xuhp0ci0pn31pn9', 'spotify:user:anjunadeep', 'spotify:user:spinninrecordsofficial',\\\n",
    "            'spotify:user:enhanced_music', 'spotify:user:emergentmusic', 'spotify:user:armadamusicofficial',\\\n",
    "            'spotify:user:spotify']"
   ]
  },
  {
   "cell_type": "code",
   "execution_count": 10,
   "metadata": {},
   "outputs": [
    {
     "data": {
      "text/plain": [
       "['vcdikomxn7xuhp0ci0pn31pn9',\n",
       " 'anjunadeep',\n",
       " 'spinninrecordsofficial',\n",
       " 'enhanced_music',\n",
       " 'emergentmusic',\n",
       " 'armadamusicofficial',\n",
       " 'spotify']"
      ]
     },
     "execution_count": 10,
     "metadata": {},
     "output_type": "execute_result"
    }
   ],
   "source": [
    "# Convert uris to user id/name\n",
    "user_id = scp.uri_to_id(user_uri)\n",
    "user_id"
   ]
  },
  {
   "cell_type": "code",
   "execution_count": 11,
   "metadata": {},
   "outputs": [],
   "source": [
    "# Get users' playlist id, playlist name and description\n",
    "users_pl = scp.get_public_playlists(sp, user_id)"
   ]
  },
  {
   "cell_type": "code",
   "execution_count": 12,
   "metadata": {},
   "outputs": [
    {
     "name": "stdout",
     "output_type": "stream",
     "text": [
      "There are a total of 7 users\n",
      "Some public playlists of a user : \n"
     ]
    },
    {
     "data": {
      "text/plain": [
       "[('4PzgMtDpYGAKUD6HUtFTkN',\n",
       "  'Enhanced Latest Releases',\n",
       "  'The most recent Enhanced releases all in one playlist, updated weekly. Related Playlists: <a href=\"https://open.spotify.com/user/enhanced_music/playlist/0lfuRuuTMfrTkzaDOLFlYM?si=NFOw2zjoRQeWcl182lECZw\">Dance &amp; EDM 2020</a>.'),\n",
       " ('4sjsye4xyuVeYFQh0MJlMG',\n",
       "  'Electronic Chill',\n",
       "  'A selection of Ambient and Electronica, lose yourself in these sonic gems.'),\n",
       " ('0lfuRuuTMfrTkzaDOLFlYM',\n",
       "  'Dance & EDM 2020',\n",
       "  'THE hottest tracks in Dance Music. Featuring the latest from Galantis, Martin Garrix, ILLENIUM, Tritonal, Alesso and more.'),\n",
       " ('2AYDglM1LTpPSn5cSRvGDM',\n",
       "  'Witness The Fitness ',\n",
       "  'Workout with Witness The Fitness for the ultimate gym playlist, featuring Regard, Gorgon City, Mabel and more! '),\n",
       " ('1JM1GoxgcTkyiKLJUJIYiu',\n",
       "  'Progressive Trance',\n",
       "  'Progressive and Melodic Trance with Above &amp; Beyond, Farius, Tritonal, ALPHA 9, Cosmic Gate and more. <a href=\"https://show.co/osrz29G\">Submit here</a>.'),\n",
       " ('3CfUZ5lcVkkimVJxYOgWvd',\n",
       "  'Tritonal Selects',\n",
       "  'A collection of our latest releases and current favorites. Enjoy - Chad &amp; Dave')]"
      ]
     },
     "execution_count": 12,
     "metadata": {},
     "output_type": "execute_result"
    }
   ],
   "source": [
    "# Let's see what the above output looks like\n",
    "print( 'There are a total of {} users'.format(len(users_pl)))\n",
    "print('Some public playlists of a user : ')\n",
    "users_pl[3]"
   ]
  },
  {
   "cell_type": "code",
   "execution_count": 13,
   "metadata": {},
   "outputs": [
    {
     "name": "stdout",
     "output_type": "stream",
     "text": [
      " We can see some playlits have been filtered from the above list\n"
     ]
    },
    {
     "data": {
      "text/plain": [
       "[('4PzgMtDpYGAKUD6HUtFTkN',\n",
       "  'Enhanced Latest Releases',\n",
       "  'The most recent Enhanced releases all in one playlist, updated weekly. Related Playlists: <a href=\"https://open.spotify.com/user/enhanced_music/playlist/0lfuRuuTMfrTkzaDOLFlYM?si=NFOw2zjoRQeWcl182lECZw\">Dance &amp; EDM 2020</a>.'),\n",
       " ('4sjsye4xyuVeYFQh0MJlMG',\n",
       "  'Electronic Chill',\n",
       "  'A selection of Ambient and Electronica, lose yourself in these sonic gems.'),\n",
       " ('1JM1GoxgcTkyiKLJUJIYiu',\n",
       "  'Progressive Trance',\n",
       "  'Progressive and Melodic Trance with Above &amp; Beyond, Farius, Tritonal, ALPHA 9, Cosmic Gate and more. <a href=\"https://show.co/osrz29G\">Submit here</a>.'),\n",
       " ('3CfUZ5lcVkkimVJxYOgWvd',\n",
       "  'Tritonal Selects',\n",
       "  'A collection of our latest releases and current favorites. Enjoy - Chad &amp; Dave')]"
      ]
     },
     "execution_count": 13,
     "metadata": {},
     "output_type": "execute_result"
    }
   ],
   "source": [
    "# Let's filter these playlists based on the keywords we are looking for\n",
    "filtered = scp.filterby_keyword(keywords, exclude, users_pl)\n",
    "print(' We can see some playlits have been filtered from the above list')\n",
    "filtered[3]"
   ]
  },
  {
   "cell_type": "code",
   "execution_count": 14,
   "metadata": {},
   "outputs": [
    {
     "name": "stdout",
     "output_type": "stream",
     "text": [
      "'Chill Beats Weekly 🦔 groove, relax, study (chill lofi jazzhop)',\n",
      "'Chill Jazz Vibes 🎷 jazz beats to chillout (mellow jazzhop)',    \n",
      "'Mellow Lofi 💙 melodic lofi hip hop beats to study to',          \n",
      "\n",
      "----------------------------------------------------------------------------------------------------\n",
      "'Anjunadeep New Releases (Deep House, Techno, Electronica)',  'Summer Chillout with Anjunadeep',\n",
      "'Anjunadeep Recommends',                                    \n",
      "\n",
      "----------------------------------------------------------------------------------------------------\n",
      "'Spinnin’ Records Brand New',  \"Progressive House - by Spinnin' Records\",  \"Deep House Hits - by Spinnin' Records\",\n",
      "\n",
      "----------------------------------------------------------------------------------------------------\n",
      "'Enhanced Latest Releases',  'Electronic Chill',  'Progressive Trance',\n",
      "\n",
      "----------------------------------------------------------------------------------------------------\n",
      "'Emergent Music - New Releases',  'Emergent Music - Emotive Trance',  'Emergent Music - Melodic Progressive',\n",
      "\n",
      "----------------------------------------------------------------------------------------------------\n",
      "'Trance & Melodic Techno Top 1000 - by Armada Music',  'Deep House Hits - by Armada Music',\n",
      "'House Top 1000 - by Armada Record Box',             \n",
      "\n",
      "----------------------------------------------------------------------------------------------------\n",
      "'Alternative Beats',  'Bass Arcade',  'Lowkey Tech',\n",
      "\n",
      "----------------------------------------------------------------------------------------------------\n"
     ]
    }
   ],
   "source": [
    "# Let's see some names of filterted playlists\n",
    "for p in filtered:\n",
    "    #for x in p:\n",
    "    disp_col([x[1] for x in p][:3])\n",
    "    print('-'*100)"
   ]
  },
  {
   "cell_type": "code",
   "execution_count": 15,
   "metadata": {},
   "outputs": [
    {
     "name": "stdout",
     "output_type": "stream",
     "text": [
      "There are a total of 127 playlists\n"
     ]
    }
   ],
   "source": [
    "# create user, playlist id pairs for input\n",
    "user_plid = scp.user_plid_pair(user_id, filtered)\n",
    "print('There are a total of {} playlists'.format(len(user_plid)))"
   ]
  },
  {
   "cell_type": "code",
   "execution_count": 16,
   "metadata": {},
   "outputs": [],
   "source": [
    "# get playlist information from spotify api, specifically track id, name and contributing artists\n",
    "full_df = scp.get_tracks_df(sp, user_plid)"
   ]
  },
  {
   "cell_type": "code",
   "execution_count": 17,
   "metadata": {
    "scrolled": true
   },
   "outputs": [
    {
     "name": "stdout",
     "output_type": "stream",
     "text": [
      "So far from the above playlists we have collected : 16052 tracks\n"
     ]
    },
    {
     "data": {
      "text/html": [
       "<div>\n",
       "<style scoped>\n",
       "    .dataframe tbody tr th:only-of-type {\n",
       "        vertical-align: middle;\n",
       "    }\n",
       "\n",
       "    .dataframe tbody tr th {\n",
       "        vertical-align: top;\n",
       "    }\n",
       "\n",
       "    .dataframe thead th {\n",
       "        text-align: right;\n",
       "    }\n",
       "</style>\n",
       "<table border=\"1\" class=\"dataframe\">\n",
       "  <thead>\n",
       "    <tr style=\"text-align: right;\">\n",
       "      <th></th>\n",
       "      <th>name</th>\n",
       "      <th>id</th>\n",
       "      <th>artists_name</th>\n",
       "      <th>user</th>\n",
       "    </tr>\n",
       "  </thead>\n",
       "  <tbody>\n",
       "    <tr>\n",
       "      <th>16047</th>\n",
       "      <td>Kafka</td>\n",
       "      <td>6QlAW39LcyCNTxqsYjRBki</td>\n",
       "      <td>Ercos Blanka</td>\n",
       "      <td>spotify</td>\n",
       "    </tr>\n",
       "    <tr>\n",
       "      <th>16048</th>\n",
       "      <td>Branches</td>\n",
       "      <td>6q5QgqXvW1lgIBSdSihcVN</td>\n",
       "      <td>Nora En Pure</td>\n",
       "      <td>spotify</td>\n",
       "    </tr>\n",
       "    <tr>\n",
       "      <th>16049</th>\n",
       "      <td>Whispers</td>\n",
       "      <td>0V8okvZJmTFqnbsW9L1v1N</td>\n",
       "      <td>Valante</td>\n",
       "      <td>spotify</td>\n",
       "    </tr>\n",
       "    <tr>\n",
       "      <th>16050</th>\n",
       "      <td>Setting Sail - Chill Mix</td>\n",
       "      <td>3Am7bRVPs1DPbTkYQb9giH</td>\n",
       "      <td>Eastern Odyssey</td>\n",
       "      <td>spotify</td>\n",
       "    </tr>\n",
       "    <tr>\n",
       "      <th>16051</th>\n",
       "      <td>Brigante - Nhar Remix</td>\n",
       "      <td>2ff87EDRvp1GIY60XVLxwp</td>\n",
       "      <td>Ercos Blanka, Nhar</td>\n",
       "      <td>spotify</td>\n",
       "    </tr>\n",
       "  </tbody>\n",
       "</table>\n",
       "</div>"
      ],
      "text/plain": [
       "                           name                      id        artists_name  \\\n",
       "16047                     Kafka  6QlAW39LcyCNTxqsYjRBki        Ercos Blanka   \n",
       "16048                  Branches  6q5QgqXvW1lgIBSdSihcVN        Nora En Pure   \n",
       "16049                  Whispers  0V8okvZJmTFqnbsW9L1v1N             Valante   \n",
       "16050  Setting Sail - Chill Mix  3Am7bRVPs1DPbTkYQb9giH     Eastern Odyssey   \n",
       "16051     Brigante - Nhar Remix  2ff87EDRvp1GIY60XVLxwp  Ercos Blanka, Nhar   \n",
       "\n",
       "          user  \n",
       "16047  spotify  \n",
       "16048  spotify  \n",
       "16049  spotify  \n",
       "16050  spotify  \n",
       "16051  spotify  "
      ]
     },
     "execution_count": 17,
     "metadata": {},
     "output_type": "execute_result"
    }
   ],
   "source": [
    "print('So far from the above playlists we have collected : {} tracks'.format(len(full_df)))\n",
    "full_df.tail()"
   ]
  },
  {
   "cell_type": "markdown",
   "metadata": {},
   "source": [
    "Let's include tracks from Silk music and Anjunabeats discography.\n",
    "Note : Silk music is present on spotify as an artist rather than a user unlike\n",
    "most other labels are, and there are no endpoints on the spotify webapi\n",
    "which gives access to an artist's public playlists. \n",
    "Hence, we are getting URIs of these playlists manually. We include a single playlist from Anjunabeats here (even though Anjunabeats is present as a user), since discography contains all releases till date."
   ]
  },
  {
   "cell_type": "code",
   "execution_count": 18,
   "metadata": {},
   "outputs": [],
   "source": [
    "users = ['silkmusic'] * 5 + ['Anjunabeats']\n",
    "uris = ['spotify:playlist:7mLu08jeo1UJRAPhcNo1NA', 'spotify:playlist:2WXcnnjBAVWh3pyPme2AzA',\\\n",
    "        'spotify:playlist:2Gv5OEPtSFXdVRIR9XcCYl', 'spotify:playlist:5YBoaqYu4nR1klcylFyPDO',\\\n",
    "        'spotify:playlist:0KOeFoxHzINtljRqURylxF', 'spotify:playlist:1CMTxvbJpzJ7aBSiyjqvkD']\n",
    "user_plid_list = [ x for x in zip(users, scp.uri_to_id(uris))]"
   ]
  },
  {
   "cell_type": "code",
   "execution_count": 19,
   "metadata": {},
   "outputs": [
    {
     "data": {
      "text/html": [
       "<div>\n",
       "<style scoped>\n",
       "    .dataframe tbody tr th:only-of-type {\n",
       "        vertical-align: middle;\n",
       "    }\n",
       "\n",
       "    .dataframe tbody tr th {\n",
       "        vertical-align: top;\n",
       "    }\n",
       "\n",
       "    .dataframe thead th {\n",
       "        text-align: right;\n",
       "    }\n",
       "</style>\n",
       "<table border=\"1\" class=\"dataframe\">\n",
       "  <thead>\n",
       "    <tr style=\"text-align: right;\">\n",
       "      <th></th>\n",
       "      <th>name</th>\n",
       "      <th>id</th>\n",
       "      <th>artists_name</th>\n",
       "      <th>user</th>\n",
       "    </tr>\n",
       "  </thead>\n",
       "  <tbody>\n",
       "    <tr>\n",
       "      <th>2540</th>\n",
       "      <td>Volume One - Anjuna Deep Mix</td>\n",
       "      <td>4qKcK7oKhB2oMF1Ny2T4Rr</td>\n",
       "      <td>Anjunabeats</td>\n",
       "      <td>Anjunabeats</td>\n",
       "    </tr>\n",
       "    <tr>\n",
       "      <th>2541</th>\n",
       "      <td>Volume One - Original Mix</td>\n",
       "      <td>1ZfyvweqqR3csr8K4ACjt4</td>\n",
       "      <td>Anjunabeats</td>\n",
       "      <td>Anjunabeats</td>\n",
       "    </tr>\n",
       "    <tr>\n",
       "      <th>2542</th>\n",
       "      <td>Volume One - Tease Dub</td>\n",
       "      <td>4GYyq7cPaTjyynNWpPkC9P</td>\n",
       "      <td>Anjunabeats</td>\n",
       "      <td>Anjunabeats</td>\n",
       "    </tr>\n",
       "    <tr>\n",
       "      <th>2543</th>\n",
       "      <td>Remember - Genix Remix</td>\n",
       "      <td>5pHHeT460Tb9HkTca1HY7v</td>\n",
       "      <td>Gabriel &amp; Dresden, Centre, Genix</td>\n",
       "      <td>Anjunabeats</td>\n",
       "    </tr>\n",
       "    <tr>\n",
       "      <th>2544</th>\n",
       "      <td>Won't Sleep Tonight - Moody Dub Mix</td>\n",
       "      <td>3G2fWbQSseRglXGRhC99Jm</td>\n",
       "      <td>Super8 &amp; Tab</td>\n",
       "      <td>Anjunabeats</td>\n",
       "    </tr>\n",
       "  </tbody>\n",
       "</table>\n",
       "</div>"
      ],
      "text/plain": [
       "                                     name                      id  \\\n",
       "2540         Volume One - Anjuna Deep Mix  4qKcK7oKhB2oMF1Ny2T4Rr   \n",
       "2541            Volume One - Original Mix  1ZfyvweqqR3csr8K4ACjt4   \n",
       "2542               Volume One - Tease Dub  4GYyq7cPaTjyynNWpPkC9P   \n",
       "2543               Remember - Genix Remix  5pHHeT460Tb9HkTca1HY7v   \n",
       "2544  Won't Sleep Tonight - Moody Dub Mix  3G2fWbQSseRglXGRhC99Jm   \n",
       "\n",
       "                          artists_name         user  \n",
       "2540                       Anjunabeats  Anjunabeats  \n",
       "2541                       Anjunabeats  Anjunabeats  \n",
       "2542                       Anjunabeats  Anjunabeats  \n",
       "2543  Gabriel & Dresden, Centre, Genix  Anjunabeats  \n",
       "2544                      Super8 & Tab  Anjunabeats  "
      ]
     },
     "execution_count": 19,
     "metadata": {},
     "output_type": "execute_result"
    }
   ],
   "source": [
    "df = scp.get_tracks_df(sp, user_plid_list)\n",
    "df.tail()"
   ]
  },
  {
   "cell_type": "code",
   "execution_count": 20,
   "metadata": {},
   "outputs": [],
   "source": [
    "# update full_df by adding tracks from anjunabeats disc and silkmusic\n",
    "full_df = pd.concat([full_df, df], ignore_index=True)"
   ]
  },
  {
   "cell_type": "code",
   "execution_count": 21,
   "metadata": {},
   "outputs": [
    {
     "data": {
      "text/html": [
       "<div>\n",
       "<style scoped>\n",
       "    .dataframe tbody tr th:only-of-type {\n",
       "        vertical-align: middle;\n",
       "    }\n",
       "\n",
       "    .dataframe tbody tr th {\n",
       "        vertical-align: top;\n",
       "    }\n",
       "\n",
       "    .dataframe thead th {\n",
       "        text-align: right;\n",
       "    }\n",
       "</style>\n",
       "<table border=\"1\" class=\"dataframe\">\n",
       "  <thead>\n",
       "    <tr style=\"text-align: right;\">\n",
       "      <th></th>\n",
       "      <th>name</th>\n",
       "      <th>id</th>\n",
       "      <th>artists_name</th>\n",
       "      <th>user</th>\n",
       "    </tr>\n",
       "  </thead>\n",
       "  <tbody>\n",
       "    <tr>\n",
       "      <th>18592</th>\n",
       "      <td>Volume One - Anjuna Deep Mix</td>\n",
       "      <td>4qKcK7oKhB2oMF1Ny2T4Rr</td>\n",
       "      <td>Anjunabeats</td>\n",
       "      <td>Anjunabeats</td>\n",
       "    </tr>\n",
       "    <tr>\n",
       "      <th>18593</th>\n",
       "      <td>Volume One - Original Mix</td>\n",
       "      <td>1ZfyvweqqR3csr8K4ACjt4</td>\n",
       "      <td>Anjunabeats</td>\n",
       "      <td>Anjunabeats</td>\n",
       "    </tr>\n",
       "    <tr>\n",
       "      <th>18594</th>\n",
       "      <td>Volume One - Tease Dub</td>\n",
       "      <td>4GYyq7cPaTjyynNWpPkC9P</td>\n",
       "      <td>Anjunabeats</td>\n",
       "      <td>Anjunabeats</td>\n",
       "    </tr>\n",
       "    <tr>\n",
       "      <th>18595</th>\n",
       "      <td>Remember - Genix Remix</td>\n",
       "      <td>5pHHeT460Tb9HkTca1HY7v</td>\n",
       "      <td>Gabriel &amp; Dresden, Centre, Genix</td>\n",
       "      <td>Anjunabeats</td>\n",
       "    </tr>\n",
       "    <tr>\n",
       "      <th>18596</th>\n",
       "      <td>Won't Sleep Tonight - Moody Dub Mix</td>\n",
       "      <td>3G2fWbQSseRglXGRhC99Jm</td>\n",
       "      <td>Super8 &amp; Tab</td>\n",
       "      <td>Anjunabeats</td>\n",
       "    </tr>\n",
       "  </tbody>\n",
       "</table>\n",
       "</div>"
      ],
      "text/plain": [
       "                                      name                      id  \\\n",
       "18592         Volume One - Anjuna Deep Mix  4qKcK7oKhB2oMF1Ny2T4Rr   \n",
       "18593            Volume One - Original Mix  1ZfyvweqqR3csr8K4ACjt4   \n",
       "18594               Volume One - Tease Dub  4GYyq7cPaTjyynNWpPkC9P   \n",
       "18595               Remember - Genix Remix  5pHHeT460Tb9HkTca1HY7v   \n",
       "18596  Won't Sleep Tonight - Moody Dub Mix  3G2fWbQSseRglXGRhC99Jm   \n",
       "\n",
       "                           artists_name         user  \n",
       "18592                       Anjunabeats  Anjunabeats  \n",
       "18593                       Anjunabeats  Anjunabeats  \n",
       "18594                       Anjunabeats  Anjunabeats  \n",
       "18595  Gabriel & Dresden, Centre, Genix  Anjunabeats  \n",
       "18596                      Super8 & Tab  Anjunabeats  "
      ]
     },
     "execution_count": 21,
     "metadata": {},
     "output_type": "execute_result"
    }
   ],
   "source": [
    "# index has reset\n",
    "full_df.tail()"
   ]
  },
  {
   "cell_type": "code",
   "execution_count": 22,
   "metadata": {},
   "outputs": [
    {
     "name": "stdout",
     "output_type": "stream",
     "text": [
      "The final number of total tracks is: 18401\n"
     ]
    }
   ],
   "source": [
    "# Let's drop duplictes in case they are present\n",
    "full_df = full_df.drop_duplicates(subset=['name', 'artists_name'], keep='first', ignore_index=True)\n",
    "print('The final number of total tracks is:', len(full_df))"
   ]
  },
  {
   "cell_type": "code",
   "execution_count": 23,
   "metadata": {
    "scrolled": true
   },
   "outputs": [
    {
     "data": {
      "text/html": [
       "<div>\n",
       "<style scoped>\n",
       "    .dataframe tbody tr th:only-of-type {\n",
       "        vertical-align: middle;\n",
       "    }\n",
       "\n",
       "    .dataframe tbody tr th {\n",
       "        vertical-align: top;\n",
       "    }\n",
       "\n",
       "    .dataframe thead th {\n",
       "        text-align: right;\n",
       "    }\n",
       "</style>\n",
       "<table border=\"1\" class=\"dataframe\">\n",
       "  <thead>\n",
       "    <tr style=\"text-align: right;\">\n",
       "      <th></th>\n",
       "      <th>name</th>\n",
       "      <th>id</th>\n",
       "      <th>artists_name</th>\n",
       "      <th>user</th>\n",
       "    </tr>\n",
       "  </thead>\n",
       "  <tbody>\n",
       "    <tr>\n",
       "      <th>18396</th>\n",
       "      <td>Volume One - Free State vs Dirt Devils Remix</td>\n",
       "      <td>03NSRR3kgp4oOKqGtTEjOZ</td>\n",
       "      <td>Anjunabeats</td>\n",
       "      <td>Anjunabeats</td>\n",
       "    </tr>\n",
       "    <tr>\n",
       "      <th>18397</th>\n",
       "      <td>Volume One - Anjuna Deep Mix</td>\n",
       "      <td>4qKcK7oKhB2oMF1Ny2T4Rr</td>\n",
       "      <td>Anjunabeats</td>\n",
       "      <td>Anjunabeats</td>\n",
       "    </tr>\n",
       "    <tr>\n",
       "      <th>18398</th>\n",
       "      <td>Volume One - Original Mix</td>\n",
       "      <td>1ZfyvweqqR3csr8K4ACjt4</td>\n",
       "      <td>Anjunabeats</td>\n",
       "      <td>Anjunabeats</td>\n",
       "    </tr>\n",
       "    <tr>\n",
       "      <th>18399</th>\n",
       "      <td>Volume One - Tease Dub</td>\n",
       "      <td>4GYyq7cPaTjyynNWpPkC9P</td>\n",
       "      <td>Anjunabeats</td>\n",
       "      <td>Anjunabeats</td>\n",
       "    </tr>\n",
       "    <tr>\n",
       "      <th>18400</th>\n",
       "      <td>Won't Sleep Tonight - Moody Dub Mix</td>\n",
       "      <td>3G2fWbQSseRglXGRhC99Jm</td>\n",
       "      <td>Super8 &amp; Tab</td>\n",
       "      <td>Anjunabeats</td>\n",
       "    </tr>\n",
       "  </tbody>\n",
       "</table>\n",
       "</div>"
      ],
      "text/plain": [
       "                                               name                      id  \\\n",
       "18396  Volume One - Free State vs Dirt Devils Remix  03NSRR3kgp4oOKqGtTEjOZ   \n",
       "18397                  Volume One - Anjuna Deep Mix  4qKcK7oKhB2oMF1Ny2T4Rr   \n",
       "18398                     Volume One - Original Mix  1ZfyvweqqR3csr8K4ACjt4   \n",
       "18399                        Volume One - Tease Dub  4GYyq7cPaTjyynNWpPkC9P   \n",
       "18400           Won't Sleep Tonight - Moody Dub Mix  3G2fWbQSseRglXGRhC99Jm   \n",
       "\n",
       "       artists_name         user  \n",
       "18396   Anjunabeats  Anjunabeats  \n",
       "18397   Anjunabeats  Anjunabeats  \n",
       "18398   Anjunabeats  Anjunabeats  \n",
       "18399   Anjunabeats  Anjunabeats  \n",
       "18400  Super8 & Tab  Anjunabeats  "
      ]
     },
     "execution_count": 23,
     "metadata": {},
     "output_type": "execute_result"
    }
   ],
   "source": [
    "full_df.tail()"
   ]
  },
  {
   "cell_type": "code",
   "execution_count": 24,
   "metadata": {},
   "outputs": [],
   "source": [
    "# Replace that user's id with name\n",
    "full = full_df.replace('vcdikomxn7xuhp0ci0pn31pn9', 'ChillBeatsMusic')"
   ]
  },
  {
   "cell_type": "markdown",
   "metadata": {},
   "source": [
    "Save the above dataframe in parquet to load later"
   ]
  },
  {
   "cell_type": "code",
   "execution_count": null,
   "metadata": {},
   "outputs": [],
   "source": [
    "p = path"
   ]
  },
  {
   "cell_type": "code",
   "execution_count": null,
   "metadata": {},
   "outputs": [],
   "source": [
    "if not Path(p.joinpath('musiclabels_tracks.parquet')).exists():\n",
    "    full_df.to_parquet(p.joinpath('musiclabels_tracks.parquet'), engine='pyarrow')"
   ]
  },
  {
   "cell_type": "code",
   "execution_count": null,
   "metadata": {},
   "outputs": [],
   "source": []
  }
 ],
 "metadata": {
  "kernelspec": {
   "display_name": "Python 3",
   "language": "python",
   "name": "python3"
  },
  "language_info": {
   "codemirror_mode": {
    "name": "ipython",
    "version": 3
   },
   "file_extension": ".py",
   "mimetype": "text/x-python",
   "name": "python",
   "nbconvert_exporter": "python",
   "pygments_lexer": "ipython3",
   "version": "3.7.7"
  }
 },
 "nbformat": 4,
 "nbformat_minor": 4
}
