{
 "cells": [
  {
   "cell_type": "markdown",
   "metadata": {},
   "source": [
    "\n",
    " - This notebook creates a dataset of track name, ids and contributing artists\n",
    " - The dataset, a pandas dataframe is then saved in parquet.\n",
    " - Tracks are gathered from playlists of some prominent edm music labels present on spotify\n",
    "  > ex : armada, enhanced, emergent, anjunabeats, silk music, spinnin records.\n",
    " - And some edm playlists curated by spotify.\n",
    " - The only exception to mainstream edm genres included here is chillhop/ lofi. \n",
    " - We also filter playlists based on keywords. This is especially effective for spotify's playlists, since there are many that we are not interested in.\n",
    "    \n",
    " - All tracks are collected in one run except for anjunabeats and silk music (reason shared later in a comment below)\n",
    " - These tracks are then added/concatenated to the main output dataframe\n"
   ]
  },
  {
   "cell_type": "code",
   "execution_count": 1,
   "metadata": {},
   "outputs": [],
   "source": [
    "%load_ext autoreload"
   ]
  },
  {
   "cell_type": "code",
   "execution_count": 2,
   "metadata": {},
   "outputs": [],
   "source": [
    "from cap_package import SpotipyCollectPub as scp\n",
    "from dotenv import load_dotenv\n",
    "import os\n",
    "import pandas as pd\n",
    "from pathlib import Path\n"
   ]
  },
  {
   "cell_type": "code",
   "execution_count": 3,
   "metadata": {},
   "outputs": [],
   "source": [
    "from IPython.utils.text import columnize\n",
    "\n",
    "%autoreload 2\n",
    "#%aimport cap_package.SpotipyCollect"
   ]
  },
  {
   "cell_type": "code",
   "execution_count": 4,
   "metadata": {},
   "outputs": [],
   "source": [
    "def disp_col(list_):\n",
    "    \n",
    "    # import -> from IPython.utils.text import columnize\n",
    "    l = list(map(lambda x:repr(x)+',', list_))\n",
    "    print(columnize(l, displaywidth=120))"
   ]
  },
  {
   "cell_type": "code",
   "execution_count": 5,
   "metadata": {},
   "outputs": [
    {
     "name": "stdout",
     "output_type": "stream",
     "text": [
      "'SpotifyClientCredentials',  '__file__',     '__spec__',              'get_tracks',      're',                 \n",
      "'__builtins__',              '__loader__',   'filterby_keyword',      'get_tracks_df',   'spotipy',            \n",
      "'__cached__',                '__name__',     'get_artist_name',       'json_normalize',  'spotipy_client_cred',\n",
      "'__doc__',                   '__package__',  'get_public_playlists',  'pd',              'uri_to_id',          \n",
      "\n"
     ]
    }
   ],
   "source": [
    "disp_col(dir(scp))"
   ]
  },
  {
   "cell_type": "code",
   "execution_count": 6,
   "metadata": {},
   "outputs": [],
   "source": [
    "load_dotenv()\n",
    "SPOTIPY_CLIENT_ID = os.getenv('CLIENT_ID')\n",
    "SPOTIPY_CLIENT_SECRET = os.getenv('CLIENT_SECRET')"
   ]
  },
  {
   "cell_type": "code",
   "execution_count": 7,
   "metadata": {},
   "outputs": [],
   "source": [
    "sp = scp.spotipy_client_cred(client_id=SPOTIPY_CLIENT_ID, client_secret=SPOTIPY_CLIENT_SECRET)"
   ]
  },
  {
   "cell_type": "code",
   "execution_count": 8,
   "metadata": {},
   "outputs": [],
   "source": [
    "keywords = ['Progressive', 'melodic', 'chillout', 'deep', 'lofi', 'lo-fi', 'house', 'trance', 'trap', 'drum', 'bass',\\\n",
    "           'electronic', 'techno', 'dubstep', 'releases','releases', 'released']\n",
    "exclude = ['rock', 'country', 'classical', 'Orchestra', 'pop', 'reggae', 'indie', 'punk', 'metal', 'soul' ]"
   ]
  },
  {
   "cell_type": "code",
   "execution_count": 9,
   "metadata": {},
   "outputs": [],
   "source": [
    "user_uri = ['spotify:user:vcdikomxn7xuhp0ci0pn31pn9', 'spotify:user:anjunadeep', 'spotify:user:spinninrecordsofficial',\\\n",
    "            'spotify:user:enhanced_music', 'spotify:user:emergentmusic', 'spotify:user:armadamusicofficial',\\\n",
    "            'spotify:user:spotify']"
   ]
  },
  {
   "cell_type": "code",
   "execution_count": 10,
   "metadata": {},
   "outputs": [
    {
     "data": {
      "text/plain": [
       "['vcdikomxn7xuhp0ci0pn31pn9',\n",
       " 'anjunadeep',\n",
       " 'spinninrecordsofficial',\n",
       " 'enhanced_music',\n",
       " 'emergentmusic',\n",
       " 'armadamusicofficial',\n",
       " 'spotify']"
      ]
     },
     "execution_count": 10,
     "metadata": {},
     "output_type": "execute_result"
    }
   ],
   "source": [
    "user_id = scp.uri_to_id(user_uri)\n",
    "user_id"
   ]
  },
  {
   "cell_type": "code",
   "execution_count": 11,
   "metadata": {},
   "outputs": [],
   "source": [
    "users_pl = scp.get_public_playlists(sp, user_id)"
   ]
  },
  {
   "cell_type": "code",
   "execution_count": 12,
   "metadata": {},
   "outputs": [
    {
     "name": "stdout",
     "output_type": "stream",
     "text": [
      "There are a total of 7 users\n",
      "Some public playlists of a user : \n"
     ]
    },
    {
     "data": {
      "text/plain": [
       "[('4PzgMtDpYGAKUD6HUtFTkN',\n",
       "  'Enhanced Latest Releases',\n",
       "  'The most recent Enhanced releases all in one playlist, updated weekly. Related Playlists: <a href=\"https://open.spotify.com/user/enhanced_music/playlist/0lfuRuuTMfrTkzaDOLFlYM?si=NFOw2zjoRQeWcl182lECZw\">Dance &amp; EDM 2020</a>.'),\n",
       " ('4sjsye4xyuVeYFQh0MJlMG',\n",
       "  'Electronic Chill',\n",
       "  'A selection of Ambient and Electronica, lose yourself in these sonic gems.'),\n",
       " ('0lfuRuuTMfrTkzaDOLFlYM',\n",
       "  'Dance & EDM 2020',\n",
       "  'THE hottest tracks in Dance Music. Featuring the latest from Martin Garrix, Deadmau5, Kaskade, Tritonal, Alesso and more.'),\n",
       " ('2AYDglM1LTpPSn5cSRvGDM',\n",
       "  'Witness The Fitness ',\n",
       "  'Workout with Witness The Fitness for the ultimate gym playlist, featuring Regard, Gorgon City, Mabel and more! '),\n",
       " ('1JM1GoxgcTkyiKLJUJIYiu',\n",
       "  'Progressive Trance',\n",
       "  'Progressive and Melodic Trance with Above &amp; Beyond, Farius, Tritonal, ALPHA 9, Cosmic Gate and more. <a href=\"https://show.co/osrz29G\">Submit here</a>.'),\n",
       " ('3CfUZ5lcVkkimVJxYOgWvd',\n",
       "  'Tritonal Selects',\n",
       "  'A collection of our latest releases and current favorites. Enjoy - Chad &amp; Dave')]"
      ]
     },
     "execution_count": 12,
     "metadata": {},
     "output_type": "execute_result"
    }
   ],
   "source": [
    "# Let's see what the above output looks like\n",
    "print( 'There are a total of {} users'.format(len(users_pl)))\n",
    "print('Some public playlists of a user : ')\n",
    "users_pl[3]"
   ]
  },
  {
   "cell_type": "code",
   "execution_count": 13,
   "metadata": {},
   "outputs": [
    {
     "name": "stdout",
     "output_type": "stream",
     "text": [
      " We can see some playlits have been filtered from the above list\n"
     ]
    },
    {
     "data": {
      "text/plain": [
       "[('4PzgMtDpYGAKUD6HUtFTkN',\n",
       "  'Enhanced Latest Releases',\n",
       "  'The most recent Enhanced releases all in one playlist, updated weekly. Related Playlists: <a href=\"https://open.spotify.com/user/enhanced_music/playlist/0lfuRuuTMfrTkzaDOLFlYM?si=NFOw2zjoRQeWcl182lECZw\">Dance &amp; EDM 2020</a>.'),\n",
       " ('4sjsye4xyuVeYFQh0MJlMG',\n",
       "  'Electronic Chill',\n",
       "  'A selection of Ambient and Electronica, lose yourself in these sonic gems.'),\n",
       " ('1JM1GoxgcTkyiKLJUJIYiu',\n",
       "  'Progressive Trance',\n",
       "  'Progressive and Melodic Trance with Above &amp; Beyond, Farius, Tritonal, ALPHA 9, Cosmic Gate and more. <a href=\"https://show.co/osrz29G\">Submit here</a>.'),\n",
       " ('3CfUZ5lcVkkimVJxYOgWvd',\n",
       "  'Tritonal Selects',\n",
       "  'A collection of our latest releases and current favorites. Enjoy - Chad &amp; Dave')]"
      ]
     },
     "execution_count": 13,
     "metadata": {},
     "output_type": "execute_result"
    }
   ],
   "source": [
    "# Let's filter these playlists based on the keywords we are looking for\n",
    "filtered = scp.filterby_keyword(keywords, exclude, users_pl)\n",
    "print(' We can see some playlits have been filtered from the above list')\n",
    "filtered[3]"
   ]
  },
  {
   "cell_type": "code",
   "execution_count": 14,
   "metadata": {},
   "outputs": [
    {
     "name": "stdout",
     "output_type": "stream",
     "text": [
      "'Chill Beats Weekly 🦔 groove, relax, study (chill lofi jazzhop)',\n",
      "'Chill Jazz Vibes 🎷 jazz beats to chillout (mellow jazzhop)',    \n",
      "'Mellow Lofi 💙 melodic lofi hip hop beats to study to',          \n",
      "\n",
      "----------------------------------------------------------------------------------------------------\n",
      "'Anjunadeep New Releases (Deep House, Techno, Electronica)',  'Summer Chillout with Anjunadeep',\n",
      "'Anjunadeep Recommends',                                    \n",
      "\n",
      "----------------------------------------------------------------------------------------------------\n",
      "'Spinnin’ Records Brand New',  \"Progressive House - by Spinnin' Records\",  \"Deep House Hits - by Spinnin' Records\",\n",
      "\n",
      "----------------------------------------------------------------------------------------------------\n",
      "'Enhanced Latest Releases',  'Electronic Chill',  'Progressive Trance',\n",
      "\n",
      "----------------------------------------------------------------------------------------------------\n",
      "'Emergent Music - New Releases',  'Emergent Music - Emotive Trance',  'Emergent Music - Melodic Progressive',\n",
      "\n",
      "----------------------------------------------------------------------------------------------------\n",
      "'Trance & Melodic Techno Top 1000 - by Armada Music',  'Deep House Hits - by Armada Music',\n",
      "'House Top 1000 - by Armada Record Box',             \n",
      "\n",
      "----------------------------------------------------------------------------------------------------\n",
      "'Alternative Beats',  'Bass Arcade',  'Lowkey Tech',\n",
      "\n",
      "----------------------------------------------------------------------------------------------------\n"
     ]
    }
   ],
   "source": [
    "# Let's see some names of filterted playlists\n",
    "for p in filtered:\n",
    "    #for x in p:\n",
    "    disp_col([x[1] for x in p][:3])\n",
    "    print('-'*100)"
   ]
  },
  {
   "cell_type": "code",
   "execution_count": 15,
   "metadata": {},
   "outputs": [
    {
     "name": "stdout",
     "output_type": "stream",
     "text": [
      "There are a total of 127 playlists\n"
     ]
    }
   ],
   "source": [
    "# extract playlist ids for input\n",
    "pl_id = [x[0] for y in filtered for x in y]\n",
    "print('There are a total of {} playlists'.format(len(pl_id)))"
   ]
  },
  {
   "cell_type": "code",
   "execution_count": 16,
   "metadata": {},
   "outputs": [],
   "source": [
    "full_df = scp.get_tracks_df(sp, pl_id)"
   ]
  },
  {
   "cell_type": "code",
   "execution_count": 17,
   "metadata": {
    "scrolled": true
   },
   "outputs": [
    {
     "name": "stdout",
     "output_type": "stream",
     "text": [
      "So far from the above playlists we have collected : 16074 tracks\n"
     ]
    },
    {
     "data": {
      "text/html": [
       "<div>\n",
       "<style scoped>\n",
       "    .dataframe tbody tr th:only-of-type {\n",
       "        vertical-align: middle;\n",
       "    }\n",
       "\n",
       "    .dataframe tbody tr th {\n",
       "        vertical-align: top;\n",
       "    }\n",
       "\n",
       "    .dataframe thead th {\n",
       "        text-align: right;\n",
       "    }\n",
       "</style>\n",
       "<table border=\"1\" class=\"dataframe\">\n",
       "  <thead>\n",
       "    <tr style=\"text-align: right;\">\n",
       "      <th></th>\n",
       "      <th>name</th>\n",
       "      <th>id</th>\n",
       "      <th>artists_name</th>\n",
       "    </tr>\n",
       "  </thead>\n",
       "  <tbody>\n",
       "    <tr>\n",
       "      <th>0</th>\n",
       "      <td>Between Waves</td>\n",
       "      <td>7BlRx52vRmpTUXYLRiNZsR</td>\n",
       "      <td>Fletcher Reed</td>\n",
       "    </tr>\n",
       "    <tr>\n",
       "      <th>1</th>\n",
       "      <td>Late Summer</td>\n",
       "      <td>1JkwkL02sWvXXrZBxxueEJ</td>\n",
       "      <td>Chill Beats Music, Teo</td>\n",
       "    </tr>\n",
       "    <tr>\n",
       "      <th>2</th>\n",
       "      <td>Peace of Mind</td>\n",
       "      <td>7m9DwYCtmES5QkZzELMuIp</td>\n",
       "      <td>Chill Beats Music, Hanimo</td>\n",
       "    </tr>\n",
       "    <tr>\n",
       "      <th>3</th>\n",
       "      <td>After Hours</td>\n",
       "      <td>51LsiDyQKJbH5CVLHpsowc</td>\n",
       "      <td>Chill Beats Music, Board-Man</td>\n",
       "    </tr>\n",
       "    <tr>\n",
       "      <th>4</th>\n",
       "      <td>Standing Still</td>\n",
       "      <td>3pGk6zfgPFMEdTXhvEdP7t</td>\n",
       "      <td>Chill Beats Music, kevatta</td>\n",
       "    </tr>\n",
       "    <tr>\n",
       "      <th>...</th>\n",
       "      <td>...</td>\n",
       "      <td>...</td>\n",
       "      <td>...</td>\n",
       "    </tr>\n",
       "    <tr>\n",
       "      <th>19792</th>\n",
       "      <td>Kafka</td>\n",
       "      <td>6QlAW39LcyCNTxqsYjRBki</td>\n",
       "      <td>Ercos Blanka</td>\n",
       "    </tr>\n",
       "    <tr>\n",
       "      <th>19793</th>\n",
       "      <td>Branches</td>\n",
       "      <td>6q5QgqXvW1lgIBSdSihcVN</td>\n",
       "      <td>Nora En Pure</td>\n",
       "    </tr>\n",
       "    <tr>\n",
       "      <th>19794</th>\n",
       "      <td>Whispers</td>\n",
       "      <td>0V8okvZJmTFqnbsW9L1v1N</td>\n",
       "      <td>Valante</td>\n",
       "    </tr>\n",
       "    <tr>\n",
       "      <th>19795</th>\n",
       "      <td>Setting Sail - Chill Mix</td>\n",
       "      <td>3Am7bRVPs1DPbTkYQb9giH</td>\n",
       "      <td>Eastern Odyssey</td>\n",
       "    </tr>\n",
       "    <tr>\n",
       "      <th>19796</th>\n",
       "      <td>Brigante - Nhar Remix</td>\n",
       "      <td>2ff87EDRvp1GIY60XVLxwp</td>\n",
       "      <td>Ercos Blanka, Nhar</td>\n",
       "    </tr>\n",
       "  </tbody>\n",
       "</table>\n",
       "<p>16074 rows × 3 columns</p>\n",
       "</div>"
      ],
      "text/plain": [
       "                           name                      id  \\\n",
       "0                 Between Waves  7BlRx52vRmpTUXYLRiNZsR   \n",
       "1                   Late Summer  1JkwkL02sWvXXrZBxxueEJ   \n",
       "2                 Peace of Mind  7m9DwYCtmES5QkZzELMuIp   \n",
       "3                   After Hours  51LsiDyQKJbH5CVLHpsowc   \n",
       "4                Standing Still  3pGk6zfgPFMEdTXhvEdP7t   \n",
       "...                         ...                     ...   \n",
       "19792                     Kafka  6QlAW39LcyCNTxqsYjRBki   \n",
       "19793                  Branches  6q5QgqXvW1lgIBSdSihcVN   \n",
       "19794                  Whispers  0V8okvZJmTFqnbsW9L1v1N   \n",
       "19795  Setting Sail - Chill Mix  3Am7bRVPs1DPbTkYQb9giH   \n",
       "19796     Brigante - Nhar Remix  2ff87EDRvp1GIY60XVLxwp   \n",
       "\n",
       "                       artists_name  \n",
       "0                     Fletcher Reed  \n",
       "1            Chill Beats Music, Teo  \n",
       "2         Chill Beats Music, Hanimo  \n",
       "3      Chill Beats Music, Board-Man  \n",
       "4        Chill Beats Music, kevatta  \n",
       "...                             ...  \n",
       "19792                  Ercos Blanka  \n",
       "19793                  Nora En Pure  \n",
       "19794                       Valante  \n",
       "19795               Eastern Odyssey  \n",
       "19796            Ercos Blanka, Nhar  \n",
       "\n",
       "[16074 rows x 3 columns]"
      ]
     },
     "execution_count": 17,
     "metadata": {},
     "output_type": "execute_result"
    }
   ],
   "source": [
    "# last index doesn't show the total here, since we remove repeated tracks\n",
    "print('So far from the above playlists we have collected : {} tracks'.format(len(full_df)))\n",
    "full_df"
   ]
  },
  {
   "cell_type": "markdown",
   "metadata": {},
   "source": [
    "Let's include tracks from Silk music and Anjunabeats discography.\n",
    "Note : Silk music is present on spotify as an artist rather than a user unlike\n",
    "most other labels are, and there are no endpoints on the spotify webapi\n",
    "which gives access to an artist's public playlists. \n",
    "Hence, we are getting URIs of these playlists manually."
   ]
  },
  {
   "cell_type": "code",
   "execution_count": 18,
   "metadata": {},
   "outputs": [],
   "source": [
    "uris = ['spotify:playlist:7mLu08jeo1UJRAPhcNo1NA', 'spotify:playlist:2WXcnnjBAVWh3pyPme2AzA',\\\n",
    "        'spotify:playlist:2Gv5OEPtSFXdVRIR9XcCYl', 'spotify:playlist:5YBoaqYu4nR1klcylFyPDO',\\\n",
    "        'spotify:playlist:0KOeFoxHzINtljRqURylxF', 'spotify:playlist:1CMTxvbJpzJ7aBSiyjqvkD']\n",
    "id_list = scp.uri_to_id(uris)\n",
    "df = scp.get_tracks_df(sp, id_list)"
   ]
  },
  {
   "cell_type": "code",
   "execution_count": 19,
   "metadata": {},
   "outputs": [
    {
     "data": {
      "text/html": [
       "<div>\n",
       "<style scoped>\n",
       "    .dataframe tbody tr th:only-of-type {\n",
       "        vertical-align: middle;\n",
       "    }\n",
       "\n",
       "    .dataframe tbody tr th {\n",
       "        vertical-align: top;\n",
       "    }\n",
       "\n",
       "    .dataframe thead th {\n",
       "        text-align: right;\n",
       "    }\n",
       "</style>\n",
       "<table border=\"1\" class=\"dataframe\">\n",
       "  <thead>\n",
       "    <tr style=\"text-align: right;\">\n",
       "      <th></th>\n",
       "      <th>name</th>\n",
       "      <th>id</th>\n",
       "      <th>artists_name</th>\n",
       "    </tr>\n",
       "  </thead>\n",
       "  <tbody>\n",
       "    <tr>\n",
       "      <th>2898</th>\n",
       "      <td>Volume One - Anjuna Deep Mix</td>\n",
       "      <td>4qKcK7oKhB2oMF1Ny2T4Rr</td>\n",
       "      <td>Anjunabeats</td>\n",
       "    </tr>\n",
       "    <tr>\n",
       "      <th>2899</th>\n",
       "      <td>Volume One - Original Mix</td>\n",
       "      <td>1ZfyvweqqR3csr8K4ACjt4</td>\n",
       "      <td>Anjunabeats</td>\n",
       "    </tr>\n",
       "    <tr>\n",
       "      <th>2900</th>\n",
       "      <td>Volume One - Tease Dub</td>\n",
       "      <td>4GYyq7cPaTjyynNWpPkC9P</td>\n",
       "      <td>Anjunabeats</td>\n",
       "    </tr>\n",
       "    <tr>\n",
       "      <th>2901</th>\n",
       "      <td>Remember - Genix Remix</td>\n",
       "      <td>5pHHeT460Tb9HkTca1HY7v</td>\n",
       "      <td>Gabriel &amp; Dresden, Centre, Genix</td>\n",
       "    </tr>\n",
       "    <tr>\n",
       "      <th>2902</th>\n",
       "      <td>Won't Sleep Tonight - Moody Dub Mix</td>\n",
       "      <td>3G2fWbQSseRglXGRhC99Jm</td>\n",
       "      <td>Super8 &amp; Tab</td>\n",
       "    </tr>\n",
       "  </tbody>\n",
       "</table>\n",
       "</div>"
      ],
      "text/plain": [
       "                                     name                      id  \\\n",
       "2898         Volume One - Anjuna Deep Mix  4qKcK7oKhB2oMF1Ny2T4Rr   \n",
       "2899            Volume One - Original Mix  1ZfyvweqqR3csr8K4ACjt4   \n",
       "2900               Volume One - Tease Dub  4GYyq7cPaTjyynNWpPkC9P   \n",
       "2901               Remember - Genix Remix  5pHHeT460Tb9HkTca1HY7v   \n",
       "2902  Won't Sleep Tonight - Moody Dub Mix  3G2fWbQSseRglXGRhC99Jm   \n",
       "\n",
       "                          artists_name  \n",
       "2898                       Anjunabeats  \n",
       "2899                       Anjunabeats  \n",
       "2900                       Anjunabeats  \n",
       "2901  Gabriel & Dresden, Centre, Genix  \n",
       "2902                      Super8 & Tab  "
      ]
     },
     "execution_count": 19,
     "metadata": {},
     "output_type": "execute_result"
    }
   ],
   "source": [
    "df.tail()"
   ]
  },
  {
   "cell_type": "code",
   "execution_count": 20,
   "metadata": {},
   "outputs": [],
   "source": [
    "# update full_df by adding tracks from anjunabeats disc and removing duplicates\n",
    "full_df = pd.concat([full_df, df], ignore_index=True)"
   ]
  },
  {
   "cell_type": "code",
   "execution_count": 21,
   "metadata": {},
   "outputs": [
    {
     "data": {
      "text/html": [
       "<div>\n",
       "<style scoped>\n",
       "    .dataframe tbody tr th:only-of-type {\n",
       "        vertical-align: middle;\n",
       "    }\n",
       "\n",
       "    .dataframe tbody tr th {\n",
       "        vertical-align: top;\n",
       "    }\n",
       "\n",
       "    .dataframe thead th {\n",
       "        text-align: right;\n",
       "    }\n",
       "</style>\n",
       "<table border=\"1\" class=\"dataframe\">\n",
       "  <thead>\n",
       "    <tr style=\"text-align: right;\">\n",
       "      <th></th>\n",
       "      <th>name</th>\n",
       "      <th>id</th>\n",
       "      <th>artists_name</th>\n",
       "    </tr>\n",
       "  </thead>\n",
       "  <tbody>\n",
       "    <tr>\n",
       "      <th>18615</th>\n",
       "      <td>Volume One - Anjuna Deep Mix</td>\n",
       "      <td>4qKcK7oKhB2oMF1Ny2T4Rr</td>\n",
       "      <td>Anjunabeats</td>\n",
       "    </tr>\n",
       "    <tr>\n",
       "      <th>18616</th>\n",
       "      <td>Volume One - Original Mix</td>\n",
       "      <td>1ZfyvweqqR3csr8K4ACjt4</td>\n",
       "      <td>Anjunabeats</td>\n",
       "    </tr>\n",
       "    <tr>\n",
       "      <th>18617</th>\n",
       "      <td>Volume One - Tease Dub</td>\n",
       "      <td>4GYyq7cPaTjyynNWpPkC9P</td>\n",
       "      <td>Anjunabeats</td>\n",
       "    </tr>\n",
       "    <tr>\n",
       "      <th>18618</th>\n",
       "      <td>Remember - Genix Remix</td>\n",
       "      <td>5pHHeT460Tb9HkTca1HY7v</td>\n",
       "      <td>Gabriel &amp; Dresden, Centre, Genix</td>\n",
       "    </tr>\n",
       "    <tr>\n",
       "      <th>18619</th>\n",
       "      <td>Won't Sleep Tonight - Moody Dub Mix</td>\n",
       "      <td>3G2fWbQSseRglXGRhC99Jm</td>\n",
       "      <td>Super8 &amp; Tab</td>\n",
       "    </tr>\n",
       "  </tbody>\n",
       "</table>\n",
       "</div>"
      ],
      "text/plain": [
       "                                      name                      id  \\\n",
       "18615         Volume One - Anjuna Deep Mix  4qKcK7oKhB2oMF1Ny2T4Rr   \n",
       "18616            Volume One - Original Mix  1ZfyvweqqR3csr8K4ACjt4   \n",
       "18617               Volume One - Tease Dub  4GYyq7cPaTjyynNWpPkC9P   \n",
       "18618               Remember - Genix Remix  5pHHeT460Tb9HkTca1HY7v   \n",
       "18619  Won't Sleep Tonight - Moody Dub Mix  3G2fWbQSseRglXGRhC99Jm   \n",
       "\n",
       "                           artists_name  \n",
       "18615                       Anjunabeats  \n",
       "18616                       Anjunabeats  \n",
       "18617                       Anjunabeats  \n",
       "18618  Gabriel & Dresden, Centre, Genix  \n",
       "18619                      Super8 & Tab  "
      ]
     },
     "execution_count": 21,
     "metadata": {},
     "output_type": "execute_result"
    }
   ],
   "source": [
    "# index has reset\n",
    "full_df.tail()"
   ]
  },
  {
   "cell_type": "code",
   "execution_count": 22,
   "metadata": {},
   "outputs": [
    {
     "name": "stdout",
     "output_type": "stream",
     "text": [
      "The final number of total tracks is: 18423\n"
     ]
    }
   ],
   "source": [
    "subdf = full_df[full_df.duplicated(subset=['name', 'artists_name'], keep='first')]\n",
    "full_df = full_df.drop(subdf.index)\n",
    "print('The final number of total tracks is:', len(full_df))"
   ]
  },
  {
   "cell_type": "code",
   "execution_count": 23,
   "metadata": {
    "scrolled": true
   },
   "outputs": [
    {
     "data": {
      "text/html": [
       "<div>\n",
       "<style scoped>\n",
       "    .dataframe tbody tr th:only-of-type {\n",
       "        vertical-align: middle;\n",
       "    }\n",
       "\n",
       "    .dataframe tbody tr th {\n",
       "        vertical-align: top;\n",
       "    }\n",
       "\n",
       "    .dataframe thead th {\n",
       "        text-align: right;\n",
       "    }\n",
       "</style>\n",
       "<table border=\"1\" class=\"dataframe\">\n",
       "  <thead>\n",
       "    <tr style=\"text-align: right;\">\n",
       "      <th></th>\n",
       "      <th>name</th>\n",
       "      <th>id</th>\n",
       "      <th>artists_name</th>\n",
       "    </tr>\n",
       "  </thead>\n",
       "  <tbody>\n",
       "    <tr>\n",
       "      <th>18614</th>\n",
       "      <td>Volume One - Free State vs Dirt Devils Remix</td>\n",
       "      <td>03NSRR3kgp4oOKqGtTEjOZ</td>\n",
       "      <td>Anjunabeats</td>\n",
       "    </tr>\n",
       "    <tr>\n",
       "      <th>18615</th>\n",
       "      <td>Volume One - Anjuna Deep Mix</td>\n",
       "      <td>4qKcK7oKhB2oMF1Ny2T4Rr</td>\n",
       "      <td>Anjunabeats</td>\n",
       "    </tr>\n",
       "    <tr>\n",
       "      <th>18616</th>\n",
       "      <td>Volume One - Original Mix</td>\n",
       "      <td>1ZfyvweqqR3csr8K4ACjt4</td>\n",
       "      <td>Anjunabeats</td>\n",
       "    </tr>\n",
       "    <tr>\n",
       "      <th>18617</th>\n",
       "      <td>Volume One - Tease Dub</td>\n",
       "      <td>4GYyq7cPaTjyynNWpPkC9P</td>\n",
       "      <td>Anjunabeats</td>\n",
       "    </tr>\n",
       "    <tr>\n",
       "      <th>18619</th>\n",
       "      <td>Won't Sleep Tonight - Moody Dub Mix</td>\n",
       "      <td>3G2fWbQSseRglXGRhC99Jm</td>\n",
       "      <td>Super8 &amp; Tab</td>\n",
       "    </tr>\n",
       "  </tbody>\n",
       "</table>\n",
       "</div>"
      ],
      "text/plain": [
       "                                               name                      id  \\\n",
       "18614  Volume One - Free State vs Dirt Devils Remix  03NSRR3kgp4oOKqGtTEjOZ   \n",
       "18615                  Volume One - Anjuna Deep Mix  4qKcK7oKhB2oMF1Ny2T4Rr   \n",
       "18616                     Volume One - Original Mix  1ZfyvweqqR3csr8K4ACjt4   \n",
       "18617                        Volume One - Tease Dub  4GYyq7cPaTjyynNWpPkC9P   \n",
       "18619           Won't Sleep Tonight - Moody Dub Mix  3G2fWbQSseRglXGRhC99Jm   \n",
       "\n",
       "       artists_name  \n",
       "18614   Anjunabeats  \n",
       "18615   Anjunabeats  \n",
       "18616   Anjunabeats  \n",
       "18617   Anjunabeats  \n",
       "18619  Super8 & Tab  "
      ]
     },
     "execution_count": 23,
     "metadata": {},
     "output_type": "execute_result"
    }
   ],
   "source": [
    "# reset the index\n",
    "#full_df.reset_index(drop=True)\n",
    "full_df.tail()"
   ]
  },
  {
   "cell_type": "markdown",
   "metadata": {},
   "source": [
    "Save the above dataframe in parquet to load later"
   ]
  },
  {
   "cell_type": "code",
   "execution_count": 24,
   "metadata": {},
   "outputs": [],
   "source": [
    "p = Path.cwd().joinpath('Dataset')\n",
    "p.mkdir(exist_ok=True)"
   ]
  },
  {
   "cell_type": "code",
   "execution_count": 25,
   "metadata": {},
   "outputs": [],
   "source": [
    "if not Path(p.joinpath('musiclabels_tracks.parquet')).exists():\n",
    "    full_df.to_parquet(p.joinpath('musiclabels_tracks.parquet'), engine='pyarrow')"
   ]
  }
 ],
 "metadata": {
  "kernelspec": {
   "display_name": "Python 3",
   "language": "python",
   "name": "python3"
  },
  "language_info": {
   "codemirror_mode": {
    "name": "ipython",
    "version": 3
   },
   "file_extension": ".py",
   "mimetype": "text/x-python",
   "name": "python",
   "nbconvert_exporter": "python",
   "pygments_lexer": "ipython3",
   "version": "3.7.7"
  }
 },
 "nbformat": 4,
 "nbformat_minor": 4
}
