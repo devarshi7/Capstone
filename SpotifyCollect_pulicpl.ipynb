{
 "cells": [
  {
   "cell_type": "raw",
   "metadata": {},
   "source": [
    "### To-do \n",
    "\n",
    " - use this notebook as experiment base.\n",
    " - make a function/s to create training database for autoencoder\n",
    " - test and export the function the spotifyCollection module\n"
   ]
  },
  {
   "cell_type": "code",
   "execution_count": 1,
   "metadata": {},
   "outputs": [],
   "source": [
    "%load_ext autoreload"
   ]
  },
  {
   "cell_type": "code",
   "execution_count": 31,
   "metadata": {},
   "outputs": [],
   "source": [
    "from cap_package import SpotipyCollect as sc\n",
    "from dotenv import load_dotenv\n",
    "import os\n",
    "import pandas as pd\n",
    "from pandas import json_normalize\n",
    "from pathlib import Path\n",
    "import re\n",
    "import spotipy\n",
    "from spotipy.oauth2 import SpotifyClientCredentials"
   ]
  },
  {
   "cell_type": "code",
   "execution_count": 3,
   "metadata": {},
   "outputs": [],
   "source": [
    "from IPython.utils.text import columnize\n",
    "\n",
    "%autoreload 2\n",
    "#%aimport cap_package.SpotipyCollect"
   ]
  },
  {
   "cell_type": "code",
   "execution_count": 4,
   "metadata": {},
   "outputs": [],
   "source": [
    "def disp_col(list_):\n",
    "    \n",
    "    # import -> from IPython.utils.text import columnize\n",
    "    l = list(map(lambda x:repr(x)+',', list_))\n",
    "    print(columnize(l, displaywidth=120))"
   ]
  },
  {
   "cell_type": "code",
   "execution_count": 5,
   "metadata": {},
   "outputs": [
    {
     "name": "stdout",
     "output_type": "stream",
     "text": [
      "'Path',          '__package__',           'get_playlist_analysis',  'playlists_id_url',      'tracks_analysis',\n",
      "'__builtins__',  '__spec__',              'get_playlists',          're',                    'uri_to_id',      \n",
      "'__cached__',    'convert_time',          'get_segments',           'spotipy',               'util',           \n",
      "'__doc__',       'create_dataset',        'get_tracks',             'spotipy_userauth',    \n",
      "'__file__',      'filtersort_playlists',  'get_tracks_analysis',    'spotipy_userauth2',   \n",
      "'__loader__',    'get_folder_analysis',   'json_normalize',         'track_anlaysis_to_df',\n",
      "'__name__',      'get_pl_details',        'pd',                     'track_genre',         \n",
      "\n"
     ]
    }
   ],
   "source": [
    "disp_col(dir(sc))"
   ]
  },
  {
   "cell_type": "code",
   "execution_count": 6,
   "metadata": {},
   "outputs": [],
   "source": [
    "load_dotenv()\n",
    "SPOTIPY_CLIENT_ID = os.getenv('CLIENT_ID')\n",
    "SPOTIPY_CLIENT_SECRET = os.getenv('CLIENT_SECRET')\n",
    "REDIRECT_URI = os.getenv('REDIRECT_URI')\n",
    "USERNAME = os.getenv('SPOTIFY_USERNAME')\n",
    "SCOPE = 'playlist-read-private'"
   ]
  },
  {
   "cell_type": "code",
   "execution_count": 7,
   "metadata": {},
   "outputs": [],
   "source": [
    "client_credentials_manager = SpotifyClientCredentials(client_id=SPOTIPY_CLIENT_ID, client_secret=SPOTIPY_CLIENT_SECRET)\n",
    "sp = spotipy.Spotify(client_credentials_manager=client_credentials_manager)"
   ]
  },
  {
   "cell_type": "code",
   "execution_count": 8,
   "metadata": {},
   "outputs": [],
   "source": [
    "edm_uri = ['spotify:playlist:37i9dQZF1DXbtYAdenGE9U', 'spotify:playlist:4VXFwpNvQysB8yS6E2t2ls', 'spotify:playlist:455gfStHYs7s0EUhhS591b',\\\n",
    "          'spotify:playlist:3oNKs96UlpNNZMdzvlHZFk', 'spotify:playlist:68BiK8KG3otORDaYB3ZaO9', 'spotify:playlist:5S33MuzhWWNW57z49eBSui', 'spotify:playlist:37i9dQZF1DWTiVLKoHQ1yC',\\\n",
    "          'spotify:playlist:4LIb2PKCU2q36oMfA4eNHl', 'spotify:playlist:2fYyFd58VaANjZ1uDAOsfZ', 'spotify:playlist:6H1MXvrBsxKECZ70yiBGSc','spotify:playlist:2Gv5OEPtSFXdVRIR9XcCYl',\n",
    "          'spotify:playlist:5YBoaqYu4nR1klcylFyPDO', 'spotify:playlist:0KOeFoxHzINtljRqURylxF', 'spotify:playlist:37i9dQZF1DX5Q27plkaOQ3', 'spotify:playlist:37i9dQZF1DX1OIMC8iDi74',\\\n",
    "          'spotify:playlist:37i9dQZF1DWUq3wF0JVtEy', 'spotify:playlist:37i9dQZF1DX6J5NfMJS675', 'spotify:playlist:37i9dQZF1DX2pprEpa9URZ', 'spotify:playlist:37i9dQZF1DX0r3x8OtiwEM',\\\n",
    "          'spotify:playlist:37i9dQZF1DXbXD9pMSZomS', 'spotify:playlist:37i9dQZF1DWVCHIm2MEeIy', 'spotify:playlist:37i9dQZF1DWYzMfRQj22Nd', 'spotify:playlist:37i9dQZF1DX11pUHJdXMnN',\\\n",
    "          'spotify:playlist:37i9dQZF1DWVY4eLfA3XFQ']\n",
    "edm_name = ['Trance_energy', 'Armada_top_house', 'Armada_deep_house_hits', \\\n",
    "            'Armada_electronics_elements', 'Armada_chillout', 'Spinnin_recs_Prog_house', 'Melodic_and_euphoric',\\\n",
    "           'Anjunadeep_chillout', 'Colorize', 'Silk_melodic_trance_house', 'silk_prog_house_trance',\\\n",
    "           'silk_chillout', 'silk_deep_house', 'spotify_dubstep', 'spotify_trap', 'spotify_futurebass', 'spotify_techno',\\\n",
    "           'spotify_organica', 'spotify_lowkeyTech', 'Spotify_lofiHouse', 'Spotify_electronicc', 'spotify_DnB',\\\n",
    "           'spotify_laserDisco', 'spotify_swagHouse']"
   ]
  },
  {
   "cell_type": "code",
   "execution_count": 9,
   "metadata": {},
   "outputs": [
    {
     "name": "stdout",
     "output_type": "stream",
     "text": [
      "'37i9dQZF1DXbtYAdenGE9U',  '37i9dQZF1DWTiVLKoHQ1yC',  '0KOeFoxHzINtljRqURylxF',  '37i9dQZF1DX0r3x8OtiwEM',\n",
      "'4VXFwpNvQysB8yS6E2t2ls',  '4LIb2PKCU2q36oMfA4eNHl',  '37i9dQZF1DX5Q27plkaOQ3',  '37i9dQZF1DXbXD9pMSZomS',\n",
      "'455gfStHYs7s0EUhhS591b',  '2fYyFd58VaANjZ1uDAOsfZ',  '37i9dQZF1DX1OIMC8iDi74',  '37i9dQZF1DWVCHIm2MEeIy',\n",
      "'3oNKs96UlpNNZMdzvlHZFk',  '6H1MXvrBsxKECZ70yiBGSc',  '37i9dQZF1DWUq3wF0JVtEy',  '37i9dQZF1DWYzMfRQj22Nd',\n",
      "'68BiK8KG3otORDaYB3ZaO9',  '2Gv5OEPtSFXdVRIR9XcCYl',  '37i9dQZF1DX6J5NfMJS675',  '37i9dQZF1DX11pUHJdXMnN',\n",
      "'5S33MuzhWWNW57z49eBSui',  '5YBoaqYu4nR1klcylFyPDO',  '37i9dQZF1DX2pprEpa9URZ',  '37i9dQZF1DWVY4eLfA3XFQ',\n",
      "\n"
     ]
    }
   ],
   "source": [
    "edm_id = sc.uri_to_id(edm_uri)\n",
    "disp_col(edm_id)"
   ]
  },
  {
   "cell_type": "code",
   "execution_count": 10,
   "metadata": {},
   "outputs": [],
   "source": [
    "def get_public_playlists(usernames, keys=('id','name','description')):\n",
    "    '''\n",
    "    List of usernames\n",
    "    '''\n",
    "    userpl_list = []\n",
    "    for username in usernames:\n",
    "        user_pl =[]\n",
    "        playlists = sp.user_playlists(username)\n",
    "        \n",
    "        while playlists:\n",
    "\n",
    "            for i, playlist in enumerate(playlists['items']):\n",
    "                user_pl.append(tuple([playlist[k] for k in keys]))\n",
    "            if playlists['next']:\n",
    "                playlists = sp.next(playlists)\n",
    "            else:\n",
    "                playlists = None\n",
    "        userpl_list.append(user_pl)\n",
    "        \n",
    "    return userpl_list"
   ]
  },
  {
   "cell_type": "code",
   "execution_count": 11,
   "metadata": {},
   "outputs": [],
   "source": [
    "def filterby_keyword(keywords, ex_list, playlists):\n",
    "    '''\n",
    "    filter playlists based on keywords\n",
    "    keywords : list of words to match\n",
    "    ex_list  : list of words to exlcude/ not match\n",
    "    playlists : list of users' playlists-\n",
    "                list of tuples - (id, playlists name, description, ...(if other features exist))\n",
    "    returns : filtered list of tuples\n",
    "    '''\n",
    "    kw_string = '\\W* |'.join(map(str, keywords)) # include non word characters and space to match these as separate words that may contain special characters\n",
    "    ex_string = '|'.join(map(str, ex_list))\n",
    "    \n",
    "    filtered = []\n",
    "    \n",
    "    for user in range(len(playlists)):\n",
    "        \n",
    "        user_filpl = []\n",
    "        \n",
    "        for pl in playlists[user]:\n",
    "\n",
    "            name = re.findall(kw_string , pl[1], flags=re.IGNORECASE)\n",
    "            desc = re.findall(kw_string , pl[2], flags =re.IGNORECASE)\n",
    "\n",
    "            if name or desc:\n",
    "                ex_name = re.findall(ex_string , pl[1], flags=re.IGNORECASE)\n",
    "                ex_desc = re.findall(ex_string , pl[2], flags=re.IGNORECASE)\n",
    "\n",
    "                if not(ex_name or ex_desc):\n",
    "\n",
    "                    user_filpl.append(pl)\n",
    "        filtered.append(user_filpl)\n",
    "        \n",
    "    return filtered\n",
    "            "
   ]
  },
  {
   "cell_type": "code",
   "execution_count": 12,
   "metadata": {},
   "outputs": [],
   "source": [
    "def get_tracks(spotipyUserAuth, playlist_id, allCol=False, showkeys=False):\n",
    "   \n",
    "    track_lim = 100\n",
    "\n",
    "    tracks = spotipyUserAuth.playlist_tracks(playlist_id)\n",
    "\n",
    "    tracks_json = [tracks['items'][j]['track']\\\n",
    "                   for j in range(len(tracks['items'])) if tracks['items'][j]['track'] ]\n",
    "    tracks_df = json_normalize(tracks_json, sep='_')\n",
    "\n",
    "    if tracks['total'] > track_lim:\n",
    "        offset = track_lim\n",
    "        tracks_dflist = [tracks_df]\n",
    "\n",
    "        for i in range(int(tracks['total'] / track_lim)):\n",
    "        \n",
    "            tracks = spotipyUserAuth.playlist_tracks(playlist_id, offset=(i + 1) * offset)\n",
    "            tracks_json = [tracks['items'][j]['track']\\\n",
    "                           for j in range(len(tracks['items'])) if tracks['items'][j]['track'] ]\n",
    "            tracks_df_ = json_normalize(tracks_json, sep='_')\n",
    "            tracks_dflist.append(tracks_df_)\n",
    "\n",
    "        tracks_df = pd.concat(tracks_dflist, ignore_index=True)\n",
    "\n",
    "    if allCol is False:\n",
    "        df = tracks_df[['name', 'id']]\n",
    "    else:\n",
    "        df = tracks_df\n",
    "\n",
    "    if showkeys is True:\n",
    "        print('Info keys are :', tracks_df.columns)\n",
    "\n",
    "    return df"
   ]
  },
  {
   "cell_type": "code",
   "execution_count": 13,
   "metadata": {},
   "outputs": [],
   "source": [
    "def get_tracks_df(playlistIDs, rem_dup=True, allCol=False):\n",
    "    '''\n",
    "    Gets tracks from spotipfy API of the listed playlists and returns \n",
    "    a single dataframe of tracks from all playlists\n",
    "    \n",
    "    playlistIDs : list of playlist IDs\n",
    "    rem_dup : Default True. Remove duplicate entries of tracks\n",
    "              if track name and artists' names match\n",
    "    \n",
    "    returns : dataframe fo tracks df\n",
    "    '''\n",
    "    \n",
    "    tracks_df = [get_tracks(sp, playlistIDs[i], allCol=True) for i in range(len(playlistIDs))]\n",
    "    pl_full_df = pd.concat(tracks_df, ignore_index=True)\n",
    "    \n",
    "    artists_list = get_artist_name(pl_full_df)\n",
    "    pl_full_df.insert( loc=0, column='artists_name', value=artists_list)\n",
    "    \n",
    "    if rem_dup:\n",
    "        subdf = pl_full_df[pl_full_df.duplicated(subset=['name', 'artists_name'], keep='first')]\n",
    "        pl_full_df = pl_full_df.drop(subdf.index)\n",
    "        pl_full_df.reset_index(drop=True)\n",
    "        \n",
    "    if not allCol:\n",
    "        pl_full_df = pl_full_df[['name', 'id', 'artists_name']]\n",
    "    \n",
    "    return pl_full_df"
   ]
  },
  {
   "cell_type": "code",
   "execution_count": 14,
   "metadata": {},
   "outputs": [],
   "source": [
    "def get_artist_name(pl_full_df):\n",
    "    \n",
    "    artists_list = []\n",
    "    \n",
    "    for a in pl_full_df.artists:\n",
    "        \n",
    "        track_artists = []\n",
    "        \n",
    "        for i in a:\n",
    "            \n",
    "            track_artists.append(i['name'])\n",
    "        \n",
    "        ta = ', '.join(map(str, track_artists))\n",
    "        artists_list.append(ta)\n",
    "    \n",
    "    return artists_list"
   ]
  },
  {
   "cell_type": "code",
   "execution_count": 15,
   "metadata": {},
   "outputs": [],
   "source": [
    "keywords = ['Progressive', 'melodic', 'chillout', 'deep', 'lofi', 'lo-fi', 'house', 'trance', 'trap', 'drum', 'bass',\\\n",
    "           'electronic', 'techno', 'dubstep', 'releases','releases', 'released']\n",
    "exclude = ['rock', 'country', 'classical', 'Orchestra', 'pop', 'reggae', 'indie', 'punk', 'metal', 'soul' ]"
   ]
  },
  {
   "cell_type": "code",
   "execution_count": 16,
   "metadata": {},
   "outputs": [],
   "source": [
    "user_uri = ['spotify:user:vcdikomxn7xuhp0ci0pn31pn9', 'spotify:user:anjunadeep', 'spotify:user:spinninrecordsofficial',\\\n",
    "            'spotify:user:enhanced_music', 'spotify:user:emergentmusic', 'spotify:user:armadamusicofficial',\\\n",
    "            'spotify:user:spotify']"
   ]
  },
  {
   "cell_type": "code",
   "execution_count": 17,
   "metadata": {},
   "outputs": [
    {
     "data": {
      "text/plain": [
       "['vcdikomxn7xuhp0ci0pn31pn9',\n",
       " 'anjunadeep',\n",
       " 'spinninrecordsofficial',\n",
       " 'enhanced_music',\n",
       " 'emergentmusic',\n",
       " 'armadamusicofficial',\n",
       " 'spotify']"
      ]
     },
     "execution_count": 17,
     "metadata": {},
     "output_type": "execute_result"
    }
   ],
   "source": [
    "user_id = sc.uri_to_id(user_uri)\n",
    "user_id"
   ]
  },
  {
   "cell_type": "code",
   "execution_count": 18,
   "metadata": {},
   "outputs": [],
   "source": [
    "users_pl = get_public_playlists(user_id)"
   ]
  },
  {
   "cell_type": "code",
   "execution_count": 19,
   "metadata": {},
   "outputs": [
    {
     "name": "stdout",
     "output_type": "stream",
     "text": [
      "There are a total of 7 users\n",
      "Some public playlists of a user : \n"
     ]
    },
    {
     "data": {
      "text/plain": [
       "[('4PzgMtDpYGAKUD6HUtFTkN',\n",
       "  'Enhanced Latest Releases',\n",
       "  'The most recent Enhanced releases all in one playlist, updated weekly. Related Playlists: <a href=\"https://open.spotify.com/user/enhanced_music/playlist/0lfuRuuTMfrTkzaDOLFlYM?si=NFOw2zjoRQeWcl182lECZw\">Dance &amp; EDM 2020</a>.'),\n",
       " ('4sjsye4xyuVeYFQh0MJlMG',\n",
       "  'Electronic Chill',\n",
       "  'A selection of Ambient and Electronica, lose yourself in these sonic gems.'),\n",
       " ('0lfuRuuTMfrTkzaDOLFlYM',\n",
       "  'Dance & EDM 2020',\n",
       "  'THE hottest tracks in Dance Music. Featuring the latest from Martin Garrix, Deadmau5, Kaskade, Tritonal, Alesso and more.'),\n",
       " ('2AYDglM1LTpPSn5cSRvGDM',\n",
       "  'Witness The Fitness ',\n",
       "  'Workout with Witness The Fitness for the ultimate gym playlist, featuring Regard, Gorgon City, Mabel and more! '),\n",
       " ('1JM1GoxgcTkyiKLJUJIYiu',\n",
       "  'Progressive Trance',\n",
       "  'Progressive and Melodic Trance with Above &amp; Beyond, Farius, Tritonal, ALPHA 9, Cosmic Gate and more. <a href=\"https://show.co/osrz29G\">Submit here</a>.'),\n",
       " ('3CfUZ5lcVkkimVJxYOgWvd',\n",
       "  'Tritonal Selects',\n",
       "  'A collection of our latest releases and current favorites. Enjoy - Chad &amp; Dave')]"
      ]
     },
     "execution_count": 19,
     "metadata": {},
     "output_type": "execute_result"
    }
   ],
   "source": [
    "# Let's see what the above output looks like\n",
    "print( 'There are a total of {} users'.format(len(users_pl)))\n",
    "print('Some public playlists of a user : ')\n",
    "users_pl[3]"
   ]
  },
  {
   "cell_type": "code",
   "execution_count": 20,
   "metadata": {},
   "outputs": [
    {
     "name": "stdout",
     "output_type": "stream",
     "text": [
      " We can see some playlits have been filtered from the above list\n"
     ]
    },
    {
     "data": {
      "text/plain": [
       "[('4PzgMtDpYGAKUD6HUtFTkN',\n",
       "  'Enhanced Latest Releases',\n",
       "  'The most recent Enhanced releases all in one playlist, updated weekly. Related Playlists: <a href=\"https://open.spotify.com/user/enhanced_music/playlist/0lfuRuuTMfrTkzaDOLFlYM?si=NFOw2zjoRQeWcl182lECZw\">Dance &amp; EDM 2020</a>.'),\n",
       " ('4sjsye4xyuVeYFQh0MJlMG',\n",
       "  'Electronic Chill',\n",
       "  'A selection of Ambient and Electronica, lose yourself in these sonic gems.'),\n",
       " ('1JM1GoxgcTkyiKLJUJIYiu',\n",
       "  'Progressive Trance',\n",
       "  'Progressive and Melodic Trance with Above &amp; Beyond, Farius, Tritonal, ALPHA 9, Cosmic Gate and more. <a href=\"https://show.co/osrz29G\">Submit here</a>.'),\n",
       " ('3CfUZ5lcVkkimVJxYOgWvd',\n",
       "  'Tritonal Selects',\n",
       "  'A collection of our latest releases and current favorites. Enjoy - Chad &amp; Dave')]"
      ]
     },
     "execution_count": 20,
     "metadata": {},
     "output_type": "execute_result"
    }
   ],
   "source": [
    "# Let's filter these playlists based on the keywords we are looking for\n",
    "filtered = filterby_keyword(keywords, exclude, users_pl)\n",
    "print(' We can see some playlits have been filtered from the above list')\n",
    "filtered[3]"
   ]
  },
  {
   "cell_type": "code",
   "execution_count": 21,
   "metadata": {},
   "outputs": [
    {
     "name": "stdout",
     "output_type": "stream",
     "text": [
      "'Chill Beats Weekly 🦔 groove, relax, study (chill lofi jazzhop)',\n",
      "'Chill Jazz Vibes 🎷 jazz beats to chillout (mellow jazzhop)',    \n",
      "'Mellow Lofi 💙 melodic lofi hip hop beats to study to',          \n",
      "\n",
      "----------------------------------------------------------------------------------------------------\n",
      "'Anjunadeep New Releases (Deep House, Techno, Electronica)',  'Summer Chillout with Anjunadeep',\n",
      "'Anjunadeep Recommends',                                    \n",
      "\n",
      "----------------------------------------------------------------------------------------------------\n",
      "'Spinnin’ Records Brand New',  \"Progressive House - by Spinnin' Records\",  \"Deep House Hits - by Spinnin' Records\",\n",
      "\n",
      "----------------------------------------------------------------------------------------------------\n",
      "'Enhanced Latest Releases',  'Electronic Chill',  'Progressive Trance',\n",
      "\n",
      "----------------------------------------------------------------------------------------------------\n",
      "'Emergent Music - New Releases',  'Emergent Music - Emotive Trance',  'Emergent Music - Melodic Progressive',\n",
      "\n",
      "----------------------------------------------------------------------------------------------------\n",
      "'Trance & Melodic Techno Top 1000 - by Armada Music',  'Deep House Hits - by Armada Music',\n",
      "'House Top 1000 - by Armada Record Box',             \n",
      "\n",
      "----------------------------------------------------------------------------------------------------\n",
      "'Alternative Beats',  'Bass Arcade',  'Lowkey Tech',\n",
      "\n",
      "----------------------------------------------------------------------------------------------------\n"
     ]
    }
   ],
   "source": [
    "# Let's see some names of filterted playlists\n",
    "for p in filtered:\n",
    "    #for x in p:\n",
    "    disp_col([x[1] for x in p][:3])\n",
    "    print('-'*100)"
   ]
  },
  {
   "cell_type": "code",
   "execution_count": 22,
   "metadata": {},
   "outputs": [
    {
     "name": "stdout",
     "output_type": "stream",
     "text": [
      "There are a total of 127 playlists\n"
     ]
    }
   ],
   "source": [
    "# extract playlist ids for input\n",
    "pl_id = [x[0] for y in filtered for x in y]\n",
    "print('There are a total of {} playlists'.format(len(pl_id)))"
   ]
  },
  {
   "cell_type": "code",
   "execution_count": 23,
   "metadata": {},
   "outputs": [],
   "source": [
    "full_df = get_tracks_df(pl_id)"
   ]
  },
  {
   "cell_type": "code",
   "execution_count": 24,
   "metadata": {
    "scrolled": true
   },
   "outputs": [
    {
     "name": "stdout",
     "output_type": "stream",
     "text": [
      "So far from the above playlists we have collected : 16020 tracks\n"
     ]
    },
    {
     "data": {
      "text/html": [
       "<div>\n",
       "<style scoped>\n",
       "    .dataframe tbody tr th:only-of-type {\n",
       "        vertical-align: middle;\n",
       "    }\n",
       "\n",
       "    .dataframe tbody tr th {\n",
       "        vertical-align: top;\n",
       "    }\n",
       "\n",
       "    .dataframe thead th {\n",
       "        text-align: right;\n",
       "    }\n",
       "</style>\n",
       "<table border=\"1\" class=\"dataframe\">\n",
       "  <thead>\n",
       "    <tr style=\"text-align: right;\">\n",
       "      <th></th>\n",
       "      <th>name</th>\n",
       "      <th>id</th>\n",
       "      <th>artists_name</th>\n",
       "    </tr>\n",
       "  </thead>\n",
       "  <tbody>\n",
       "    <tr>\n",
       "      <th>0</th>\n",
       "      <td>Between Waves</td>\n",
       "      <td>7BlRx52vRmpTUXYLRiNZsR</td>\n",
       "      <td>Fletcher Reed</td>\n",
       "    </tr>\n",
       "    <tr>\n",
       "      <th>1</th>\n",
       "      <td>Late Summer</td>\n",
       "      <td>1JkwkL02sWvXXrZBxxueEJ</td>\n",
       "      <td>Chill Beats Music, Teo</td>\n",
       "    </tr>\n",
       "    <tr>\n",
       "      <th>2</th>\n",
       "      <td>Peace of Mind</td>\n",
       "      <td>7m9DwYCtmES5QkZzELMuIp</td>\n",
       "      <td>Chill Beats Music, Hanimo</td>\n",
       "    </tr>\n",
       "    <tr>\n",
       "      <th>3</th>\n",
       "      <td>After Hours</td>\n",
       "      <td>51LsiDyQKJbH5CVLHpsowc</td>\n",
       "      <td>Chill Beats Music, Board-Man</td>\n",
       "    </tr>\n",
       "    <tr>\n",
       "      <th>4</th>\n",
       "      <td>Standing Still</td>\n",
       "      <td>3pGk6zfgPFMEdTXhvEdP7t</td>\n",
       "      <td>Chill Beats Music, kevatta</td>\n",
       "    </tr>\n",
       "    <tr>\n",
       "      <th>...</th>\n",
       "      <td>...</td>\n",
       "      <td>...</td>\n",
       "      <td>...</td>\n",
       "    </tr>\n",
       "    <tr>\n",
       "      <th>19729</th>\n",
       "      <td>Kafka</td>\n",
       "      <td>6QlAW39LcyCNTxqsYjRBki</td>\n",
       "      <td>Ercos Blanka</td>\n",
       "    </tr>\n",
       "    <tr>\n",
       "      <th>19730</th>\n",
       "      <td>Branches</td>\n",
       "      <td>6q5QgqXvW1lgIBSdSihcVN</td>\n",
       "      <td>Nora En Pure</td>\n",
       "    </tr>\n",
       "    <tr>\n",
       "      <th>19731</th>\n",
       "      <td>Whispers</td>\n",
       "      <td>0V8okvZJmTFqnbsW9L1v1N</td>\n",
       "      <td>Valante</td>\n",
       "    </tr>\n",
       "    <tr>\n",
       "      <th>19732</th>\n",
       "      <td>Setting Sail - Chill Mix</td>\n",
       "      <td>3Am7bRVPs1DPbTkYQb9giH</td>\n",
       "      <td>Eastern Odyssey</td>\n",
       "    </tr>\n",
       "    <tr>\n",
       "      <th>19733</th>\n",
       "      <td>Brigante - Nhar Remix</td>\n",
       "      <td>2ff87EDRvp1GIY60XVLxwp</td>\n",
       "      <td>Ercos Blanka, Nhar</td>\n",
       "    </tr>\n",
       "  </tbody>\n",
       "</table>\n",
       "<p>16020 rows × 3 columns</p>\n",
       "</div>"
      ],
      "text/plain": [
       "                           name                      id  \\\n",
       "0                 Between Waves  7BlRx52vRmpTUXYLRiNZsR   \n",
       "1                   Late Summer  1JkwkL02sWvXXrZBxxueEJ   \n",
       "2                 Peace of Mind  7m9DwYCtmES5QkZzELMuIp   \n",
       "3                   After Hours  51LsiDyQKJbH5CVLHpsowc   \n",
       "4                Standing Still  3pGk6zfgPFMEdTXhvEdP7t   \n",
       "...                         ...                     ...   \n",
       "19729                     Kafka  6QlAW39LcyCNTxqsYjRBki   \n",
       "19730                  Branches  6q5QgqXvW1lgIBSdSihcVN   \n",
       "19731                  Whispers  0V8okvZJmTFqnbsW9L1v1N   \n",
       "19732  Setting Sail - Chill Mix  3Am7bRVPs1DPbTkYQb9giH   \n",
       "19733     Brigante - Nhar Remix  2ff87EDRvp1GIY60XVLxwp   \n",
       "\n",
       "                       artists_name  \n",
       "0                     Fletcher Reed  \n",
       "1            Chill Beats Music, Teo  \n",
       "2         Chill Beats Music, Hanimo  \n",
       "3      Chill Beats Music, Board-Man  \n",
       "4        Chill Beats Music, kevatta  \n",
       "...                             ...  \n",
       "19729                  Ercos Blanka  \n",
       "19730                  Nora En Pure  \n",
       "19731                       Valante  \n",
       "19732               Eastern Odyssey  \n",
       "19733            Ercos Blanka, Nhar  \n",
       "\n",
       "[16020 rows x 3 columns]"
      ]
     },
     "execution_count": 24,
     "metadata": {},
     "output_type": "execute_result"
    }
   ],
   "source": [
    "# last index doesn't show the total here, since we remove repeated tracks\n",
    "print('So far from the above playlists we have collected : {} tracks'.format(len(full_df)))\n",
    "full_df"
   ]
  },
  {
   "cell_type": "markdown",
   "metadata": {},
   "source": [
    "Let's include tracks from Silk music and Anjunabeats discography.\n",
    "Note : Silk music is present on spotify as an artist rather than a user like\n",
    "most other labels are, and there are no endpoints on the spotify webapi\n",
    "which gives access to an artist's public playlists. \n",
    "Hence, we are getting the URIs manually."
   ]
  },
  {
   "cell_type": "code",
   "execution_count": 25,
   "metadata": {},
   "outputs": [],
   "source": [
    "uris = ['spotify:playlist:7mLu08jeo1UJRAPhcNo1NA', 'spotify:playlist:2WXcnnjBAVWh3pyPme2AzA',\\\n",
    "        'spotify:playlist:2Gv5OEPtSFXdVRIR9XcCYl', 'spotify:playlist:5YBoaqYu4nR1klcylFyPDO',\\\n",
    "        'spotify:playlist:0KOeFoxHzINtljRqURylxF', 'spotify:playlist:1CMTxvbJpzJ7aBSiyjqvkD']\n",
    "id_list = sc.uri_to_id(uris)\n",
    "df = get_tracks_df(id_list)"
   ]
  },
  {
   "cell_type": "code",
   "execution_count": 26,
   "metadata": {},
   "outputs": [
    {
     "data": {
      "text/html": [
       "<div>\n",
       "<style scoped>\n",
       "    .dataframe tbody tr th:only-of-type {\n",
       "        vertical-align: middle;\n",
       "    }\n",
       "\n",
       "    .dataframe tbody tr th {\n",
       "        vertical-align: top;\n",
       "    }\n",
       "\n",
       "    .dataframe thead th {\n",
       "        text-align: right;\n",
       "    }\n",
       "</style>\n",
       "<table border=\"1\" class=\"dataframe\">\n",
       "  <thead>\n",
       "    <tr style=\"text-align: right;\">\n",
       "      <th></th>\n",
       "      <th>name</th>\n",
       "      <th>id</th>\n",
       "      <th>artists_name</th>\n",
       "    </tr>\n",
       "  </thead>\n",
       "  <tbody>\n",
       "    <tr>\n",
       "      <th>2898</th>\n",
       "      <td>Volume One - Anjuna Deep Mix</td>\n",
       "      <td>4qKcK7oKhB2oMF1Ny2T4Rr</td>\n",
       "      <td>Anjunabeats</td>\n",
       "    </tr>\n",
       "    <tr>\n",
       "      <th>2899</th>\n",
       "      <td>Volume One - Original Mix</td>\n",
       "      <td>1ZfyvweqqR3csr8K4ACjt4</td>\n",
       "      <td>Anjunabeats</td>\n",
       "    </tr>\n",
       "    <tr>\n",
       "      <th>2900</th>\n",
       "      <td>Volume One - Tease Dub</td>\n",
       "      <td>4GYyq7cPaTjyynNWpPkC9P</td>\n",
       "      <td>Anjunabeats</td>\n",
       "    </tr>\n",
       "    <tr>\n",
       "      <th>2901</th>\n",
       "      <td>Remember - Genix Remix</td>\n",
       "      <td>5pHHeT460Tb9HkTca1HY7v</td>\n",
       "      <td>Gabriel &amp; Dresden, Centre, Genix</td>\n",
       "    </tr>\n",
       "    <tr>\n",
       "      <th>2902</th>\n",
       "      <td>Won't Sleep Tonight - Moody Dub Mix</td>\n",
       "      <td>3G2fWbQSseRglXGRhC99Jm</td>\n",
       "      <td>Super8 &amp; Tab</td>\n",
       "    </tr>\n",
       "  </tbody>\n",
       "</table>\n",
       "</div>"
      ],
      "text/plain": [
       "                                     name                      id  \\\n",
       "2898         Volume One - Anjuna Deep Mix  4qKcK7oKhB2oMF1Ny2T4Rr   \n",
       "2899            Volume One - Original Mix  1ZfyvweqqR3csr8K4ACjt4   \n",
       "2900               Volume One - Tease Dub  4GYyq7cPaTjyynNWpPkC9P   \n",
       "2901               Remember - Genix Remix  5pHHeT460Tb9HkTca1HY7v   \n",
       "2902  Won't Sleep Tonight - Moody Dub Mix  3G2fWbQSseRglXGRhC99Jm   \n",
       "\n",
       "                          artists_name  \n",
       "2898                       Anjunabeats  \n",
       "2899                       Anjunabeats  \n",
       "2900                       Anjunabeats  \n",
       "2901  Gabriel & Dresden, Centre, Genix  \n",
       "2902                      Super8 & Tab  "
      ]
     },
     "execution_count": 26,
     "metadata": {},
     "output_type": "execute_result"
    }
   ],
   "source": [
    "df.tail()"
   ]
  },
  {
   "cell_type": "code",
   "execution_count": 27,
   "metadata": {},
   "outputs": [],
   "source": [
    "# update full_df by adding tracks from anjunabeats disc and removing duplicates\n",
    "full_df = pd.concat([full_df, df], ignore_index=True)"
   ]
  },
  {
   "cell_type": "code",
   "execution_count": 28,
   "metadata": {},
   "outputs": [
    {
     "data": {
      "text/html": [
       "<div>\n",
       "<style scoped>\n",
       "    .dataframe tbody tr th:only-of-type {\n",
       "        vertical-align: middle;\n",
       "    }\n",
       "\n",
       "    .dataframe tbody tr th {\n",
       "        vertical-align: top;\n",
       "    }\n",
       "\n",
       "    .dataframe thead th {\n",
       "        text-align: right;\n",
       "    }\n",
       "</style>\n",
       "<table border=\"1\" class=\"dataframe\">\n",
       "  <thead>\n",
       "    <tr style=\"text-align: right;\">\n",
       "      <th></th>\n",
       "      <th>name</th>\n",
       "      <th>id</th>\n",
       "      <th>artists_name</th>\n",
       "    </tr>\n",
       "  </thead>\n",
       "  <tbody>\n",
       "    <tr>\n",
       "      <th>18561</th>\n",
       "      <td>Volume One - Anjuna Deep Mix</td>\n",
       "      <td>4qKcK7oKhB2oMF1Ny2T4Rr</td>\n",
       "      <td>Anjunabeats</td>\n",
       "    </tr>\n",
       "    <tr>\n",
       "      <th>18562</th>\n",
       "      <td>Volume One - Original Mix</td>\n",
       "      <td>1ZfyvweqqR3csr8K4ACjt4</td>\n",
       "      <td>Anjunabeats</td>\n",
       "    </tr>\n",
       "    <tr>\n",
       "      <th>18563</th>\n",
       "      <td>Volume One - Tease Dub</td>\n",
       "      <td>4GYyq7cPaTjyynNWpPkC9P</td>\n",
       "      <td>Anjunabeats</td>\n",
       "    </tr>\n",
       "    <tr>\n",
       "      <th>18564</th>\n",
       "      <td>Remember - Genix Remix</td>\n",
       "      <td>5pHHeT460Tb9HkTca1HY7v</td>\n",
       "      <td>Gabriel &amp; Dresden, Centre, Genix</td>\n",
       "    </tr>\n",
       "    <tr>\n",
       "      <th>18565</th>\n",
       "      <td>Won't Sleep Tonight - Moody Dub Mix</td>\n",
       "      <td>3G2fWbQSseRglXGRhC99Jm</td>\n",
       "      <td>Super8 &amp; Tab</td>\n",
       "    </tr>\n",
       "  </tbody>\n",
       "</table>\n",
       "</div>"
      ],
      "text/plain": [
       "                                      name                      id  \\\n",
       "18561         Volume One - Anjuna Deep Mix  4qKcK7oKhB2oMF1Ny2T4Rr   \n",
       "18562            Volume One - Original Mix  1ZfyvweqqR3csr8K4ACjt4   \n",
       "18563               Volume One - Tease Dub  4GYyq7cPaTjyynNWpPkC9P   \n",
       "18564               Remember - Genix Remix  5pHHeT460Tb9HkTca1HY7v   \n",
       "18565  Won't Sleep Tonight - Moody Dub Mix  3G2fWbQSseRglXGRhC99Jm   \n",
       "\n",
       "                           artists_name  \n",
       "18561                       Anjunabeats  \n",
       "18562                       Anjunabeats  \n",
       "18563                       Anjunabeats  \n",
       "18564  Gabriel & Dresden, Centre, Genix  \n",
       "18565                      Super8 & Tab  "
      ]
     },
     "execution_count": 28,
     "metadata": {},
     "output_type": "execute_result"
    }
   ],
   "source": [
    "# index has reset\n",
    "full_df.tail()"
   ]
  },
  {
   "cell_type": "code",
   "execution_count": 29,
   "metadata": {},
   "outputs": [
    {
     "name": "stdout",
     "output_type": "stream",
     "text": [
      "The final number of total tracks is: 18370\n"
     ]
    }
   ],
   "source": [
    "subdf = full_df[full_df.duplicated(subset=['name', 'artists_name'], keep='first')]\n",
    "full_df = full_df.drop(subdf.index)\n",
    "print('The final number of total tracks is:', len(full_df))"
   ]
  },
  {
   "cell_type": "code",
   "execution_count": 30,
   "metadata": {
    "scrolled": true
   },
   "outputs": [
    {
     "data": {
      "text/html": [
       "<div>\n",
       "<style scoped>\n",
       "    .dataframe tbody tr th:only-of-type {\n",
       "        vertical-align: middle;\n",
       "    }\n",
       "\n",
       "    .dataframe tbody tr th {\n",
       "        vertical-align: top;\n",
       "    }\n",
       "\n",
       "    .dataframe thead th {\n",
       "        text-align: right;\n",
       "    }\n",
       "</style>\n",
       "<table border=\"1\" class=\"dataframe\">\n",
       "  <thead>\n",
       "    <tr style=\"text-align: right;\">\n",
       "      <th></th>\n",
       "      <th>name</th>\n",
       "      <th>id</th>\n",
       "      <th>artists_name</th>\n",
       "    </tr>\n",
       "  </thead>\n",
       "  <tbody>\n",
       "    <tr>\n",
       "      <th>18560</th>\n",
       "      <td>Volume One - Free State vs Dirt Devils Remix</td>\n",
       "      <td>03NSRR3kgp4oOKqGtTEjOZ</td>\n",
       "      <td>Anjunabeats</td>\n",
       "    </tr>\n",
       "    <tr>\n",
       "      <th>18561</th>\n",
       "      <td>Volume One - Anjuna Deep Mix</td>\n",
       "      <td>4qKcK7oKhB2oMF1Ny2T4Rr</td>\n",
       "      <td>Anjunabeats</td>\n",
       "    </tr>\n",
       "    <tr>\n",
       "      <th>18562</th>\n",
       "      <td>Volume One - Original Mix</td>\n",
       "      <td>1ZfyvweqqR3csr8K4ACjt4</td>\n",
       "      <td>Anjunabeats</td>\n",
       "    </tr>\n",
       "    <tr>\n",
       "      <th>18563</th>\n",
       "      <td>Volume One - Tease Dub</td>\n",
       "      <td>4GYyq7cPaTjyynNWpPkC9P</td>\n",
       "      <td>Anjunabeats</td>\n",
       "    </tr>\n",
       "    <tr>\n",
       "      <th>18565</th>\n",
       "      <td>Won't Sleep Tonight - Moody Dub Mix</td>\n",
       "      <td>3G2fWbQSseRglXGRhC99Jm</td>\n",
       "      <td>Super8 &amp; Tab</td>\n",
       "    </tr>\n",
       "  </tbody>\n",
       "</table>\n",
       "</div>"
      ],
      "text/plain": [
       "                                               name                      id  \\\n",
       "18560  Volume One - Free State vs Dirt Devils Remix  03NSRR3kgp4oOKqGtTEjOZ   \n",
       "18561                  Volume One - Anjuna Deep Mix  4qKcK7oKhB2oMF1Ny2T4Rr   \n",
       "18562                     Volume One - Original Mix  1ZfyvweqqR3csr8K4ACjt4   \n",
       "18563                        Volume One - Tease Dub  4GYyq7cPaTjyynNWpPkC9P   \n",
       "18565           Won't Sleep Tonight - Moody Dub Mix  3G2fWbQSseRglXGRhC99Jm   \n",
       "\n",
       "       artists_name  \n",
       "18560   Anjunabeats  \n",
       "18561   Anjunabeats  \n",
       "18562   Anjunabeats  \n",
       "18563   Anjunabeats  \n",
       "18565  Super8 & Tab  "
      ]
     },
     "execution_count": 30,
     "metadata": {},
     "output_type": "execute_result"
    }
   ],
   "source": [
    "# reset the index\n",
    "#full_df.reset_index(drop=True)\n",
    "full_df.tail()"
   ]
  },
  {
   "cell_type": "markdown",
   "metadata": {},
   "source": [
    "Save the above dataframe in parquet to load later"
   ]
  },
  {
   "cell_type": "code",
   "execution_count": 44,
   "metadata": {},
   "outputs": [],
   "source": [
    "p = Path.cwd().joinpath('Dataset')\n",
    "p.mkdir(exist_ok=True)"
   ]
  },
  {
   "cell_type": "code",
   "execution_count": 45,
   "metadata": {},
   "outputs": [],
   "source": [
    "if not Path(p.joinpath('musiclabels_tracks.parquet')).exists():\n",
    "    full_df.to_parquet(p.joinpath('musiclabels_tracks.parquet'), engine='pyarrow')"
   ]
  },
  {
   "cell_type": "code",
   "execution_count": 42,
   "metadata": {},
   "outputs": [],
   "source": []
  },
  {
   "cell_type": "code",
   "execution_count": null,
   "metadata": {},
   "outputs": [],
   "source": []
  }
 ],
 "metadata": {
  "kernelspec": {
   "display_name": "Python 3",
   "language": "python",
   "name": "python3"
  },
  "language_info": {
   "codemirror_mode": {
    "name": "ipython",
    "version": 3
   },
   "file_extension": ".py",
   "mimetype": "text/x-python",
   "name": "python",
   "nbconvert_exporter": "python",
   "pygments_lexer": "ipython3",
   "version": "3.7.7"
  }
 },
 "nbformat": 4,
 "nbformat_minor": 4
}
