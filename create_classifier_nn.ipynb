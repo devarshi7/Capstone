{
 "cells": [
  {
   "cell_type": "code",
   "execution_count": 1,
   "metadata": {},
   "outputs": [
    {
     "name": "stderr",
     "output_type": "stream",
     "text": [
      "Using TensorFlow backend.\n",
      "C:\\Users\\Administrator\\Anaconda3\\lib\\site-packages\\tensorflow\\python\\framework\\dtypes.py:516: FutureWarning: Passing (type, 1) or '1type' as a synonym of type is deprecated; in a future version of numpy, it will be understood as (type, (1,)) / '(1,)type'.\n",
      "  _np_qint8 = np.dtype([(\"qint8\", np.int8, 1)])\n",
      "C:\\Users\\Administrator\\Anaconda3\\lib\\site-packages\\tensorflow\\python\\framework\\dtypes.py:517: FutureWarning: Passing (type, 1) or '1type' as a synonym of type is deprecated; in a future version of numpy, it will be understood as (type, (1,)) / '(1,)type'.\n",
      "  _np_quint8 = np.dtype([(\"quint8\", np.uint8, 1)])\n",
      "C:\\Users\\Administrator\\Anaconda3\\lib\\site-packages\\tensorflow\\python\\framework\\dtypes.py:518: FutureWarning: Passing (type, 1) or '1type' as a synonym of type is deprecated; in a future version of numpy, it will be understood as (type, (1,)) / '(1,)type'.\n",
      "  _np_qint16 = np.dtype([(\"qint16\", np.int16, 1)])\n",
      "C:\\Users\\Administrator\\Anaconda3\\lib\\site-packages\\tensorflow\\python\\framework\\dtypes.py:519: FutureWarning: Passing (type, 1) or '1type' as a synonym of type is deprecated; in a future version of numpy, it will be understood as (type, (1,)) / '(1,)type'.\n",
      "  _np_quint16 = np.dtype([(\"quint16\", np.uint16, 1)])\n",
      "C:\\Users\\Administrator\\Anaconda3\\lib\\site-packages\\tensorflow\\python\\framework\\dtypes.py:520: FutureWarning: Passing (type, 1) or '1type' as a synonym of type is deprecated; in a future version of numpy, it will be understood as (type, (1,)) / '(1,)type'.\n",
      "  _np_qint32 = np.dtype([(\"qint32\", np.int32, 1)])\n",
      "C:\\Users\\Administrator\\Anaconda3\\lib\\site-packages\\tensorflow\\python\\framework\\dtypes.py:525: FutureWarning: Passing (type, 1) or '1type' as a synonym of type is deprecated; in a future version of numpy, it will be understood as (type, (1,)) / '(1,)type'.\n",
      "  np_resource = np.dtype([(\"resource\", np.ubyte, 1)])\n",
      "C:\\Users\\Administrator\\Anaconda3\\lib\\site-packages\\tensorboard\\compat\\tensorflow_stub\\dtypes.py:541: FutureWarning: Passing (type, 1) or '1type' as a synonym of type is deprecated; in a future version of numpy, it will be understood as (type, (1,)) / '(1,)type'.\n",
      "  _np_qint8 = np.dtype([(\"qint8\", np.int8, 1)])\n",
      "C:\\Users\\Administrator\\Anaconda3\\lib\\site-packages\\tensorboard\\compat\\tensorflow_stub\\dtypes.py:542: FutureWarning: Passing (type, 1) or '1type' as a synonym of type is deprecated; in a future version of numpy, it will be understood as (type, (1,)) / '(1,)type'.\n",
      "  _np_quint8 = np.dtype([(\"quint8\", np.uint8, 1)])\n",
      "C:\\Users\\Administrator\\Anaconda3\\lib\\site-packages\\tensorboard\\compat\\tensorflow_stub\\dtypes.py:543: FutureWarning: Passing (type, 1) or '1type' as a synonym of type is deprecated; in a future version of numpy, it will be understood as (type, (1,)) / '(1,)type'.\n",
      "  _np_qint16 = np.dtype([(\"qint16\", np.int16, 1)])\n",
      "C:\\Users\\Administrator\\Anaconda3\\lib\\site-packages\\tensorboard\\compat\\tensorflow_stub\\dtypes.py:544: FutureWarning: Passing (type, 1) or '1type' as a synonym of type is deprecated; in a future version of numpy, it will be understood as (type, (1,)) / '(1,)type'.\n",
      "  _np_quint16 = np.dtype([(\"quint16\", np.uint16, 1)])\n",
      "C:\\Users\\Administrator\\Anaconda3\\lib\\site-packages\\tensorboard\\compat\\tensorflow_stub\\dtypes.py:545: FutureWarning: Passing (type, 1) or '1type' as a synonym of type is deprecated; in a future version of numpy, it will be understood as (type, (1,)) / '(1,)type'.\n",
      "  _np_qint32 = np.dtype([(\"qint32\", np.int32, 1)])\n",
      "C:\\Users\\Administrator\\Anaconda3\\lib\\site-packages\\tensorboard\\compat\\tensorflow_stub\\dtypes.py:550: FutureWarning: Passing (type, 1) or '1type' as a synonym of type is deprecated; in a future version of numpy, it will be understood as (type, (1,)) / '(1,)type'.\n",
      "  np_resource = np.dtype([(\"resource\", np.ubyte, 1)])\n"
     ]
    }
   ],
   "source": [
    "from datetime import datetime\n",
    "from dotenv import load_dotenv\n",
    "from hyperas import optim\n",
    "from hyperas.distributions import choice, uniform\n",
    "from hyperopt import Trials, STATUS_OK, tpe\n",
    "import numpy as np\n",
    "import os\n",
    "import pandas as pd\n",
    "from pathlib import Path\n",
    "import random\n",
    "from sklearn.model_selection import train_test_split\n",
    "import tensorflow as tf\n",
    "import tensorflow.keras as keras\n",
    "from tensorflow.keras import Model, Input\n",
    "from tensorflow.keras.layers import Dense, BatchNormalization, Activation, Dropout\n"
   ]
  },
  {
   "cell_type": "code",
   "execution_count": 42,
   "metadata": {},
   "outputs": [],
   "source": [
    "from sklearn.metrics import confusion_matrix\n",
    "import matplotlib.pyplot as plt\n",
    "import seaborn as sns\n",
    "%matplotlib inline"
   ]
  },
  {
   "cell_type": "code",
   "execution_count": 2,
   "metadata": {},
   "outputs": [],
   "source": [
    "load_dotenv()\n",
    "path = Path(os.getenv('PATH_DATASET1.2')).joinpath('usertracks_csv')"
   ]
  },
  {
   "cell_type": "code",
   "execution_count": 3,
   "metadata": {},
   "outputs": [],
   "source": [
    "track_names = np.genfromtxt(path.joinpath('track_names.csv'), delimiter=',', dtype='U')\n",
    "categories = np.genfromtxt(path.joinpath('label_categories.csv'), delimiter=',', dtype='U')"
   ]
  },
  {
   "cell_type": "code",
   "execution_count": 54,
   "metadata": {},
   "outputs": [
    {
     "data": {
      "text/plain": [
       "array(['Classic progressive', 'Deep house', 'House-Trance',\n",
       "       'Our old school trance', 'Our old school trance 138',\n",
       "       'Our old school trance 2', 'Progressive 1', 'Progressive 2',\n",
       "       'Progressive 3', 'Progressive 4', 'Progressive 5',\n",
       "       'Progressive House', 'That familiar trance'], dtype='<U25')"
      ]
     },
     "execution_count": 54,
     "metadata": {},
     "output_type": "execute_result"
    }
   ],
   "source": [
    "categories"
   ]
  },
  {
   "cell_type": "code",
   "execution_count": 4,
   "metadata": {},
   "outputs": [
    {
     "name": "stdout",
     "output_type": "stream",
     "text": [
      " Total number of tracks: 372\n",
      " Total number of categories/playlists: 13\n"
     ]
    }
   ],
   "source": [
    "tot_num = len(track_names)\n",
    "categ = len(categories)\n",
    "print(' Total number of tracks:', tot_num)\n",
    "print(' Total number of categories/playlists:', categ)"
   ]
  },
  {
   "cell_type": "code",
   "execution_count": 5,
   "metadata": {},
   "outputs": [],
   "source": [
    "# read_csv files and create a list of data arrays and data labels\n",
    "path_ = path.joinpath('track_arrays')\n",
    "data_arr = [np.genfromtxt(path_.joinpath('track_inp_{}.csv'.format(i)), delimiter=',') for i in range(tot_num)]\n",
    "path_ = path.joinpath('track_labels')\n",
    "data_lab = [np.genfromtxt(path_.joinpath('track_lab_{}.csv'.format(i)), delimiter=',') for i in range(tot_num)]"
   ]
  },
  {
   "cell_type": "code",
   "execution_count": 6,
   "metadata": {},
   "outputs": [
    {
     "name": "stdout",
     "output_type": "stream",
     "text": [
      "Sample track: I Won't Fall (Progressive Mix) [feat. Stine Grove]_Aur\n",
      "Input array: [ 0.522  1.     0.202 ...  0.178  0.366 -0.253]\n",
      "Label array: [0. 0. 0. 1. 0. 0. 0. 0. 0. 0. 0. 0. 0.]\n",
      "Label category:  ['Our old school trance']\n"
     ]
    }
   ],
   "source": [
    "print('Sample track:' , track_names[120])\n",
    "print('Input array:' , data_arr[120])\n",
    "print('Label array:' , data_lab[120])\n",
    "print('Label category: ', categories[data_lab[120]>0])"
   ]
  },
  {
   "cell_type": "code",
   "execution_count": 7,
   "metadata": {},
   "outputs": [],
   "source": [
    "# zip track names with input arrays before shuffling and splitting train/test sets\n",
    "data = [i for i in zip(track_names, data_arr)]"
   ]
  },
  {
   "cell_type": "code",
   "execution_count": 8,
   "metadata": {},
   "outputs": [],
   "source": [
    "data_train, data_test, y_train, y_test = train_test_split(data, data_lab, test_size = 0.25, stratify=data_lab, random_state=17)"
   ]
  },
  {
   "cell_type": "code",
   "execution_count": 9,
   "metadata": {},
   "outputs": [
    {
     "data": {
      "text/plain": [
       "'\\ndata_val = data_train[-50:]\\ny_val = y_train[-50:]\\ndata_train = data_train[:-50]\\ny_train = y_train[:-50]\\n'"
      ]
     },
     "execution_count": 9,
     "metadata": {},
     "output_type": "execute_result"
    }
   ],
   "source": [
    "'''\n",
    "data_val = data_train[-50:]\n",
    "y_val = y_train[-50:]\n",
    "data_train = data_train[:-50]\n",
    "y_train = y_train[:-50]\n",
    "'''"
   ]
  },
  {
   "cell_type": "code",
   "execution_count": 10,
   "metadata": {},
   "outputs": [
    {
     "name": "stdout",
     "output_type": "stream",
     "text": [
      "Number of tracks in training 279\n",
      "Number of tracks in testing: 93\n"
     ]
    }
   ],
   "source": [
    "print('Number of tracks in training', len(data_train))\n",
    "#print('Number of tracks in validation:', len(data_val))\n",
    "print('Number of tracks in testing:', len(data_test))"
   ]
  },
  {
   "cell_type": "code",
   "execution_count": 11,
   "metadata": {},
   "outputs": [],
   "source": [
    "x_train = [x[1] for x in data_train]\n",
    "track_train = [x[0] for x in data_train]\n",
    "#x_val = [x[1] for x in data_val]\n",
    "#track_val = [x[0] for x in data_val]\n",
    "x_test = [x[1] for x in data_test]\n",
    "track_test = [x[0] for x in data_test]"
   ]
  },
  {
   "cell_type": "code",
   "execution_count": 12,
   "metadata": {},
   "outputs": [],
   "source": [
    "# cast lists to numpy arrays\n",
    "x_train = np.array(x_train)\n",
    "x_test = np.array(x_test)\n",
    "y_train = np.array(y_train)\n",
    "y_test = np.array(y_test)"
   ]
  },
  {
   "cell_type": "code",
   "execution_count": 24,
   "metadata": {},
   "outputs": [],
   "source": [
    "def create_classifier(base_model, nodes, dropout=True, new_idx=True):\n",
    "    \n",
    "    def dense_layer(x, nodes_, activation=tf.nn.leaky_relu, dropout=dropout, name_idx=None):\n",
    "    \n",
    "        # define a dense layer section\n",
    "        x = Dense(nodes_, name='dense_{}'.format(name_idx))(x)\n",
    "        x = Activation(activation, name='act_{}'.format(name_idx))(x)\n",
    "        x = BatchNormalization(name='bn_{}'.format(name_idx))(x)\n",
    "        if dropout:\n",
    "            x = Dropout(0.3, name='dropout_{}'.format(name_idx))(x)\n",
    "            \n",
    "        return x\n",
    "    \n",
    "    # classes/playlists in the dataset\n",
    "    classes = len(y_train[0])\n",
    "    \n",
    "    if new_idx:\n",
    "        # create new index for naming layers\n",
    "        idx = int(base_model.layers[-1].name[-1]) + 1\n",
    "    else:\n",
    "        idx = 0\n",
    "    # Create classifier by adding dense layers to the base model\n",
    "    x = dense_layer(base_model.layers[-1].output, nodes[0], activation='tanh', name_idx=idx + 0 )\n",
    "   \n",
    "    for i in range(1, len(nodes)):\n",
    "        x = dense_layer(x, nodes[i], name_idx=idx + i)\n",
    "    \n",
    "    # Set nodes of last dense layer as number of classes\n",
    "    outputs = Dense(classes, activation='softmax', name='dense_{}'.format(idx + len(nodes)))(x)\n",
    "    \n",
    "    # create model\n",
    "    model = Model(inputs=base_model.input, outputs=outputs, name='classifier')\n",
    "    \n",
    "    return  model"
   ]
  },
  {
   "cell_type": "code",
   "execution_count": 25,
   "metadata": {},
   "outputs": [],
   "source": [
    "tf.keras.backend.clear_session()"
   ]
  },
  {
   "cell_type": "code",
   "execution_count": 26,
   "metadata": {},
   "outputs": [],
   "source": [
    "# Load encoder model\n",
    "loaded_enc = keras.models.load_model(filepath=Path(os.getenv('PATH_MODELS')).joinpath('encoder'))\n",
    "    \n",
    "# Freeze and rename all the layers\n",
    "for layer in loaded_enc.layers[:]:\n",
    "    layer.trainable = False\n",
    "    layer._name = str('enc_') + layer.name\n",
    "    \n",
    "# Set number of units/nodes for the dense layers added in the classifier"
   ]
  },
  {
   "cell_type": "code",
   "execution_count": 27,
   "metadata": {},
   "outputs": [],
   "source": [
    "\n",
    "inputlength = 2400\n",
    "inputs = Input(shape=(inputlength,), name='base_input')\n",
    "x = Dense(800, name='base_dense')(inputs)\n",
    "x = Activation(tf.nn.leaky_relu, name='base_act')(x)\n",
    "outputs = BatchNormalization(name='base_bn')(x)\n",
    "\n",
    "basemodel = Model(inputs, outputs, name='base_model')"
   ]
  },
  {
   "cell_type": "code",
   "execution_count": 70,
   "metadata": {},
   "outputs": [],
   "source": [
    "nodes = [800, 400, 200, 100, 200, 100, 50, 25]\n",
    "#cls_nn = create_classifier(loaded_enc, nodes, dropout=True)\n",
    "cls_nn = create_classifier(basemodel, nodes, dropout=True, new_idx=False)"
   ]
  },
  {
   "cell_type": "code",
   "execution_count": 71,
   "metadata": {},
   "outputs": [],
   "source": [
    "#cls_nn.summary()"
   ]
  },
  {
   "cell_type": "code",
   "execution_count": 72,
   "metadata": {},
   "outputs": [],
   "source": [
    "cls_nn.compile(loss='categorical_crossentropy', metrics=['accuracy'], optimizer='adam')"
   ]
  },
  {
   "cell_type": "code",
   "execution_count": 73,
   "metadata": {},
   "outputs": [],
   "source": [
    "BATCH_SIZE = 16\n",
    "TRAIN_STEPS_PER_EPOCH = np.ceil(len(x_train)/ BATCH_SIZE)       #np.ceil(TRAIN_COUNT/BATCH_SIZE)\n",
    "#VAL_STEPS_PER_EPOCH = np.ceil(len(x_val)/BATCH_SIZE)        #np.ceil(VAL_COUNT/BATCH_SIZE)\n",
    "TEST_STEPS = len(x_test)\n",
    "EPOCHS = 500"
   ]
  },
  {
   "cell_type": "code",
   "execution_count": 86,
   "metadata": {},
   "outputs": [],
   "source": [
    "callback = tf.keras.callbacks.EarlyStopping(monitor='val_acc', patience=50)\n",
    "result = cls_nn.fit(x_train, y_train,\n",
    "              batch_size=BATCH_SIZE,\n",
    "              verbose=0,\n",
    "              epochs=EPOCHS,\n",
    "              validation_split=0.2,\n",
    "              callbacks=[callback])"
   ]
  },
  {
   "cell_type": "code",
   "execution_count": 87,
   "metadata": {},
   "outputs": [
    {
     "name": "stdout",
     "output_type": "stream",
     "text": [
      "88\n"
     ]
    },
    {
     "data": {
      "text/plain": [
       "[0.10714286, 0.19642857, 0.14285715, 0.17857143, 0.14285715, 0.25]"
      ]
     },
     "execution_count": 87,
     "metadata": {},
     "output_type": "execute_result"
    }
   ],
   "source": [
    "print(len(result.history['loss']))\n",
    "result.history['val_acc'][::15]"
   ]
  },
  {
   "cell_type": "code",
   "execution_count": 88,
   "metadata": {},
   "outputs": [
    {
     "name": "stdout",
     "output_type": "stream",
     "text": [
      "93/93 [==============================] - 0s 355us/sample - loss: 4.8929 - acc: 0.2151\n"
     ]
    },
    {
     "data": {
      "text/plain": [
       "[4.892929912895284, 0.21505377]"
      ]
     },
     "execution_count": 88,
     "metadata": {},
     "output_type": "execute_result"
    }
   ],
   "source": [
    "cls_nn.evaluate(x_test,y_test)"
   ]
  },
  {
   "cell_type": "code",
   "execution_count": 59,
   "metadata": {},
   "outputs": [
    {
     "data": {
      "text/plain": [
       "array(['Classic progressive', 'Deep house', 'House-Trance',\n",
       "       'Our old school trance', 'Our old school trance 138',\n",
       "       'Our old school trance 2', 'Progressive 1', 'Progressive 2',\n",
       "       'Progressive 3', 'Progressive 4', 'Progressive 5',\n",
       "       'Progressive House', 'That familiar trance'], dtype='<U25')"
      ]
     },
     "execution_count": 59,
     "metadata": {},
     "output_type": "execute_result"
    }
   ],
   "source": [
    "categories"
   ]
  },
  {
   "cell_type": "code",
   "execution_count": 60,
   "metadata": {},
   "outputs": [],
   "source": [
    "ord_categ = ['Deep house', 'Progressive House', 'House-Trance', 'That familiar trance', 'Classic progressive',\n",
    "            'Our old school trance', 'Our old school trance 2', 'Our old school trance 138', 'Progressive 1',\n",
    "            'Progressive 2', 'Progressive 3', 'Progressive 4', 'Progressive 5']"
   ]
  },
  {
   "cell_type": "code",
   "execution_count": 89,
   "metadata": {},
   "outputs": [],
   "source": [
    "pred = [categories[np.argmax(x)] for x in cls_nn.predict(x_test)]\n",
    "target = [categories[np.argmax(x)] for x in y_test]\n",
    "comp = [x for x in zip(track_test, pred,target)]\n",
    "target_counts = [(x, target.count(x)) for x in set(target)]\n",
    "pred_counts = [(x, pred.count(x)) for x in set(pred)]\n",
    "con_mat =confusion_matrix(target, pred, labels=ord_categ) \n",
    "con_mat_df = pd.DataFrame(con_mat, index = ord_categ, columns = ord_categ)"
   ]
  },
  {
   "cell_type": "code",
   "execution_count": 90,
   "metadata": {},
   "outputs": [
    {
     "data": {
      "text/plain": [
       "[('Deep house', 7),\n",
       " ('Progressive 2', 7),\n",
       " ('Progressive 1', 4),\n",
       " ('That familiar trance', 12),\n",
       " ('Our old school trance 138', 5),\n",
       " ('Our old school trance 2', 6),\n",
       " ('Progressive 4', 8),\n",
       " ('Our old school trance', 9),\n",
       " ('Progressive 5', 4),\n",
       " ('Progressive 3', 5),\n",
       " ('Progressive House', 5),\n",
       " ('House-Trance', 12),\n",
       " ('Classic progressive', 9)]"
      ]
     },
     "execution_count": 90,
     "metadata": {},
     "output_type": "execute_result"
    }
   ],
   "source": [
    "target_counts"
   ]
  },
  {
   "cell_type": "code",
   "execution_count": 91,
   "metadata": {
    "scrolled": true
   },
   "outputs": [
    {
     "data": {
      "image/png": "[encoded data removed]",
      "text/plain": [
       "<Figure size 576x576 with 2 Axes>"
      ]
     },
     "metadata": {
      "needs_background": "light"
     },
     "output_type": "display_data"
    }
   ],
   "source": [
    "figure = plt.figure(figsize=(8, 8))\n",
    "sns.heatmap(con_mat_df, annot=True,cmap=plt.cm.Blues)\n",
    "plt.tight_layout()\n",
    "plt.ylabel('True label')\n",
    "plt.xlabel('Predicted label')\n",
    "plt.show()"
   ]
  },
  {
   "cell_type": "code",
   "execution_count": 92,
   "metadata": {},
   "outputs": [
    {
     "data": {
      "text/plain": [
       "[('Dawn - Original Mix_Yas', 'Deep house', 'Progressive 4'),\n",
       " ('Solidus_Feh', 'Our old school trance 2', 'House-Trance'),\n",
       " ('We Are True (Radio Edit)_Mik', 'Progressive 1', 'Classic progressive'),\n",
       " ('Back To Mine - Original Mix_Emb', 'Progressive 4', 'Progressive 4'),\n",
       " ('Ulvetanna_Pro', 'Our old school trance', 'Our old school trance 2'),\n",
       " ('The Bridge - Anjunadeep 07 Mix_Jod',\n",
       "  'Progressive House',\n",
       "  'Progressive House'),\n",
       " ('Odyssey - Original Mix_Vad',\n",
       "  'That familiar trance',\n",
       "  'Our old school trance'),\n",
       " ('Now We Are Talking_Orj', 'That familiar trance', 'Our old school trance 2'),\n",
       " ('Tokyo Night Train - RMX_Cla', 'Progressive House', 'Progressive 1'),\n",
       " ('Something Useful - Lesh Remix_Phr', 'Deep house', 'Progressive House'),\n",
       " ('Your Perspective feat. KnottRudy - Infinity State Remix_Phr',\n",
       "  'Progressive 4',\n",
       "  'Progressive 5'),\n",
       " ('Lights_Eri', 'Classic progressive', 'Progressive 4'),\n",
       " ('Alba - Sundriver Remix_Dru', 'Classic progressive', 'Progressive 3'),\n",
       " ('Hypnotised_Orb', 'Progressive 3', 'Deep house'),\n",
       " ('Chicama_Dav', 'Classic progressive', 'Deep house'),\n",
       " ('Paragon - Radio Edit_Seb',\n",
       "  'Our old school trance 138',\n",
       "  'Our old school trance'),\n",
       " ('Progressia_Mat', 'That familiar trance', 'House-Trance'),\n",
       " ('Prana_Pav', 'House-Trance', 'Deep house'),\n",
       " ('There for Me - KIWAMU Remix_Shi', 'Deep house', 'Deep house'),\n",
       " ('Dyed in the Wool - Aria Deep Remix_Ari',\n",
       "  'Our old school trance 2',\n",
       "  'Progressive House'),\n",
       " ('Must Be_Suo', 'House-Trance', 'Progressive 4'),\n",
       " ('Empyrean_Pro', 'House-Trance', 'Our old school trance 138'),\n",
       " ('Sunday Maybe_Way', 'Classic progressive', 'Progressive 1'),\n",
       " ('Shattered Dreams_Fla', 'House-Trance', 'House-Trance'),\n",
       " ('Hiding_Ica', 'Progressive 1', 'House-Trance'),\n",
       " ('Skylarking - Original Mix_BT',\n",
       "  'Our old school trance',\n",
       "  'Classic progressive'),\n",
       " ('Alba - Sundriver Remix_Dru', 'Classic progressive', 'Progressive 2'),\n",
       " ('Verona_Tal', 'That familiar trance', 'Progressive 5'),\n",
       " ('After The Rain - Club Mix_The',\n",
       "  'That familiar trance',\n",
       "  'Classic progressive'),\n",
       " ('Isla_Cia', 'Our old school trance 2', 'Our old school trance 2'),\n",
       " ('Navagio_Cla', 'Progressive 4', 'Progressive 3'),\n",
       " ('Wannamaker [ABGT183] - Fatum Remix_Spe',\n",
       "  'That familiar trance',\n",
       "  'House-Trance'),\n",
       " ('Cadence_Oli', 'Progressive 3', 'House-Trance'),\n",
       " ('Goldengate_Yoe', 'That familiar trance', 'That familiar trance'),\n",
       " ('Lost Hearts_Sol', 'Our old school trance', 'Our old school trance'),\n",
       " ('Freya_Dav', 'Our old school trance 138', 'Deep house'),\n",
       " ('Horizon_Mat', 'That familiar trance', 'Our old school trance'),\n",
       " ('A.I._Abo', 'That familiar trance', 'That familiar trance'),\n",
       " ('Las Cosas Del Joder - Talamanca Vocal Remix_Tal',\n",
       "  'Progressive 4',\n",
       "  'Progressive 5'),\n",
       " ('Momento - Original Mix_Kon', 'Progressive 4', 'Progressive 4'),\n",
       " ('Distorted Truth_Abo', 'That familiar trance', 'That familiar trance'),\n",
       " ('Brush Strokes [ASOT 640] - Hazem Beltagui Melo Remix_Sim',\n",
       "  'Our old school trance',\n",
       "  'Our old school trance 138'),\n",
       " ('Chasing The Arrow_LTN', 'House-Trance', 'Progressive 4'),\n",
       " ('Horizon [Mix Cut] - Original Mix_Mha',\n",
       "  'Our old school trance 2',\n",
       "  'Our old school trance 2'),\n",
       " ('Orion_Mai', 'Deep house', 'Progressive 3'),\n",
       " ('Decibels - Radio Edit_Cra', 'House-Trance', 'Our old school trance 2'),\n",
       " ('Please_Sol', 'House-Trance', 'Our old school trance'),\n",
       " ('Color Field_Kya', 'Progressive 5', 'That familiar trance'),\n",
       " ('Night Sky_SCH', 'Our old school trance 2', 'That familiar trance'),\n",
       " ('Campfire 2017 - Sons of Maria Retouch_Din',\n",
       "  'House-Trance',\n",
       "  'Progressive 1'),\n",
       " ('Tuviana - Extended Mix_Yoe',\n",
       "  'Our old school trance 2',\n",
       "  'That familiar trance'),\n",
       " ('Palma_Tor', 'Our old school trance', 'Progressive 4'),\n",
       " ('SQRT_Vig', 'That familiar trance', 'Our old school trance 138'),\n",
       " ('Out of Reality - Shadow Chronicles Remix_Pro',\n",
       "  'Our old school trance',\n",
       "  'Our old school trance 138'),\n",
       " ('Solar Wind - LTN Remix_Ale', 'Deep house', 'Classic progressive'),\n",
       " ('Shield (Pt. I) [ReOrder & Standerwick present SkyPatrol Remix]_Sol',\n",
       "  'House-Trance',\n",
       "  'Our old school trance'),\n",
       " ('Evolution - Original Mix_Les', 'Progressive 1', 'Progressive 2'),\n",
       " ('Offshore [ABGT190] - Grum Remix_Chi',\n",
       "  'Classic progressive',\n",
       "  'Classic progressive'),\n",
       " ('Haruka - Original Mix_Kel', 'Classic progressive', 'Progressive 2'),\n",
       " ('Glory - Edu Radio Edit_Tim',\n",
       "  'Our old school trance 2',\n",
       "  'Our old school trance 2'),\n",
       " ('Ascension_Vin', 'That familiar trance', 'Progressive 1'),\n",
       " (\"You'll Know_Gru\", 'House-Trance', 'That familiar trance'),\n",
       " ('Enceladus_Sun', 'That familiar trance', 'House-Trance'),\n",
       " ('Day and Night_Azo', 'Classic progressive', 'Progressive 2'),\n",
       " ('Into_Sup', 'House-Trance', 'Our old school trance'),\n",
       " ('We Are_Haz', 'That familiar trance', 'Classic progressive'),\n",
       " ('From The Outside [ABGT174] - Vintage & Morelli Remix_Mar',\n",
       "  'Our old school trance 2',\n",
       "  'House-Trance'),\n",
       " ('Luna_Pro', 'Our old school trance', 'Our old school trance'),\n",
       " ('Relaxation [Mix Cut]_Tra', 'House-Trance', 'Classic progressive'),\n",
       " ('Contrasts_Vin', 'Our old school trance 2', 'House-Trance'),\n",
       " ('On The Moon_Oli', 'Our old school trance 2', 'House-Trance'),\n",
       " ('SoMa_Sou', 'That familiar trance', 'House-Trance'),\n",
       " ('Small Image - Original Mix_Shi',\n",
       "  'Classic progressive',\n",
       "  'Progressive House'),\n",
       " ('One Day - Original Mix_Tal', 'Progressive 3', 'Progressive 2'),\n",
       " ('Point Break_Esk', 'Progressive 5', 'Progressive 4'),\n",
       " ('Kunai - Radio Edit_Las', 'That familiar trance', 'That familiar trance'),\n",
       " ('Alpha Centauri_LTN', 'That familiar trance', 'That familiar trance'),\n",
       " ('Into The Blue [Mix Cut] - Jayeson Andel Remix_Haz',\n",
       "  'Our old school trance',\n",
       "  'Classic progressive'),\n",
       " ('Mirage_Oli', 'That familiar trance', 'House-Trance'),\n",
       " ('Elevation - Original Mix_Les', 'Progressive 4', 'Progressive 2'),\n",
       " ('Stratosphere_Exi', 'That familiar trance', 'That familiar trance'),\n",
       " ('The Underground Sound_LTN', 'Deep house', 'Deep house'),\n",
       " ('Love Is In The Little Things - Dub_The',\n",
       "  'That familiar trance',\n",
       "  'Classic progressive'),\n",
       " ('Irufushi - Radio Edit_Sup',\n",
       "  'Our old school trance 2',\n",
       "  'That familiar trance'),\n",
       " ('Eclipse - Radio Mix_Bel', 'Our old school trance 2', 'Progressive 2'),\n",
       " ('Night Blooming Jasmine_Eli', 'House-Trance', 'Deep house'),\n",
       " ('Arrival - Original Mix_Jam', 'Progressive 3', 'Progressive 3'),\n",
       " ('Rebirth - Ahmed Romel Remix_Aly', 'House-Trance', 'That familiar trance'),\n",
       " ('Terra - Las Salinas Remix_Las', 'Our old school trance 2', 'Progressive 5'),\n",
       " ('Mota-Mota_Mar', 'That familiar trance', 'Our old school trance'),\n",
       " ('Lift - Original Mix_Blo', 'Deep house', 'Progressive 3'),\n",
       " ('Euforia Anthem_Ale', 'House-Trance', 'Our old school trance 138'),\n",
       " ('Cosmos_Sam', 'Progressive House', 'Progressive House')]"
      ]
     },
     "execution_count": 92,
     "metadata": {},
     "output_type": "execute_result"
    }
   ],
   "source": [
    "comp"
   ]
  },
  {
   "cell_type": "code",
   "execution_count": 58,
   "metadata": {},
   "outputs": [
    {
     "data": {
      "text/plain": [
       "'\\ny_pred = np.array([np.argmax(x) for x in cls_nn.predict(x_test)])\\ny_true = np.array([np.argmax(x) for x in y_test])\\ncon_mat =confusion_matrix(y_true, y_pred, labels=categories) \\ncon_mat_df = pd.DataFrame(con_mat, index = categories, columns = categories)\\n'"
      ]
     },
     "execution_count": 58,
     "metadata": {},
     "output_type": "execute_result"
    }
   ],
   "source": [
    "'''\n",
    "y_pred = np.array([np.argmax(x) for x in cls_nn.predict(x_test)])\n",
    "y_true = np.array([np.argmax(x) for x in y_test])\n",
    "con_mat =confusion_matrix(y_true, y_pred, labels=categories) \n",
    "con_mat_df = pd.DataFrame(con_mat, index = categories, columns = categories)\n",
    "'''"
   ]
  },
  {
   "cell_type": "code",
   "execution_count": null,
   "metadata": {},
   "outputs": [],
   "source": []
  }
 ],
 "metadata": {
  "kernelspec": {
   "display_name": "Python 3",
   "language": "python",
   "name": "python3"
  },
  "language_info": {
   "codemirror_mode": {
    "name": "ipython",
    "version": 3
   },
   "file_extension": ".py",
   "mimetype": "text/x-python",
   "name": "python",
   "nbconvert_exporter": "python",
   "pygments_lexer": "ipython3",
   "version": "3.7.7"
  }
 },
 "nbformat": 4,
 "nbformat_minor": 4
}
