{
 "cells": [
  {
   "cell_type": "markdown",
   "metadata": {},
   "source": [
    "### Collect track analysis data from Spotify API using spotipy library"
   ]
  },
  {
   "cell_type": "code",
   "execution_count": 1,
   "metadata": {},
   "outputs": [],
   "source": [
    "%load_ext autoreload"
   ]
  },
  {
   "cell_type": "code",
   "execution_count": 2,
   "metadata": {},
   "outputs": [
    {
     "name": "stdout",
     "output_type": "stream",
     "text": [
      "Downloading emoji data ...\n",
      "... OK (Got response in 0.20 seconds)\n",
      "Writing emoji data to C:\\Users\\Administrator\\.demoji\\codes.json ...\n",
      "... OK\n"
     ]
    }
   ],
   "source": [
    "from cap_package import SpotipyCollect as sc\n",
    "from dotenv import load_dotenv\n",
    "import numpy as np\n",
    "import os\n",
    "from pathlib import Path\n",
    "%autoreload 2"
   ]
  },
  {
   "cell_type": "code",
   "execution_count": 3,
   "metadata": {},
   "outputs": [],
   "source": [
    "load_dotenv()\n",
    "CLIENT_ID = os.getenv('CLIENT_ID')\n",
    "CLIENT_SECRET = os.getenv('CLIENT_SECRET')\n",
    "REDIRECT_URI = os.getenv('REDIRECT_URI')\n",
    "USERNAME = os.getenv('SPOTIFY_USERNAME')\n",
    "SCOPE = 'playlist-read-private'\n",
    "PATH = os.getenv('PATH_DATASET1.2')"
   ]
  },
  {
   "cell_type": "markdown",
   "metadata": {},
   "source": [
    "Hierachy of SpotipyCollect(sc) package:\n",
    "- spotipy_userauth\n",
    "- Using USER's playlist: get_pl_details >  playlist_id_url > extract_playlists\n",
    "- create_dataset \n",
    "\n",
    " > get_folder_analysis\n",
    "   >> get_playlist_analysis \n",
    "      >>> get_segments\n",
    "          >>>> extract_tracks_analysis\n",
    "               >>>>> extract_tracks\n",
    "               \n",
    "Reduntant - tracks_analysis, track_genre"
   ]
  },
  {
   "cell_type": "code",
   "execution_count": 4,
   "metadata": {},
   "outputs": [],
   "source": [
    "# get spotify authorization \n",
    "sp = sc.spotipy_userauth(USERNAME, SCOPE, CLIENT_ID, CLIENT_SECRET, REDIRECT_URI)"
   ]
  },
  {
   "cell_type": "code",
   "execution_count": 5,
   "metadata": {},
   "outputs": [
    {
     "name": "stdout",
     "output_type": "stream",
     "text": [
      "Sample playlist names: [\"Today's Top Hits\", 'Deep house', 'Progressive House']\n"
     ]
    }
   ],
   "source": [
    "# get user playlist details - specifically : name, id, url and total number of tracks\n",
    "pl_Name_, pl_ID_, pl_URL_, pltot_Tracks_ = sc.get_pl_details(sp, USERNAME)\n",
    "print('Sample playlist names:', pl_Name_[:3])"
   ]
  },
  {
   "cell_type": "code",
   "execution_count": 6,
   "metadata": {},
   "outputs": [
    {
     "name": "stdout",
     "output_type": "stream",
     "text": [
      "Let's see a sample:\n",
      "\n"
     ]
    },
    {
     "data": {
      "text/plain": [
       "(50,\n",
       " 'That familiar trance',\n",
       " '3PH2J5HkKhhMoxWj3W0jk8',\n",
       " 'https://api.spotify.com/v1/playlists/3PH2J5HkKhhMoxWj3W0jk8/tracks')"
      ]
     },
     "execution_count": 6,
     "metadata": {},
     "output_type": "execute_result"
    }
   ],
   "source": [
    "# Filter, sort and choose relevant playlists\n",
    "filsort_pl = sc.filtersort_playlists(pl_Name_, pl_ID_, pl_URL_, pltot_Tracks_, start=1, pl_range = 18)[2:-2]\n",
    "print(\"Let's see a sample:\\n\")\n",
    "filsort_pl[0]"
   ]
  },
  {
   "cell_type": "code",
   "execution_count": 7,
   "metadata": {},
   "outputs": [],
   "source": [
    "# Get audio analysis of all playlists\n",
    "folder_analysis_dict = sc.get_folder_analysis(sp, filsort_pl, segments=True, sections=True, tempo=False)"
   ]
  },
  {
   "cell_type": "markdown",
   "metadata": {},
   "source": [
    "Name of all playlists:"
   ]
  },
  {
   "cell_type": "code",
   "execution_count": 8,
   "metadata": {},
   "outputs": [
    {
     "data": {
      "text/plain": [
       "dict_keys(['That familiar trance', 'House-Trance', 'Our old school trance', 'Classic progressive', 'Progressive 4', 'Deep house', 'Progressive 2', 'Our old school trance 2', 'Progressive 3', 'Progressive House', 'Progressive 5', 'Our old school trance 138', 'Progressive 1'])"
      ]
     },
     "execution_count": 8,
     "metadata": {},
     "output_type": "execute_result"
    }
   ],
   "source": [
    "folder_analysis_dict.keys()"
   ]
  },
  {
   "cell_type": "markdown",
   "metadata": {},
   "source": [
    "Track names are present as keys for a playlist. They are a combination of track name and the first 3 characters of the contributing artist/s name."
   ]
  },
  {
   "cell_type": "code",
   "execution_count": 9,
   "metadata": {},
   "outputs": [
    {
     "data": {
      "text/plain": [
       "dict_keys(['London_Kat', 'Burns - Lane 8 Club Mix_Geo', 'Boxed Out_Cub', 'Sunday Maybe_Way', 'Tokyo Night Train - RMX_Cla', 'Kids - RMX_PRO', 'Chanunpa_Sou', 'Breathe_Vin', 'Ascension_Vin', 'Come Home - Mixed_Vin', '8 Bit Eclipse_Qui', 'Iridescent - Forerunners Dub Remix_Sou', \"Cristiano - Peter Illias 'Back to Love' Remix_Tim\", 'Told You_Cla', 'Campfire 2017 - Sons of Maria Retouch_Din', 'Mimi_Esk', 'Kiwi_Har'])"
      ]
     },
     "execution_count": 9,
     "metadata": {},
     "output_type": "execute_result"
    }
   ],
   "source": [
    "folder_analysis_dict['Progressive 1'].keys()"
   ]
  },
  {
   "cell_type": "markdown",
   "metadata": {},
   "source": [
    "For a track we have two 2 dataframes: \n",
    "- Segments : consisting of atleast 100 segments (rows) chosen based on certain criteria.\n",
    "- Section : consisting of all sections"
   ]
  },
  {
   "cell_type": "code",
   "execution_count": 10,
   "metadata": {},
   "outputs": [
    {
     "name": "stdout",
     "output_type": "stream",
     "text": [
      "\n",
      "Sample track - segments dataframe : \n",
      "\n"
     ]
    },
    {
     "data": {
      "text/html": [
       "<div>\n",
       "<style scoped>\n",
       "    .dataframe tbody tr th:only-of-type {\n",
       "        vertical-align: middle;\n",
       "    }\n",
       "\n",
       "    .dataframe tbody tr th {\n",
       "        vertical-align: top;\n",
       "    }\n",
       "\n",
       "    .dataframe thead th {\n",
       "        text-align: right;\n",
       "    }\n",
       "</style>\n",
       "<table border=\"1\" class=\"dataframe\">\n",
       "  <thead>\n",
       "    <tr style=\"text-align: right;\">\n",
       "      <th></th>\n",
       "      <th>start</th>\n",
       "      <th>start_minute</th>\n",
       "      <th>duration</th>\n",
       "      <th>confidence</th>\n",
       "      <th>pitches</th>\n",
       "      <th>timbre</th>\n",
       "    </tr>\n",
       "  </thead>\n",
       "  <tbody>\n",
       "    <tr>\n",
       "      <th>3</th>\n",
       "      <td>0.54567</td>\n",
       "      <td>00:00:55</td>\n",
       "      <td>0.37737</td>\n",
       "      <td>1.000</td>\n",
       "      <td>[0.099, 0.135, 0.145, 0.212, 0.289, 0.555, 0.8...</td>\n",
       "      <td>[44.69, 72.975, -59.469, 39.529, 15.246, -114....</td>\n",
       "    </tr>\n",
       "    <tr>\n",
       "      <th>5</th>\n",
       "      <td>1.02172</td>\n",
       "      <td>00:01:02</td>\n",
       "      <td>0.51043</td>\n",
       "      <td>0.870</td>\n",
       "      <td>[0.11, 0.144, 0.139, 0.197, 0.268, 0.539, 0.83...</td>\n",
       "      <td>[43.2, 74.587, -21.919, 47.153, 28.937, -46.45...</td>\n",
       "    </tr>\n",
       "    <tr>\n",
       "      <th>6</th>\n",
       "      <td>1.53215</td>\n",
       "      <td>00:01:53</td>\n",
       "      <td>0.35451</td>\n",
       "      <td>0.986</td>\n",
       "      <td>[0.743, 1.0, 0.319, 0.137, 0.083, 0.043, 0.033...</td>\n",
       "      <td>[42.67, 29.638, -49.407, 39.926, -16.55, -139....</td>\n",
       "    </tr>\n",
       "    <tr>\n",
       "      <th>10</th>\n",
       "      <td>2.51320</td>\n",
       "      <td>00:02:51</td>\n",
       "      <td>0.36576</td>\n",
       "      <td>1.000</td>\n",
       "      <td>[0.711, 1.0, 0.322, 0.136, 0.084, 0.048, 0.031...</td>\n",
       "      <td>[41.307, 13.913, -57.769, 67.452, -24.724, -13...</td>\n",
       "    </tr>\n",
       "    <tr>\n",
       "      <th>26</th>\n",
       "      <td>4.97488</td>\n",
       "      <td>00:04:97</td>\n",
       "      <td>0.34834</td>\n",
       "      <td>1.000</td>\n",
       "      <td>[0.717, 1.0, 0.322, 0.134, 0.077, 0.035, 0.027...</td>\n",
       "      <td>[39.028, -28.523, -92.945, 109.523, -32.092, -...</td>\n",
       "    </tr>\n",
       "    <tr>\n",
       "      <th>...</th>\n",
       "      <td>...</td>\n",
       "      <td>...</td>\n",
       "      <td>...</td>\n",
       "      <td>...</td>\n",
       "      <td>...</td>\n",
       "      <td>...</td>\n",
       "    </tr>\n",
       "    <tr>\n",
       "      <th>1619</th>\n",
       "      <td>285.53516</td>\n",
       "      <td>04:45:54</td>\n",
       "      <td>0.25610</td>\n",
       "      <td>0.968</td>\n",
       "      <td>[1.0, 0.187, 0.062, 0.066, 0.241, 0.781, 0.125...</td>\n",
       "      <td>[39.551, 179.46, -10.525, -0.761, 101.805, -17...</td>\n",
       "    </tr>\n",
       "    <tr>\n",
       "      <th>1648</th>\n",
       "      <td>290.70804</td>\n",
       "      <td>04:50:71</td>\n",
       "      <td>0.25034</td>\n",
       "      <td>1.000</td>\n",
       "      <td>[0.694, 1.0, 0.482, 0.195, 0.155, 0.083, 0.046...</td>\n",
       "      <td>[39.112, -35.085, -152.116, 138.637, -28.081, ...</td>\n",
       "    </tr>\n",
       "    <tr>\n",
       "      <th>1652</th>\n",
       "      <td>291.44482</td>\n",
       "      <td>04:51:44</td>\n",
       "      <td>0.25002</td>\n",
       "      <td>0.991</td>\n",
       "      <td>[1.0, 0.291, 0.119, 0.119, 0.219, 0.61, 0.161,...</td>\n",
       "      <td>[32.912, 313.575, -71.716, 17.621, 50.437, -41...</td>\n",
       "    </tr>\n",
       "    <tr>\n",
       "      <th>1680</th>\n",
       "      <td>297.84244</td>\n",
       "      <td>04:57:84</td>\n",
       "      <td>0.34844</td>\n",
       "      <td>0.707</td>\n",
       "      <td>[0.373, 0.411, 0.426, 0.518, 0.469, 0.588, 0.5...</td>\n",
       "      <td>[31.054, 331.479, 38.327, 84.965, 88.189, -35....</td>\n",
       "    </tr>\n",
       "    <tr>\n",
       "      <th>1682</th>\n",
       "      <td>298.30103</td>\n",
       "      <td>04:58:30</td>\n",
       "      <td>0.36558</td>\n",
       "      <td>0.917</td>\n",
       "      <td>[0.331, 0.39, 0.488, 0.382, 0.475, 0.585, 0.58...</td>\n",
       "      <td>[28.4, 336.25, 77.187, 18.96, 82.439, 31.218, ...</td>\n",
       "    </tr>\n",
       "  </tbody>\n",
       "</table>\n",
       "<p>167 rows × 6 columns</p>\n",
       "</div>"
      ],
      "text/plain": [
       "          start start_minute  duration  confidence  \\\n",
       "3       0.54567     00:00:55   0.37737       1.000   \n",
       "5       1.02172     00:01:02   0.51043       0.870   \n",
       "6       1.53215     00:01:53   0.35451       0.986   \n",
       "10      2.51320     00:02:51   0.36576       1.000   \n",
       "26      4.97488     00:04:97   0.34834       1.000   \n",
       "...         ...          ...       ...         ...   \n",
       "1619  285.53516     04:45:54   0.25610       0.968   \n",
       "1648  290.70804     04:50:71   0.25034       1.000   \n",
       "1652  291.44482     04:51:44   0.25002       0.991   \n",
       "1680  297.84244     04:57:84   0.34844       0.707   \n",
       "1682  298.30103     04:58:30   0.36558       0.917   \n",
       "\n",
       "                                                pitches  \\\n",
       "3     [0.099, 0.135, 0.145, 0.212, 0.289, 0.555, 0.8...   \n",
       "5     [0.11, 0.144, 0.139, 0.197, 0.268, 0.539, 0.83...   \n",
       "6     [0.743, 1.0, 0.319, 0.137, 0.083, 0.043, 0.033...   \n",
       "10    [0.711, 1.0, 0.322, 0.136, 0.084, 0.048, 0.031...   \n",
       "26    [0.717, 1.0, 0.322, 0.134, 0.077, 0.035, 0.027...   \n",
       "...                                                 ...   \n",
       "1619  [1.0, 0.187, 0.062, 0.066, 0.241, 0.781, 0.125...   \n",
       "1648  [0.694, 1.0, 0.482, 0.195, 0.155, 0.083, 0.046...   \n",
       "1652  [1.0, 0.291, 0.119, 0.119, 0.219, 0.61, 0.161,...   \n",
       "1680  [0.373, 0.411, 0.426, 0.518, 0.469, 0.588, 0.5...   \n",
       "1682  [0.331, 0.39, 0.488, 0.382, 0.475, 0.585, 0.58...   \n",
       "\n",
       "                                                 timbre  \n",
       "3     [44.69, 72.975, -59.469, 39.529, 15.246, -114....  \n",
       "5     [43.2, 74.587, -21.919, 47.153, 28.937, -46.45...  \n",
       "6     [42.67, 29.638, -49.407, 39.926, -16.55, -139....  \n",
       "10    [41.307, 13.913, -57.769, 67.452, -24.724, -13...  \n",
       "26    [39.028, -28.523, -92.945, 109.523, -32.092, -...  \n",
       "...                                                 ...  \n",
       "1619  [39.551, 179.46, -10.525, -0.761, 101.805, -17...  \n",
       "1648  [39.112, -35.085, -152.116, 138.637, -28.081, ...  \n",
       "1652  [32.912, 313.575, -71.716, 17.621, 50.437, -41...  \n",
       "1680  [31.054, 331.479, 38.327, 84.965, 88.189, -35....  \n",
       "1682  [28.4, 336.25, 77.187, 18.96, 82.439, 31.218, ...  \n",
       "\n",
       "[167 rows x 6 columns]"
      ]
     },
     "execution_count": 10,
     "metadata": {},
     "output_type": "execute_result"
    }
   ],
   "source": [
    "print('\\nSample track - segments dataframe : \\n')\n",
    "folder_analysis_dict['Progressive 1']['London_Kat'][0]"
   ]
  },
  {
   "cell_type": "code",
   "execution_count": 11,
   "metadata": {},
   "outputs": [
    {
     "name": "stdout",
     "output_type": "stream",
     "text": [
      "Sample track - section dataframe : \n",
      "\n"
     ]
    },
    {
     "data": {
      "text/html": [
       "<div>\n",
       "<style scoped>\n",
       "    .dataframe tbody tr th:only-of-type {\n",
       "        vertical-align: middle;\n",
       "    }\n",
       "\n",
       "    .dataframe tbody tr th {\n",
       "        vertical-align: top;\n",
       "    }\n",
       "\n",
       "    .dataframe thead th {\n",
       "        text-align: right;\n",
       "    }\n",
       "</style>\n",
       "<table border=\"1\" class=\"dataframe\">\n",
       "  <thead>\n",
       "    <tr style=\"text-align: right;\">\n",
       "      <th></th>\n",
       "      <th>start</th>\n",
       "      <th>duration</th>\n",
       "      <th>confidence</th>\n",
       "      <th>loudness</th>\n",
       "      <th>tempo</th>\n",
       "      <th>tempo_confidence</th>\n",
       "      <th>key</th>\n",
       "      <th>key_confidence</th>\n",
       "      <th>mode</th>\n",
       "      <th>mode_confidence</th>\n",
       "      <th>time_signature</th>\n",
       "      <th>time_signature_confidence</th>\n",
       "    </tr>\n",
       "  </thead>\n",
       "  <tbody>\n",
       "    <tr>\n",
       "      <th>0</th>\n",
       "      <td>0.00000</td>\n",
       "      <td>16.67468</td>\n",
       "      <td>1.000</td>\n",
       "      <td>-14.333</td>\n",
       "      <td>121.915</td>\n",
       "      <td>0.562</td>\n",
       "      <td>1</td>\n",
       "      <td>0.000</td>\n",
       "      <td>1</td>\n",
       "      <td>0.000</td>\n",
       "      <td>4</td>\n",
       "      <td>1.0</td>\n",
       "    </tr>\n",
       "    <tr>\n",
       "      <th>1</th>\n",
       "      <td>16.67468</td>\n",
       "      <td>15.23954</td>\n",
       "      <td>1.000</td>\n",
       "      <td>-13.096</td>\n",
       "      <td>122.075</td>\n",
       "      <td>0.567</td>\n",
       "      <td>5</td>\n",
       "      <td>0.008</td>\n",
       "      <td>0</td>\n",
       "      <td>0.196</td>\n",
       "      <td>4</td>\n",
       "      <td>1.0</td>\n",
       "    </tr>\n",
       "    <tr>\n",
       "      <th>2</th>\n",
       "      <td>31.91422</td>\n",
       "      <td>47.70385</td>\n",
       "      <td>0.753</td>\n",
       "      <td>-9.988</td>\n",
       "      <td>122.069</td>\n",
       "      <td>0.452</td>\n",
       "      <td>0</td>\n",
       "      <td>0.000</td>\n",
       "      <td>1</td>\n",
       "      <td>0.000</td>\n",
       "      <td>4</td>\n",
       "      <td>1.0</td>\n",
       "    </tr>\n",
       "    <tr>\n",
       "      <th>3</th>\n",
       "      <td>79.61807</td>\n",
       "      <td>23.12073</td>\n",
       "      <td>0.370</td>\n",
       "      <td>-12.096</td>\n",
       "      <td>122.162</td>\n",
       "      <td>0.428</td>\n",
       "      <td>10</td>\n",
       "      <td>0.356</td>\n",
       "      <td>1</td>\n",
       "      <td>0.364</td>\n",
       "      <td>4</td>\n",
       "      <td>1.0</td>\n",
       "    </tr>\n",
       "    <tr>\n",
       "      <th>4</th>\n",
       "      <td>102.73880</td>\n",
       "      <td>24.09149</td>\n",
       "      <td>0.563</td>\n",
       "      <td>-9.533</td>\n",
       "      <td>122.075</td>\n",
       "      <td>0.344</td>\n",
       "      <td>1</td>\n",
       "      <td>0.000</td>\n",
       "      <td>1</td>\n",
       "      <td>0.000</td>\n",
       "      <td>4</td>\n",
       "      <td>1.0</td>\n",
       "    </tr>\n",
       "    <tr>\n",
       "      <th>5</th>\n",
       "      <td>126.83029</td>\n",
       "      <td>31.47287</td>\n",
       "      <td>0.494</td>\n",
       "      <td>-7.806</td>\n",
       "      <td>122.149</td>\n",
       "      <td>0.237</td>\n",
       "      <td>5</td>\n",
       "      <td>0.609</td>\n",
       "      <td>0</td>\n",
       "      <td>0.608</td>\n",
       "      <td>4</td>\n",
       "      <td>1.0</td>\n",
       "    </tr>\n",
       "    <tr>\n",
       "      <th>6</th>\n",
       "      <td>158.30315</td>\n",
       "      <td>47.21720</td>\n",
       "      <td>0.491</td>\n",
       "      <td>-7.876</td>\n",
       "      <td>121.989</td>\n",
       "      <td>0.198</td>\n",
       "      <td>5</td>\n",
       "      <td>0.495</td>\n",
       "      <td>0</td>\n",
       "      <td>0.538</td>\n",
       "      <td>4</td>\n",
       "      <td>1.0</td>\n",
       "    </tr>\n",
       "    <tr>\n",
       "      <th>7</th>\n",
       "      <td>205.52036</td>\n",
       "      <td>53.72078</td>\n",
       "      <td>0.529</td>\n",
       "      <td>-9.484</td>\n",
       "      <td>121.909</td>\n",
       "      <td>0.485</td>\n",
       "      <td>5</td>\n",
       "      <td>0.915</td>\n",
       "      <td>0</td>\n",
       "      <td>0.666</td>\n",
       "      <td>4</td>\n",
       "      <td>1.0</td>\n",
       "    </tr>\n",
       "    <tr>\n",
       "      <th>8</th>\n",
       "      <td>259.24115</td>\n",
       "      <td>14.75500</td>\n",
       "      <td>0.219</td>\n",
       "      <td>-12.174</td>\n",
       "      <td>122.047</td>\n",
       "      <td>0.801</td>\n",
       "      <td>0</td>\n",
       "      <td>0.030</td>\n",
       "      <td>1</td>\n",
       "      <td>0.359</td>\n",
       "      <td>4</td>\n",
       "      <td>1.0</td>\n",
       "    </tr>\n",
       "    <tr>\n",
       "      <th>9</th>\n",
       "      <td>273.99615</td>\n",
       "      <td>28.92228</td>\n",
       "      <td>0.252</td>\n",
       "      <td>-13.912</td>\n",
       "      <td>122.036</td>\n",
       "      <td>0.820</td>\n",
       "      <td>7</td>\n",
       "      <td>0.041</td>\n",
       "      <td>0</td>\n",
       "      <td>0.464</td>\n",
       "      <td>4</td>\n",
       "      <td>1.0</td>\n",
       "    </tr>\n",
       "    <tr>\n",
       "      <th>10</th>\n",
       "      <td>302.91843</td>\n",
       "      <td>7.96276</td>\n",
       "      <td>1.000</td>\n",
       "      <td>-42.108</td>\n",
       "      <td>121.825</td>\n",
       "      <td>0.363</td>\n",
       "      <td>6</td>\n",
       "      <td>0.000</td>\n",
       "      <td>1</td>\n",
       "      <td>0.000</td>\n",
       "      <td>4</td>\n",
       "      <td>1.0</td>\n",
       "    </tr>\n",
       "  </tbody>\n",
       "</table>\n",
       "</div>"
      ],
      "text/plain": [
       "        start  duration  confidence  loudness    tempo  tempo_confidence  key  \\\n",
       "0     0.00000  16.67468       1.000   -14.333  121.915             0.562    1   \n",
       "1    16.67468  15.23954       1.000   -13.096  122.075             0.567    5   \n",
       "2    31.91422  47.70385       0.753    -9.988  122.069             0.452    0   \n",
       "3    79.61807  23.12073       0.370   -12.096  122.162             0.428   10   \n",
       "4   102.73880  24.09149       0.563    -9.533  122.075             0.344    1   \n",
       "5   126.83029  31.47287       0.494    -7.806  122.149             0.237    5   \n",
       "6   158.30315  47.21720       0.491    -7.876  121.989             0.198    5   \n",
       "7   205.52036  53.72078       0.529    -9.484  121.909             0.485    5   \n",
       "8   259.24115  14.75500       0.219   -12.174  122.047             0.801    0   \n",
       "9   273.99615  28.92228       0.252   -13.912  122.036             0.820    7   \n",
       "10  302.91843   7.96276       1.000   -42.108  121.825             0.363    6   \n",
       "\n",
       "    key_confidence  mode  mode_confidence  time_signature  \\\n",
       "0            0.000     1            0.000               4   \n",
       "1            0.008     0            0.196               4   \n",
       "2            0.000     1            0.000               4   \n",
       "3            0.356     1            0.364               4   \n",
       "4            0.000     1            0.000               4   \n",
       "5            0.609     0            0.608               4   \n",
       "6            0.495     0            0.538               4   \n",
       "7            0.915     0            0.666               4   \n",
       "8            0.030     1            0.359               4   \n",
       "9            0.041     0            0.464               4   \n",
       "10           0.000     1            0.000               4   \n",
       "\n",
       "    time_signature_confidence  \n",
       "0                         1.0  \n",
       "1                         1.0  \n",
       "2                         1.0  \n",
       "3                         1.0  \n",
       "4                         1.0  \n",
       "5                         1.0  \n",
       "6                         1.0  \n",
       "7                         1.0  \n",
       "8                         1.0  \n",
       "9                         1.0  \n",
       "10                        1.0  "
      ]
     },
     "execution_count": 11,
     "metadata": {},
     "output_type": "execute_result"
    }
   ],
   "source": [
    "print('Sample track - section dataframe : \\n')\n",
    "folder_analysis_dict['Progressive 1']['London_Kat'][1]"
   ]
  },
  {
   "cell_type": "code",
   "execution_count": 12,
   "metadata": {},
   "outputs": [
    {
     "name": "stdout",
     "output_type": "stream",
     "text": [
      "missing segments : []\n",
      "missing sections : []\n"
     ]
    }
   ],
   "source": [
    "# Confirm if there are any tracks with missing segments or sections\n",
    "mis_secs = []\n",
    "mis_segs = []\n",
    "for pl, tracks in folder_analysis_dict.items():\n",
    "    \n",
    "    for track, dfs in tracks.items():\n",
    "        if dfs[0].isnull().sum().sum() > 0:\n",
    "            mis_segs.append((pl, track))\n",
    "        if dfs[1].isnull().sum().sum() > 0:\n",
    "            mis_secs.append((pl, track))\n",
    "# Should be empty\n",
    "print('missing segments :', mis_segs)\n",
    "print('missing sections :', mis_secs)"
   ]
  },
  {
   "cell_type": "code",
   "execution_count": null,
   "metadata": {},
   "outputs": [],
   "source": [
    "# Define path to the dataset directory\n",
    "#path = Path(PATH).joinpath('user_playlists')"
   ]
  },
  {
   "cell_type": "code",
   "execution_count": null,
   "metadata": {},
   "outputs": [],
   "source": [
    "# Create dataset and save them as parquet files\n",
    "#sc.create_dataset(folder_analysis_dict, path)"
   ]
  }
 ],
 "metadata": {
  "kernelspec": {
   "display_name": "Python 3",
   "language": "python",
   "name": "python3"
  },
  "language_info": {
   "codemirror_mode": {
    "name": "ipython",
    "version": 3
   },
   "file_extension": ".py",
   "mimetype": "text/x-python",
   "name": "python",
   "nbconvert_exporter": "python",
   "pygments_lexer": "ipython3",
   "version": "3.7.7"
  }
 },
 "nbformat": 4,
 "nbformat_minor": 4
}
