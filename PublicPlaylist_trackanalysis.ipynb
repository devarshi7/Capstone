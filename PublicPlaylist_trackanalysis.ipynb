{
 "cells": [
  {
   "cell_type": "markdown",
   "metadata": {},
   "source": [
    "- This notebook loads a dataframe stored as a parquet file containing track information.\n",
    "- It then breaks the dataframe by user, and then further into size of 100 tracks/rows.\n",
    "- track id is used to request track analysis from spotify web api\n",
    "- tempo and segment information is saved as dataframes in parquet to access later"
   ]
  },
  {
   "cell_type": "code",
   "execution_count": 1,
   "metadata": {},
   "outputs": [],
   "source": [
    "%load_ext autoreload"
   ]
  },
  {
   "cell_type": "code",
   "execution_count": 2,
   "metadata": {},
   "outputs": [
    {
     "name": "stdout",
     "output_type": "stream",
     "text": [
      "Downloading emoji data ...\n",
      "... OK (Got response in 0.21 seconds)\n",
      "Writing emoji data to C:\\Users\\Administrator\\.demoji\\codes.json ...\n",
      "... OK\n",
      "Downloading emoji data ...\n",
      "... OK (Got response in 0.19 seconds)\n",
      "Writing emoji data to C:\\Users\\Administrator\\.demoji\\codes.json ...\n",
      "... OK\n"
     ]
    }
   ],
   "source": [
    "from cap_package import SpotipyCollectPub as scp\n",
    "from datetime import datetime\n",
    "import datetime as dt\n",
    "import demoji\n",
    "from dotenv import load_dotenv\n",
    "from IPython.utils.text import columnize\n",
    "import os\n",
    "import pandas as pd\n",
    "from pathlib import Path\n",
    "import re\n",
    "import spotipy"
   ]
  },
  {
   "cell_type": "code",
   "execution_count": 3,
   "metadata": {
    "scrolled": true
   },
   "outputs": [],
   "source": [
    "%autoreload 2"
   ]
  },
  {
   "cell_type": "code",
   "execution_count": 4,
   "metadata": {},
   "outputs": [],
   "source": [
    "def disp_col(list_):\n",
    "    \n",
    "    # import -> from IPython.utils.text import columnize\n",
    "    l = list(map(lambda x:repr(x)+',', list_))\n",
    "    print(columnize(l, displaywidth=120))"
   ]
  },
  {
   "cell_type": "code",
   "execution_count": 5,
   "metadata": {},
   "outputs": [],
   "source": [
    "def timer(start_time=None):\n",
    "    if start_time is not None:\n",
    "        return (datetime.now() - start_time).total_seconds()\n",
    "    else:\n",
    "        start_time = datetime.now()\n",
    "        return start_time"
   ]
  },
  {
   "cell_type": "code",
   "execution_count": 6,
   "metadata": {},
   "outputs": [
    {
     "name": "stdout",
     "output_type": "stream",
     "text": [
      "'SpotifyClientCredentials',  '__loader__',   'filterby_keyword',      'get_tracks_df',   'spotipy',            \n",
      "'__builtins__',              '__name__',     'get_artist_name',       'json_normalize',  'spotipy_client_cred',\n",
      "'__cached__',                '__package__',  'get_df_analysis',       'pd',              'uri_to_id',          \n",
      "'__doc__',                   '__spec__',     'get_public_playlists',  're',              'user_analysis',      \n",
      "'__file__',                  'demoji',       'get_tracks',            'sc',              'user_plid_pair',     \n",
      "\n"
     ]
    }
   ],
   "source": [
    "disp_col(dir(scp))"
   ]
  },
  {
   "cell_type": "code",
   "execution_count": 7,
   "metadata": {},
   "outputs": [],
   "source": [
    "load_dotenv()\n",
    "SPOTIPY_CLIENT_ID = os.getenv('CLIENT_ID')\n",
    "SPOTIPY_CLIENT_SECRET = os.getenv('CLIENT_SECRET')\n",
    "path = os.getenv('PATH_DATASET2')"
   ]
  },
  {
   "cell_type": "code",
   "execution_count": 8,
   "metadata": {},
   "outputs": [],
   "source": [
    "sp = scp.spotipy_client_cred(client_id=SPOTIPY_CLIENT_ID, client_secret=SPOTIPY_CLIENT_SECRET)"
   ]
  },
  {
   "cell_type": "code",
   "execution_count": 9,
   "metadata": {},
   "outputs": [
    {
     "data": {
      "text/html": [
       "<div>\n",
       "<style scoped>\n",
       "    .dataframe tbody tr th:only-of-type {\n",
       "        vertical-align: middle;\n",
       "    }\n",
       "\n",
       "    .dataframe tbody tr th {\n",
       "        vertical-align: top;\n",
       "    }\n",
       "\n",
       "    .dataframe thead th {\n",
       "        text-align: right;\n",
       "    }\n",
       "</style>\n",
       "<table border=\"1\" class=\"dataframe\">\n",
       "  <thead>\n",
       "    <tr style=\"text-align: right;\">\n",
       "      <th></th>\n",
       "      <th>name</th>\n",
       "      <th>id</th>\n",
       "      <th>artists_name</th>\n",
       "      <th>user</th>\n",
       "    </tr>\n",
       "  </thead>\n",
       "  <tbody>\n",
       "    <tr>\n",
       "      <th>18396</th>\n",
       "      <td>Volume One - Free State vs Dirt Devils Remix</td>\n",
       "      <td>03NSRR3kgp4oOKqGtTEjOZ</td>\n",
       "      <td>Anjunabeats</td>\n",
       "      <td>Anjunabeats</td>\n",
       "    </tr>\n",
       "    <tr>\n",
       "      <th>18397</th>\n",
       "      <td>Volume One - Anjuna Deep Mix</td>\n",
       "      <td>4qKcK7oKhB2oMF1Ny2T4Rr</td>\n",
       "      <td>Anjunabeats</td>\n",
       "      <td>Anjunabeats</td>\n",
       "    </tr>\n",
       "    <tr>\n",
       "      <th>18398</th>\n",
       "      <td>Volume One - Original Mix</td>\n",
       "      <td>1ZfyvweqqR3csr8K4ACjt4</td>\n",
       "      <td>Anjunabeats</td>\n",
       "      <td>Anjunabeats</td>\n",
       "    </tr>\n",
       "    <tr>\n",
       "      <th>18399</th>\n",
       "      <td>Volume One - Tease Dub</td>\n",
       "      <td>4GYyq7cPaTjyynNWpPkC9P</td>\n",
       "      <td>Anjunabeats</td>\n",
       "      <td>Anjunabeats</td>\n",
       "    </tr>\n",
       "    <tr>\n",
       "      <th>18400</th>\n",
       "      <td>Won't Sleep Tonight - Moody Dub Mix</td>\n",
       "      <td>3G2fWbQSseRglXGRhC99Jm</td>\n",
       "      <td>Super8 &amp; Tab</td>\n",
       "      <td>Anjunabeats</td>\n",
       "    </tr>\n",
       "  </tbody>\n",
       "</table>\n",
       "</div>"
      ],
      "text/plain": [
       "                                               name                      id  \\\n",
       "18396  Volume One - Free State vs Dirt Devils Remix  03NSRR3kgp4oOKqGtTEjOZ   \n",
       "18397                  Volume One - Anjuna Deep Mix  4qKcK7oKhB2oMF1Ny2T4Rr   \n",
       "18398                     Volume One - Original Mix  1ZfyvweqqR3csr8K4ACjt4   \n",
       "18399                        Volume One - Tease Dub  4GYyq7cPaTjyynNWpPkC9P   \n",
       "18400           Won't Sleep Tonight - Moody Dub Mix  3G2fWbQSseRglXGRhC99Jm   \n",
       "\n",
       "       artists_name         user  \n",
       "18396   Anjunabeats  Anjunabeats  \n",
       "18397   Anjunabeats  Anjunabeats  \n",
       "18398   Anjunabeats  Anjunabeats  \n",
       "18399   Anjunabeats  Anjunabeats  \n",
       "18400  Super8 & Tab  Anjunabeats  "
      ]
     },
     "execution_count": 9,
     "metadata": {},
     "output_type": "execute_result"
    }
   ],
   "source": [
    "path_ = Path(path).joinpath('musiclabels_tracks_.parquet')\n",
    "tracks_df = pd.read_parquet(path_)\n",
    "tracks_df.tail()"
   ]
  },
  {
   "cell_type": "code",
   "execution_count": 10,
   "metadata": {},
   "outputs": [
    {
     "name": "stdout",
     "output_type": "stream",
     "text": [
      "['ChillBeatsMusic', 'anjunadeep', 'spinninrecordsofficial', 'enhanced_music', 'emergentmusic', 'armadamusicofficial', 'spotify', 'silkmusic', 'Anjunabeats']\n"
     ]
    }
   ],
   "source": [
    "users = list(tracks_df['user'].unique())\n",
    "print(users)"
   ]
  },
  {
   "cell_type": "code",
   "execution_count": 11,
   "metadata": {},
   "outputs": [],
   "source": [
    "tracksdf_byuser = [tracks_df[tracks_df['user'] == u] for u in users]"
   ]
  },
  {
   "cell_type": "code",
   "execution_count": 12,
   "metadata": {},
   "outputs": [
    {
     "name": "stdout",
     "output_type": "stream",
     "text": [
      " There are 9 users in our list.\n",
      "user : ChillBeatsMusic , # of dfs : 3\n",
      "user : anjunadeep , # of dfs : 19\n",
      "user : spinninrecordsofficial , # of dfs : 33\n",
      "user : enhanced_music , # of dfs : 2\n",
      "user : emergentmusic , # of dfs : 3\n",
      "user : armadamusicofficial , # of dfs : 58\n",
      "user : spotify , # of dfs : 45\n",
      "user : silkmusic , # of dfs : 5\n",
      "user : Anjunabeats , # of dfs : 19\n"
     ]
    }
   ],
   "source": [
    "tracksdf_chunks = []\n",
    "n = 100 # chunk size\n",
    "for df in tracksdf_byuser:\n",
    "    \n",
    "    list_df = [df[i:i+n] for i in range(0,df.shape[0],n)]\n",
    "    tracksdf_chunks.append(list_df)\n",
    "    \n",
    "print(' There are {} users in our list.'.format(len(tracksdf_byuser)))\n",
    "for u,l in zip(users, tracksdf_chunks):\n",
    "    \n",
    "    print('user : {} , # of dfs : {}'.format(u, len(l)))"
   ]
  },
  {
   "cell_type": "markdown",
   "metadata": {},
   "source": [
    "The cell below will do the following :\n",
    "- for each user go through all dataframes\n",
    "> request track analysis for all tracks in a datframe\n",
    ">> save tempo and segment information as parquet to load later"
   ]
  },
  {
   "cell_type": "code",
   "execution_count": null,
   "metadata": {},
   "outputs": [],
   "source": [
    "for u, user_dfs in zip(users, tracksdf_chunks): \n",
    "    \n",
    "    for i in range(len(used_dfs)):\n",
    "        \n",
    "        scp.user_analysis(sp, user=u, df=user_dfs[i], path=path, fn=i)\n",
    "        "
   ]
  },
  {
   "cell_type": "code",
   "execution_count": null,
   "metadata": {},
   "outputs": [],
   "source": []
  }
 ],
 "metadata": {
  "kernelspec": {
   "display_name": "Python 3",
   "language": "python",
   "name": "python3"
  },
  "language_info": {
   "codemirror_mode": {
    "name": "ipython",
    "version": 3
   },
   "file_extension": ".py",
   "mimetype": "text/x-python",
   "name": "python",
   "nbconvert_exporter": "python",
   "pygments_lexer": "ipython3",
   "version": "3.7.7"
  }
 },
 "nbformat": 4,
 "nbformat_minor": 4
}
