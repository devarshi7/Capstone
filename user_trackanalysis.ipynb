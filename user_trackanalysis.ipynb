{
 "cells": [
  {
   "cell_type": "markdown",
   "metadata": {},
   "source": [
    "### Collect data from Spotify API using spotipy library"
   ]
  },
  {
   "cell_type": "code",
   "execution_count": 1,
   "metadata": {},
   "outputs": [],
   "source": [
    "%load_ext autoreload"
   ]
  },
  {
   "cell_type": "code",
   "execution_count": 2,
   "metadata": {},
   "outputs": [
    {
     "name": "stdout",
     "output_type": "stream",
     "text": [
      "Downloading emoji data ...\n",
      "... OK (Got response in 0.18 seconds)\n",
      "Writing emoji data to C:\\Users\\Administrator\\.demoji\\codes.json ...\n",
      "... OK\n"
     ]
    }
   ],
   "source": [
    "from cap_package import SpotipyCollect as sc\n",
    "from dotenv import load_dotenv\n",
    "import numpy as np\n",
    "import os\n",
    "from pathlib import Path\n",
    "%autoreload 2"
   ]
  },
  {
   "cell_type": "code",
   "execution_count": 3,
   "metadata": {},
   "outputs": [],
   "source": [
    "load_dotenv()\n",
    "CLIENT_ID = os.getenv('CLIENT_ID')\n",
    "CLIENT_SECRET = os.getenv('CLIENT_SECRET')\n",
    "REDIRECT_URI = os.getenv('REDIRECT_URI')\n",
    "USERNAME = os.getenv('SPOTIFY_USERNAME')\n",
    "SCOPE = 'playlist-read-private'\n",
    "PATH = os.getenv('PATH_DATASET1.2')"
   ]
  },
  {
   "cell_type": "markdown",
   "metadata": {},
   "source": [
    "Hierachy:\n",
    "- spotipy_userauth\n",
    "- create_dataset > arg(get_folder_analysis)\n",
    "                 > get_playlist_analysis \n",
    "                 > get_segments > arg(extract_tracks_analysis) > arg(extract_tracks)\n",
    "\n",
    "  - get_segments > arg(track_analysis), track_analysis_to_df, convert_time\n",
    "\n",
    "     - track_analysis_to_df > arg(track_analysis) or > extract_track_analysis(arg(track_id))\n",
    "\n",
    "  - extract_track_analysis > arg(tracksid), spotipy.audio_analysis\n",
    "  - extract_tracks > arg(playlist_id), spotipy.playlist_tracks\n",
    "   \n",
    "- Using USER's playlist: get_pl_details >  playlist_id_url > arg(extract_playlists,)\n",
    "\n",
    "   \n",
    "Reduntant - tracks_analysis, track_genre"
   ]
  },
  {
   "cell_type": "code",
   "execution_count": 4,
   "metadata": {},
   "outputs": [],
   "source": [
    "# get spotify authorization \n",
    "sp = sc.spotipy_userauth(USERNAME, SCOPE, CLIENT_ID, CLIENT_SECRET, REDIRECT_URI)"
   ]
  },
  {
   "cell_type": "code",
   "execution_count": 5,
   "metadata": {},
   "outputs": [
    {
     "name": "stdout",
     "output_type": "stream",
     "text": [
      "Sample playlist names: [\"Today's Top Hits\", 'Deep house', 'Progressive House']\n"
     ]
    }
   ],
   "source": [
    "# get user playlist details - specifically : name, id, url and total number of tracks\n",
    "pl_Name_, pl_ID_, pl_URL_, pltot_Tracks_ = sc.get_pl_details(sp, USERNAME)\n",
    "print('Sample playlist names:', pl_Name_[:3])"
   ]
  },
  {
   "cell_type": "code",
   "execution_count": 6,
   "metadata": {},
   "outputs": [
    {
     "name": "stdout",
     "output_type": "stream",
     "text": [
      "Let's see a sample:\n",
      "\n"
     ]
    },
    {
     "data": {
      "text/plain": [
       "(50,\n",
       " 'That familiar trance',\n",
       " '3PH2J5HkKhhMoxWj3W0jk8',\n",
       " 'https://api.spotify.com/v1/playlists/3PH2J5HkKhhMoxWj3W0jk8/tracks')"
      ]
     },
     "execution_count": 6,
     "metadata": {},
     "output_type": "execute_result"
    }
   ],
   "source": [
    "# Filter, sort and choose relevant playlists\n",
    "filsort_pl = sc.filtersort_playlists(pl_Name_, pl_ID_, pl_URL_, pltot_Tracks_, start=1, pl_range = 18)[2:-2]\n",
    "print(\"Let's see a sample:\\n\")\n",
    "filsort_pl[0]"
   ]
  },
  {
   "cell_type": "code",
   "execution_count": 7,
   "metadata": {},
   "outputs": [],
   "source": [
    "# Get audio analysis of all playlists\n",
    "folder_analysis_dict = sc.get_folder_analysis(sp, filsort_pl)"
   ]
  },
  {
   "cell_type": "markdown",
   "metadata": {},
   "source": [
    "Track names are present as keys for a playlist. They are a combination of track name and the first 3 characters of the contributing artist/s name."
   ]
  },
  {
   "cell_type": "code",
   "execution_count": 8,
   "metadata": {},
   "outputs": [
    {
     "data": {
      "text/plain": [
       "dict_keys(['London_Kat', 'Burns - Lane 8 Club Mix_Geo', 'Boxed Out_Cub', 'Sunday Maybe_Way', 'Tokyo Night Train - RMX_Cla', 'Kids - RMX_PRO', 'Chanunpa_Sou', 'Breathe_Vin', 'Ascension_Vin', 'Come Home - Mixed_Vin', '8 Bit Eclipse_Qui', 'Iridescent - Forerunners Dub Remix_Sou', \"Cristiano - Peter Illias 'Back to Love' Remix_Tim\", 'Told You_Cla', 'Campfire 2017 - Sons of Maria Retouch_Din', 'Mimi_Esk', 'Kiwi_Har'])"
      ]
     },
     "execution_count": 8,
     "metadata": {},
     "output_type": "execute_result"
    }
   ],
   "source": [
    "folder_analysis_dict['Progressive 1'].keys()"
   ]
  },
  {
   "cell_type": "markdown",
   "metadata": {},
   "source": [
    "For a track we have two 2 dataframes: \n",
    "- Tempo : constitnig of a single value\n",
    "- Segments : consisting of 100 rows for 100 segments chosen based on certain criteria.\n",
    "\n",
    "Below displayed is a segments df"
   ]
  },
  {
   "cell_type": "code",
   "execution_count": 9,
   "metadata": {},
   "outputs": [
    {
     "data": {
      "text/html": [
       "<div>\n",
       "<style scoped>\n",
       "    .dataframe tbody tr th:only-of-type {\n",
       "        vertical-align: middle;\n",
       "    }\n",
       "\n",
       "    .dataframe tbody tr th {\n",
       "        vertical-align: top;\n",
       "    }\n",
       "\n",
       "    .dataframe thead th {\n",
       "        text-align: right;\n",
       "    }\n",
       "</style>\n",
       "<table border=\"1\" class=\"dataframe\">\n",
       "  <thead>\n",
       "    <tr style=\"text-align: right;\">\n",
       "      <th></th>\n",
       "      <th>start</th>\n",
       "      <th>start_minute</th>\n",
       "      <th>duration</th>\n",
       "      <th>confidence</th>\n",
       "      <th>pitches</th>\n",
       "      <th>timbre</th>\n",
       "    </tr>\n",
       "  </thead>\n",
       "  <tbody>\n",
       "    <tr>\n",
       "      <th>3</th>\n",
       "      <td>0.54567</td>\n",
       "      <td>00:00:55</td>\n",
       "      <td>0.37737</td>\n",
       "      <td>1.000</td>\n",
       "      <td>[0.099, 0.135, 0.145, 0.212, 0.289, 0.555, 0.8...</td>\n",
       "      <td>[44.69, 72.975, -59.469, 39.529, 15.246, -114....</td>\n",
       "    </tr>\n",
       "    <tr>\n",
       "      <th>5</th>\n",
       "      <td>1.02172</td>\n",
       "      <td>00:01:02</td>\n",
       "      <td>0.51043</td>\n",
       "      <td>0.870</td>\n",
       "      <td>[0.11, 0.144, 0.139, 0.197, 0.268, 0.539, 0.83...</td>\n",
       "      <td>[43.2, 74.587, -21.919, 47.153, 28.937, -46.45...</td>\n",
       "    </tr>\n",
       "    <tr>\n",
       "      <th>6</th>\n",
       "      <td>1.53215</td>\n",
       "      <td>00:01:53</td>\n",
       "      <td>0.35451</td>\n",
       "      <td>0.986</td>\n",
       "      <td>[0.743, 1.0, 0.319, 0.137, 0.083, 0.043, 0.033...</td>\n",
       "      <td>[42.67, 29.638, -49.407, 39.926, -16.55, -139....</td>\n",
       "    </tr>\n",
       "    <tr>\n",
       "      <th>10</th>\n",
       "      <td>2.51320</td>\n",
       "      <td>00:02:51</td>\n",
       "      <td>0.36576</td>\n",
       "      <td>1.000</td>\n",
       "      <td>[0.711, 1.0, 0.322, 0.136, 0.084, 0.048, 0.031...</td>\n",
       "      <td>[41.307, 13.913, -57.769, 67.452, -24.724, -13...</td>\n",
       "    </tr>\n",
       "    <tr>\n",
       "      <th>26</th>\n",
       "      <td>4.97488</td>\n",
       "      <td>00:04:97</td>\n",
       "      <td>0.34834</td>\n",
       "      <td>1.000</td>\n",
       "      <td>[0.717, 1.0, 0.322, 0.134, 0.077, 0.035, 0.027...</td>\n",
       "      <td>[39.028, -28.523, -92.945, 109.523, -32.092, -...</td>\n",
       "    </tr>\n",
       "    <tr>\n",
       "      <th>...</th>\n",
       "      <td>...</td>\n",
       "      <td>...</td>\n",
       "      <td>...</td>\n",
       "      <td>...</td>\n",
       "      <td>...</td>\n",
       "      <td>...</td>\n",
       "    </tr>\n",
       "    <tr>\n",
       "      <th>1619</th>\n",
       "      <td>285.53516</td>\n",
       "      <td>04:45:54</td>\n",
       "      <td>0.25610</td>\n",
       "      <td>0.968</td>\n",
       "      <td>[1.0, 0.187, 0.062, 0.066, 0.241, 0.781, 0.125...</td>\n",
       "      <td>[39.551, 179.46, -10.525, -0.761, 101.805, -17...</td>\n",
       "    </tr>\n",
       "    <tr>\n",
       "      <th>1648</th>\n",
       "      <td>290.70804</td>\n",
       "      <td>04:50:71</td>\n",
       "      <td>0.25034</td>\n",
       "      <td>1.000</td>\n",
       "      <td>[0.694, 1.0, 0.482, 0.195, 0.155, 0.083, 0.046...</td>\n",
       "      <td>[39.112, -35.085, -152.116, 138.637, -28.081, ...</td>\n",
       "    </tr>\n",
       "    <tr>\n",
       "      <th>1652</th>\n",
       "      <td>291.44482</td>\n",
       "      <td>04:51:44</td>\n",
       "      <td>0.25002</td>\n",
       "      <td>0.991</td>\n",
       "      <td>[1.0, 0.291, 0.119, 0.119, 0.219, 0.61, 0.161,...</td>\n",
       "      <td>[32.912, 313.575, -71.716, 17.621, 50.437, -41...</td>\n",
       "    </tr>\n",
       "    <tr>\n",
       "      <th>1680</th>\n",
       "      <td>297.84244</td>\n",
       "      <td>04:57:84</td>\n",
       "      <td>0.34844</td>\n",
       "      <td>0.707</td>\n",
       "      <td>[0.373, 0.411, 0.426, 0.518, 0.469, 0.588, 0.5...</td>\n",
       "      <td>[31.054, 331.479, 38.327, 84.965, 88.189, -35....</td>\n",
       "    </tr>\n",
       "    <tr>\n",
       "      <th>1682</th>\n",
       "      <td>298.30103</td>\n",
       "      <td>04:58:30</td>\n",
       "      <td>0.36558</td>\n",
       "      <td>0.917</td>\n",
       "      <td>[0.331, 0.39, 0.488, 0.382, 0.475, 0.585, 0.58...</td>\n",
       "      <td>[28.4, 336.25, 77.187, 18.96, 82.439, 31.218, ...</td>\n",
       "    </tr>\n",
       "  </tbody>\n",
       "</table>\n",
       "<p>167 rows × 6 columns</p>\n",
       "</div>"
      ],
      "text/plain": [
       "          start start_minute  duration  confidence  \\\n",
       "3       0.54567     00:00:55   0.37737       1.000   \n",
       "5       1.02172     00:01:02   0.51043       0.870   \n",
       "6       1.53215     00:01:53   0.35451       0.986   \n",
       "10      2.51320     00:02:51   0.36576       1.000   \n",
       "26      4.97488     00:04:97   0.34834       1.000   \n",
       "...         ...          ...       ...         ...   \n",
       "1619  285.53516     04:45:54   0.25610       0.968   \n",
       "1648  290.70804     04:50:71   0.25034       1.000   \n",
       "1652  291.44482     04:51:44   0.25002       0.991   \n",
       "1680  297.84244     04:57:84   0.34844       0.707   \n",
       "1682  298.30103     04:58:30   0.36558       0.917   \n",
       "\n",
       "                                                pitches  \\\n",
       "3     [0.099, 0.135, 0.145, 0.212, 0.289, 0.555, 0.8...   \n",
       "5     [0.11, 0.144, 0.139, 0.197, 0.268, 0.539, 0.83...   \n",
       "6     [0.743, 1.0, 0.319, 0.137, 0.083, 0.043, 0.033...   \n",
       "10    [0.711, 1.0, 0.322, 0.136, 0.084, 0.048, 0.031...   \n",
       "26    [0.717, 1.0, 0.322, 0.134, 0.077, 0.035, 0.027...   \n",
       "...                                                 ...   \n",
       "1619  [1.0, 0.187, 0.062, 0.066, 0.241, 0.781, 0.125...   \n",
       "1648  [0.694, 1.0, 0.482, 0.195, 0.155, 0.083, 0.046...   \n",
       "1652  [1.0, 0.291, 0.119, 0.119, 0.219, 0.61, 0.161,...   \n",
       "1680  [0.373, 0.411, 0.426, 0.518, 0.469, 0.588, 0.5...   \n",
       "1682  [0.331, 0.39, 0.488, 0.382, 0.475, 0.585, 0.58...   \n",
       "\n",
       "                                                 timbre  \n",
       "3     [44.69, 72.975, -59.469, 39.529, 15.246, -114....  \n",
       "5     [43.2, 74.587, -21.919, 47.153, 28.937, -46.45...  \n",
       "6     [42.67, 29.638, -49.407, 39.926, -16.55, -139....  \n",
       "10    [41.307, 13.913, -57.769, 67.452, -24.724, -13...  \n",
       "26    [39.028, -28.523, -92.945, 109.523, -32.092, -...  \n",
       "...                                                 ...  \n",
       "1619  [39.551, 179.46, -10.525, -0.761, 101.805, -17...  \n",
       "1648  [39.112, -35.085, -152.116, 138.637, -28.081, ...  \n",
       "1652  [32.912, 313.575, -71.716, 17.621, 50.437, -41...  \n",
       "1680  [31.054, 331.479, 38.327, 84.965, 88.189, -35....  \n",
       "1682  [28.4, 336.25, 77.187, 18.96, 82.439, 31.218, ...  \n",
       "\n",
       "[167 rows x 6 columns]"
      ]
     },
     "execution_count": 9,
     "metadata": {},
     "output_type": "execute_result"
    }
   ],
   "source": [
    "folder_analysis_dict['Progressive 1']['London_Kat'][1]"
   ]
  },
  {
   "cell_type": "code",
   "execution_count": 10,
   "metadata": {},
   "outputs": [
    {
     "data": {
      "text/plain": [
       "[]"
      ]
     },
     "execution_count": 10,
     "metadata": {},
     "output_type": "execute_result"
    }
   ],
   "source": [
    "# Confirm if there are any tracks with less than 100 segments\n",
    "mis_segs = []\n",
    "for i,j in folder_analysis_dict.items():\n",
    "    \n",
    "    for k,l in j.items():\n",
    "        if len(l[1])<100:\n",
    "            mis_segs.append((i,k, len(l[1])))\n",
    "# Should be empty\n",
    "mis_segs"
   ]
  },
  {
   "cell_type": "code",
   "execution_count": 11,
   "metadata": {},
   "outputs": [],
   "source": [
    "# Define path to the dataset directory\n",
    "path = Path(PATH)"
   ]
  },
  {
   "cell_type": "code",
   "execution_count": 12,
   "metadata": {},
   "outputs": [],
   "source": [
    "# Create dataset and save them as parquet files\n",
    "sc.create_dataset(folder_analysis_dict, path)"
   ]
  }
 ],
 "metadata": {
  "kernelspec": {
   "display_name": "Python 3",
   "language": "python",
   "name": "python3"
  },
  "language_info": {
   "codemirror_mode": {
    "name": "ipython",
    "version": 3
   },
   "file_extension": ".py",
   "mimetype": "text/x-python",
   "name": "python",
   "nbconvert_exporter": "python",
   "pygments_lexer": "ipython3",
   "version": "3.7.7"
  }
 },
 "nbformat": 4,
 "nbformat_minor": 4
}
