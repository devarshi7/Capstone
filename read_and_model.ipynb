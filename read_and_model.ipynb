{
 "cells": [
  {
   "cell_type": "code",
   "execution_count": 1,
   "metadata": {},
   "outputs": [
    {
     "name": "stderr",
     "output_type": "stream",
     "text": [
      "C:\\Users\\Administrator\\Anaconda3\\lib\\site-packages\\tensorflow\\python\\framework\\dtypes.py:516: FutureWarning: Passing (type, 1) or '1type' as a synonym of type is deprecated; in a future version of numpy, it will be understood as (type, (1,)) / '(1,)type'.\n",
      "  _np_qint8 = np.dtype([(\"qint8\", np.int8, 1)])\n",
      "C:\\Users\\Administrator\\Anaconda3\\lib\\site-packages\\tensorflow\\python\\framework\\dtypes.py:517: FutureWarning: Passing (type, 1) or '1type' as a synonym of type is deprecated; in a future version of numpy, it will be understood as (type, (1,)) / '(1,)type'.\n",
      "  _np_quint8 = np.dtype([(\"quint8\", np.uint8, 1)])\n",
      "C:\\Users\\Administrator\\Anaconda3\\lib\\site-packages\\tensorflow\\python\\framework\\dtypes.py:518: FutureWarning: Passing (type, 1) or '1type' as a synonym of type is deprecated; in a future version of numpy, it will be understood as (type, (1,)) / '(1,)type'.\n",
      "  _np_qint16 = np.dtype([(\"qint16\", np.int16, 1)])\n",
      "C:\\Users\\Administrator\\Anaconda3\\lib\\site-packages\\tensorflow\\python\\framework\\dtypes.py:519: FutureWarning: Passing (type, 1) or '1type' as a synonym of type is deprecated; in a future version of numpy, it will be understood as (type, (1,)) / '(1,)type'.\n",
      "  _np_quint16 = np.dtype([(\"quint16\", np.uint16, 1)])\n",
      "C:\\Users\\Administrator\\Anaconda3\\lib\\site-packages\\tensorflow\\python\\framework\\dtypes.py:520: FutureWarning: Passing (type, 1) or '1type' as a synonym of type is deprecated; in a future version of numpy, it will be understood as (type, (1,)) / '(1,)type'.\n",
      "  _np_qint32 = np.dtype([(\"qint32\", np.int32, 1)])\n",
      "C:\\Users\\Administrator\\Anaconda3\\lib\\site-packages\\tensorflow\\python\\framework\\dtypes.py:525: FutureWarning: Passing (type, 1) or '1type' as a synonym of type is deprecated; in a future version of numpy, it will be understood as (type, (1,)) / '(1,)type'.\n",
      "  np_resource = np.dtype([(\"resource\", np.ubyte, 1)])\n",
      "C:\\Users\\Administrator\\Anaconda3\\lib\\site-packages\\tensorboard\\compat\\tensorflow_stub\\dtypes.py:541: FutureWarning: Passing (type, 1) or '1type' as a synonym of type is deprecated; in a future version of numpy, it will be understood as (type, (1,)) / '(1,)type'.\n",
      "  _np_qint8 = np.dtype([(\"qint8\", np.int8, 1)])\n",
      "C:\\Users\\Administrator\\Anaconda3\\lib\\site-packages\\tensorboard\\compat\\tensorflow_stub\\dtypes.py:542: FutureWarning: Passing (type, 1) or '1type' as a synonym of type is deprecated; in a future version of numpy, it will be understood as (type, (1,)) / '(1,)type'.\n",
      "  _np_quint8 = np.dtype([(\"quint8\", np.uint8, 1)])\n",
      "C:\\Users\\Administrator\\Anaconda3\\lib\\site-packages\\tensorboard\\compat\\tensorflow_stub\\dtypes.py:543: FutureWarning: Passing (type, 1) or '1type' as a synonym of type is deprecated; in a future version of numpy, it will be understood as (type, (1,)) / '(1,)type'.\n",
      "  _np_qint16 = np.dtype([(\"qint16\", np.int16, 1)])\n",
      "C:\\Users\\Administrator\\Anaconda3\\lib\\site-packages\\tensorboard\\compat\\tensorflow_stub\\dtypes.py:544: FutureWarning: Passing (type, 1) or '1type' as a synonym of type is deprecated; in a future version of numpy, it will be understood as (type, (1,)) / '(1,)type'.\n",
      "  _np_quint16 = np.dtype([(\"quint16\", np.uint16, 1)])\n",
      "C:\\Users\\Administrator\\Anaconda3\\lib\\site-packages\\tensorboard\\compat\\tensorflow_stub\\dtypes.py:545: FutureWarning: Passing (type, 1) or '1type' as a synonym of type is deprecated; in a future version of numpy, it will be understood as (type, (1,)) / '(1,)type'.\n",
      "  _np_qint32 = np.dtype([(\"qint32\", np.int32, 1)])\n",
      "C:\\Users\\Administrator\\Anaconda3\\lib\\site-packages\\tensorboard\\compat\\tensorflow_stub\\dtypes.py:550: FutureWarning: Passing (type, 1) or '1type' as a synonym of type is deprecated; in a future version of numpy, it will be understood as (type, (1,)) / '(1,)type'.\n",
      "  np_resource = np.dtype([(\"resource\", np.ubyte, 1)])\n"
     ]
    }
   ],
   "source": [
    "import numpy as np\n",
    "import pandas as pd\n",
    "from pathlib import Path\n",
    "import re\n",
    "from sklearn.preprocessing import OneHotEncoder\n",
    "from sklearn.model_selection import train_test_split\n",
    "import tensorflow as tf\n",
    "from tensorflow import keras\n",
    "from tensorflow.keras.layers import Dense\n",
    "from tensorflow.keras.layers import Input"
   ]
  },
  {
   "cell_type": "code",
   "execution_count": 2,
   "metadata": {},
   "outputs": [],
   "source": [
    "def read_dataset(path_):\n",
    "    \n",
    "    '''\n",
    "    Read analysis(dataframes) dataset stored as parquet files.\n",
    "    \n",
    "    path_ : path to dataset directory\n",
    "    \n",
    "    return : a dict with key/value pairs for all playlists in the folder.\n",
    "             Key : Name of the playlist (string)\n",
    "             Value : a dict of track analysis dataframes of all tracks from the playlist\n",
    "    '''\n",
    "    dataset = []\n",
    "    for pl in path_.iterdir():\n",
    "        \n",
    "        tempo_list = [(re.sub('_tempo.parquet','',t.name), pd.read_parquet(t)) for t in pl.glob('*_tempo.parquet')]\n",
    "        segments_list = [ (re.sub('_segments.parquet','',s.name), pd.read_parquet(s)) for s in pl.glob('*_segments.parquet')]\n",
    "        dataset.append((pl.name, tempo_list, segments_list))\n",
    "                       \n",
    "    return dataset"
   ]
  },
  {
   "cell_type": "code",
   "execution_count": 3,
   "metadata": {},
   "outputs": [],
   "source": [
    "def transform_dataset(dataset, min_tracks = 10, segments = 50):\n",
    "    \n",
    "    '''\n",
    "    Create input arrays to be fed into a model with label provided in tuples).\n",
    "    \n",
    "    dataset : list of tuples - (playlist name,  tempo list of name and df tuple, segments list of name and df tuple)).\n",
    "    min_tracks : minimum number of tracks in a playlist\n",
    "    segments : Default : 50 - Number of segments to be taken for input.\n",
    "    \n",
    "    returns : data - list of tuples of input data arrays and (one-hot)encoded labels.\n",
    "              categories - array  of unique playlist name/labels in the data.\n",
    "              num_tracks -  number of tracks in each category/playlist\n",
    "              Currently only using segment arrays consisting of sequences pitch array and timbre values flattened for input.\n",
    "              Future edit should account for other features, i.e tempo and/or audio features from spotify.\n",
    "    '''\n",
    "    data_array = []\n",
    "    data_label = []\n",
    "    data_trackname = []\n",
    "    num_tracks= []\n",
    "    \n",
    "    for pl in dataset:\n",
    "        \n",
    "        if len(pl[2]) > min_tracks :\n",
    "            num_tracks.append(len(pl[2]))\n",
    "            for track in pl[2]:   \n",
    "                data_trackname.append(track[0])\n",
    "                segments =  track[1][['pitches', 'timbre']].to_numpy()\n",
    "                segments = np.hstack(np.hstack(segments))\n",
    "                data_array.append(segments)\n",
    "                data_label.append(pl[0])\n",
    "                \n",
    "    \n",
    "    X = np.array(data_label).reshape(-1,1)\n",
    "    data_encode = OneHotEncoder().fit(X)\n",
    "    categories = data_encode.categories_\n",
    "    data_encoded = data_encode.transform(X).toarray()\n",
    "    \n",
    "    data = [i for i in zip(data_trackname, data_array, data_encoded)]\n",
    "    \n",
    "    return data, categories, num_tracks\n",
    "    "
   ]
  },
  {
   "cell_type": "code",
   "execution_count": 4,
   "metadata": {},
   "outputs": [],
   "source": [
    "p = Path.cwd().parent.joinpath('Dataset')\n",
    "pl = read_dataset(p)"
   ]
  },
  {
   "cell_type": "code",
   "execution_count": 5,
   "metadata": {},
   "outputs": [
    {
     "name": "stdout",
     "output_type": "stream",
     "text": [
      "Total number of playlists :  18\n",
      " \n",
      " sample playlist name :  Chill out\n",
      " \n",
      " sample Tempos in  playlist:  [('Alicante',      tempo\n",
      "0  219.839), ('Beautiful Day - Kiwamu Remix',      tempo\n",
      "0  121.012), ('Chanunpa - Chillout Mix - Mixed',     tempo\n",
      "0  99.893)]\n",
      "\n",
      " segments of sample track:  Alicante\n"
     ]
    },
    {
     "data": {
      "text/html": [
       "<div>\n",
       "<style scoped>\n",
       "    .dataframe tbody tr th:only-of-type {\n",
       "        vertical-align: middle;\n",
       "    }\n",
       "\n",
       "    .dataframe tbody tr th {\n",
       "        vertical-align: top;\n",
       "    }\n",
       "\n",
       "    .dataframe thead th {\n",
       "        text-align: right;\n",
       "    }\n",
       "</style>\n",
       "<table border=\"1\" class=\"dataframe\">\n",
       "  <thead>\n",
       "    <tr style=\"text-align: right;\">\n",
       "      <th></th>\n",
       "      <th>start</th>\n",
       "      <th>start_minute</th>\n",
       "      <th>duration</th>\n",
       "      <th>confidence</th>\n",
       "      <th>pitches</th>\n",
       "      <th>timbre</th>\n",
       "    </tr>\n",
       "  </thead>\n",
       "  <tbody>\n",
       "    <tr>\n",
       "      <th>4</th>\n",
       "      <td>0.54045</td>\n",
       "      <td>00:00:54</td>\n",
       "      <td>0.26780</td>\n",
       "      <td>1.000</td>\n",
       "      <td>[0.749, 1.0, 0.208, 0.118, 0.087, 0.053, 0.036...</td>\n",
       "      <td>[42.647, 51.306, -108.983, 117.669, 26.065, -1...</td>\n",
       "    </tr>\n",
       "    <tr>\n",
       "      <th>9</th>\n",
       "      <td>1.35306</td>\n",
       "      <td>00:01:35</td>\n",
       "      <td>0.27238</td>\n",
       "      <td>0.904</td>\n",
       "      <td>[0.88, 0.282, 0.215, 0.328, 1.0, 0.255, 0.222,...</td>\n",
       "      <td>[33.762, 206.043, -85.068, 19.343, 48.513, 10....</td>\n",
       "    </tr>\n",
       "    <tr>\n",
       "      <th>10</th>\n",
       "      <td>1.62544</td>\n",
       "      <td>00:01:63</td>\n",
       "      <td>0.27855</td>\n",
       "      <td>1.000</td>\n",
       "      <td>[0.762, 1.0, 0.243, 0.143, 0.11, 0.068, 0.047,...</td>\n",
       "      <td>[41.21, 62.28, -121.38, 121.816, 24.943, -69.0...</td>\n",
       "    </tr>\n",
       "    <tr>\n",
       "      <th>11</th>\n",
       "      <td>1.90399</td>\n",
       "      <td>00:01:90</td>\n",
       "      <td>0.26717</td>\n",
       "      <td>1.000</td>\n",
       "      <td>[0.253, 0.081, 0.105, 0.281, 1.0, 0.752, 0.216...</td>\n",
       "      <td>[35.63, 213.17, -69.972, 31.139, 67.143, -13.2...</td>\n",
       "    </tr>\n",
       "    <tr>\n",
       "      <th>14</th>\n",
       "      <td>2.44308</td>\n",
       "      <td>00:02:44</td>\n",
       "      <td>0.26871</td>\n",
       "      <td>0.977</td>\n",
       "      <td>[0.821, 0.214, 0.326, 0.312, 1.0, 0.184, 0.177...</td>\n",
       "      <td>[34.401, 209.175, -82.835, 38.543, 55.049, -6....</td>\n",
       "    </tr>\n",
       "  </tbody>\n",
       "</table>\n",
       "</div>"
      ],
      "text/plain": [
       "      start start_minute  duration  confidence  \\\n",
       "4   0.54045     00:00:54   0.26780       1.000   \n",
       "9   1.35306     00:01:35   0.27238       0.904   \n",
       "10  1.62544     00:01:63   0.27855       1.000   \n",
       "11  1.90399     00:01:90   0.26717       1.000   \n",
       "14  2.44308     00:02:44   0.26871       0.977   \n",
       "\n",
       "                                              pitches  \\\n",
       "4   [0.749, 1.0, 0.208, 0.118, 0.087, 0.053, 0.036...   \n",
       "9   [0.88, 0.282, 0.215, 0.328, 1.0, 0.255, 0.222,...   \n",
       "10  [0.762, 1.0, 0.243, 0.143, 0.11, 0.068, 0.047,...   \n",
       "11  [0.253, 0.081, 0.105, 0.281, 1.0, 0.752, 0.216...   \n",
       "14  [0.821, 0.214, 0.326, 0.312, 1.0, 0.184, 0.177...   \n",
       "\n",
       "                                               timbre  \n",
       "4   [42.647, 51.306, -108.983, 117.669, 26.065, -1...  \n",
       "9   [33.762, 206.043, -85.068, 19.343, 48.513, 10....  \n",
       "10  [41.21, 62.28, -121.38, 121.816, 24.943, -69.0...  \n",
       "11  [35.63, 213.17, -69.972, 31.139, 67.143, -13.2...  \n",
       "14  [34.401, 209.175, -82.835, 38.543, 55.049, -6....  "
      ]
     },
     "execution_count": 5,
     "metadata": {},
     "output_type": "execute_result"
    }
   ],
   "source": [
    "print('Total number of playlists : ',len(pl))\n",
    "print(' \\n sample playlist name : ',pl[0][0])\n",
    "print(' \\n sample Tempos in  playlist: ', pl[0][1][:3] )\n",
    "print('\\n segments of sample track: ',pl[0][2][0][0] )\n",
    "pl[0][2][0][1].head()"
   ]
  },
  {
   "cell_type": "code",
   "execution_count": 6,
   "metadata": {},
   "outputs": [
    {
     "name": "stdout",
     "output_type": "stream",
     "text": [
      "[array(['Chill out', 'Deep house', 'Deeper House', 'Mo House lo Trance',\n",
      "       'Our old school trance', 'Our old school trance 138',\n",
      "       'Our old school trance 3', 'Progressive 5', 'Progressive 5.2',\n",
      "       'Progressive 6', 'Progressive 8', 'Progressive House',\n",
      "       'That familiar trance'], dtype='<U25')]\n",
      "number of tracks in the above playlists : \n",
      " [11, 16, 11, 41, 27, 14, 20, 19, 18, 28, 18, 15, 61]\n"
     ]
    },
    {
     "data": {
      "text/plain": [
       "[('Alicante',\n",
       "  array([  0.749,   1.   ,   0.208, ...,   0.776, -30.258,   4.948]),\n",
       "  array([1., 0., 0., 0., 0., 0., 0., 0., 0., 0., 0., 0., 0.])),\n",
       " ('Beautiful Day - Kiwamu Remix',\n",
       "  array([ 0.252,  0.266,  0.19 , ..., 12.148, -9.44 , 23.983]),\n",
       "  array([1., 0., 0., 0., 0., 0., 0., 0., 0., 0., 0., 0., 0.])),\n",
       " ('Chanunpa - Chillout Mix - Mixed',\n",
       "  array([  0.6  ,   0.09 ,   0.174, ..., -39.236,   6.351,   5.214]),\n",
       "  array([1., 0., 0., 0., 0., 0., 0., 0., 0., 0., 0., 0., 0.]))]"
      ]
     },
     "execution_count": 6,
     "metadata": {},
     "output_type": "execute_result"
    }
   ],
   "source": [
    "data = create_dataset(pl)\n",
    "print(data[1])\n",
    "print('number of tracks in the above playlists : \\n', data[2])\n",
    "data[0][:3]"
   ]
  },
  {
   "cell_type": "code",
   "execution_count": 7,
   "metadata": {},
   "outputs": [],
   "source": [
    "X = [(i[0],i[1]) for i in data[0]]\n",
    "Y = [i[2] for i in data[0]]"
   ]
  },
  {
   "cell_type": "code",
   "execution_count": 8,
   "metadata": {},
   "outputs": [],
   "source": [
    "X_train, X_test, Y_train, Y_test = train_test_split(X, Y, test_size = 0.33, random_state = 17)"
   ]
  },
  {
   "cell_type": "code",
   "execution_count": 9,
   "metadata": {},
   "outputs": [
    {
     "name": "stdout",
     "output_type": "stream",
     "text": [
      "\n",
      " X_train: \n",
      " [('Solidus', array([  0.625,   0.039,   0.704, ...,  34.995, -33.891,  32.598])), ('Oasis - Original Mix', array([  1.   ,   0.893,   0.708, ...,  10.675, -35.065,  18.925])), ('Frontier', array([ 0.616,  1.   ,  0.829, ..., 17.32 ,  2.126,  4.621]))]\n",
      "\n",
      " X_test: \n",
      " [('Burning Skylines - Original Mix', array([ 0.952,  0.699,  0.459, ..., 28.282, 16.522, -1.571])), ('Rise Above The World - Ultimate Remix', array([  0.824,   0.948,   0.809, ..., -17.213,  -0.277,  12.228]))]\n",
      "\n",
      " Y_train: \n",
      " [array([0., 0., 0., 1., 0., 0., 0., 0., 0., 0., 0., 0., 0.]), array([0., 0., 0., 0., 0., 0., 0., 1., 0., 0., 0., 0., 0.]), array([0., 0., 0., 0., 0., 0., 0., 0., 0., 0., 0., 0., 1.])]\n",
      "\n",
      " X_test: \n",
      " [array([0., 0., 0., 0., 0., 0., 1., 0., 0., 0., 0., 0., 0.]), array([0., 0., 0., 0., 1., 0., 0., 0., 0., 0., 0., 0., 0.])]\n"
     ]
    }
   ],
   "source": [
    "print('\\n X_train: \\n', X_train[:3])\n",
    "print('\\n X_test: \\n',X_test[:2])\n",
    "print('\\n Y_train: \\n',Y_train[:3])\n",
    "print('\\n X_test: \\n',Y_test[:2])"
   ]
  },
  {
   "cell_type": "code",
   "execution_count": null,
   "metadata": {},
   "outputs": [],
   "source": []
  }
 ],
 "metadata": {
  "kernelspec": {
   "display_name": "Python 3",
   "language": "python",
   "name": "python3"
  },
  "language_info": {
   "codemirror_mode": {
    "name": "ipython",
    "version": 3
   },
   "file_extension": ".py",
   "mimetype": "text/x-python",
   "name": "python",
   "nbconvert_exporter": "python",
   "pygments_lexer": "ipython3",
   "version": "3.7.7"
  }
 },
 "nbformat": 4,
 "nbformat_minor": 2
}
