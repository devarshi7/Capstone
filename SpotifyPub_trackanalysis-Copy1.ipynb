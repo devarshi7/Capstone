{
 "cells": [
  {
   "cell_type": "code",
   "execution_count": 1,
   "metadata": {},
   "outputs": [],
   "source": [
    "%load_ext autoreload"
   ]
  },
  {
   "cell_type": "code",
   "execution_count": 2,
   "metadata": {},
   "outputs": [
    {
     "name": "stdout",
     "output_type": "stream",
     "text": [
      "Downloading emoji data ...\n",
      "... OK (Got response in 0.26 seconds)\n",
      "Writing emoji data to C:\\Users\\Administrator\\.demoji\\codes.json ...\n",
      "... OK\n"
     ]
    }
   ],
   "source": [
    "from cap_package import SpotipyCollectPub as scp\n",
    "from cap_package import SpotipyCollect as sc\n",
    "from cap_package import ReadTransform as rt\n",
    "from datetime import datetime\n",
    "import datetime as dt\n",
    "import demoji\n",
    "from dotenv import load_dotenv\n",
    "from IPython.utils.text import columnize\n",
    "import os\n",
    "import pandas as pd\n",
    "from pathlib import Path\n",
    "import re\n",
    "import spotipy"
   ]
  },
  {
   "cell_type": "code",
   "execution_count": 3,
   "metadata": {},
   "outputs": [
    {
     "name": "stdout",
     "output_type": "stream",
     "text": [
      "Downloading emoji data ...\n",
      "... OK (Got response in 0.18 seconds)\n",
      "Writing emoji data to C:\\Users\\Administrator\\.demoji\\codes.json ...\n",
      "... OK\n"
     ]
    }
   ],
   "source": [
    "%autoreload 2\n",
    "demoji.download_codes()"
   ]
  },
  {
   "cell_type": "code",
   "execution_count": 4,
   "metadata": {},
   "outputs": [],
   "source": [
    "def disp_col(list_):\n",
    "    \n",
    "    # import -> from IPython.utils.text import columnize\n",
    "    l = list(map(lambda x:repr(x)+',', list_))\n",
    "    print(columnize(l, displaywidth=120))"
   ]
  },
  {
   "cell_type": "code",
   "execution_count": 5,
   "metadata": {},
   "outputs": [
    {
     "name": "stdout",
     "output_type": "stream",
     "text": [
      "'SpotifyClientCredentials',  '__loader__',        'get_artist_name',       'pd',                   'user_plid_pair',\n",
      "'__builtins__',              '__name__',          'get_public_playlists',  're',                 \n",
      "'__cached__',                '__package__',       'get_tracks',            'spotipy',            \n",
      "'__doc__',                   '__spec__',          'get_tracks_df',         'spotipy_client_cred',\n",
      "'__file__',                  'filterby_keyword',  'json_normalize',        'uri_to_id',          \n",
      "\n"
     ]
    }
   ],
   "source": [
    "disp_col(dir(scp))"
   ]
  },
  {
   "cell_type": "code",
   "execution_count": 6,
   "metadata": {},
   "outputs": [
    {
     "name": "stdout",
     "output_type": "stream",
     "text": [
      "'Path',          '__name__',        'filtersort_playlists',   'get_tracks',           'spotipy',               'util',\n",
      "'__builtins__',  '__package__',     'get_folder_analysis',    'get_tracks_analysis',  'spotipy_userauth',    \n",
      "'__cached__',    '__spec__',        'get_pl_details',         'json_normalize',       'spotipy_userauth2',   \n",
      "'__doc__',       'convert_time',    'get_playlist_analysis',  'pd',                   'track_anlaysis_to_df',\n",
      "'__file__',      'create_dataset',  'get_playlists',          'playlists_id_url',     'track_genre',         \n",
      "'__loader__',    'demoji',          'get_segments',           're',                   'tracks_analysis',     \n",
      "\n"
     ]
    }
   ],
   "source": [
    "disp_col(dir(sc))"
   ]
  },
  {
   "cell_type": "code",
   "execution_count": 7,
   "metadata": {},
   "outputs": [],
   "source": [
    "load_dotenv()\n",
    "SPOTIPY_CLIENT_ID = os.getenv('CLIENT_ID')\n",
    "SPOTIPY_CLIENT_SECRET = os.getenv('CLIENT_SECRET')\n",
    "REDIRECT_URI = os.getenv('REDIRECT_URI')\n",
    "USERNAME = os.getenv('SPOTIFY_USERNAME')\n",
    "SCOPE = 'playlist-read-private'"
   ]
  },
  {
   "cell_type": "code",
   "execution_count": 8,
   "metadata": {},
   "outputs": [],
   "source": [
    "sp = scp.spotipy_client_cred(client_id=SPOTIPY_CLIENT_ID, client_secret=SPOTIPY_CLIENT_SECRET)"
   ]
  },
  {
   "cell_type": "code",
   "execution_count": 9,
   "metadata": {},
   "outputs": [],
   "source": [
    "def timer(start_time=None):\n",
    "    if start_time is not None:\n",
    "        return (datetime.now() - start_time).total_seconds()\n",
    "    else:\n",
    "        start_time = datetime.now()\n",
    "        return start_time"
   ]
  },
  {
   "cell_type": "code",
   "execution_count": 10,
   "metadata": {},
   "outputs": [
    {
     "data": {
      "text/html": [
       "<div>\n",
       "<style scoped>\n",
       "    .dataframe tbody tr th:only-of-type {\n",
       "        vertical-align: middle;\n",
       "    }\n",
       "\n",
       "    .dataframe tbody tr th {\n",
       "        vertical-align: top;\n",
       "    }\n",
       "\n",
       "    .dataframe thead th {\n",
       "        text-align: right;\n",
       "    }\n",
       "</style>\n",
       "<table border=\"1\" class=\"dataframe\">\n",
       "  <thead>\n",
       "    <tr style=\"text-align: right;\">\n",
       "      <th></th>\n",
       "      <th>name</th>\n",
       "      <th>id</th>\n",
       "      <th>artists_name</th>\n",
       "      <th>user</th>\n",
       "    </tr>\n",
       "  </thead>\n",
       "  <tbody>\n",
       "    <tr>\n",
       "      <th>18381</th>\n",
       "      <td>Volume One - Free State vs Dirt Devils Remix</td>\n",
       "      <td>03NSRR3kgp4oOKqGtTEjOZ</td>\n",
       "      <td>Anjunabeats</td>\n",
       "      <td>Anjunabeats</td>\n",
       "    </tr>\n",
       "    <tr>\n",
       "      <th>18382</th>\n",
       "      <td>Volume One - Anjuna Deep Mix</td>\n",
       "      <td>4qKcK7oKhB2oMF1Ny2T4Rr</td>\n",
       "      <td>Anjunabeats</td>\n",
       "      <td>Anjunabeats</td>\n",
       "    </tr>\n",
       "    <tr>\n",
       "      <th>18383</th>\n",
       "      <td>Volume One - Original Mix</td>\n",
       "      <td>1ZfyvweqqR3csr8K4ACjt4</td>\n",
       "      <td>Anjunabeats</td>\n",
       "      <td>Anjunabeats</td>\n",
       "    </tr>\n",
       "    <tr>\n",
       "      <th>18384</th>\n",
       "      <td>Volume One - Tease Dub</td>\n",
       "      <td>4GYyq7cPaTjyynNWpPkC9P</td>\n",
       "      <td>Anjunabeats</td>\n",
       "      <td>Anjunabeats</td>\n",
       "    </tr>\n",
       "    <tr>\n",
       "      <th>18385</th>\n",
       "      <td>Won't Sleep Tonight - Moody Dub Mix</td>\n",
       "      <td>3G2fWbQSseRglXGRhC99Jm</td>\n",
       "      <td>Super8 &amp; Tab</td>\n",
       "      <td>Anjunabeats</td>\n",
       "    </tr>\n",
       "  </tbody>\n",
       "</table>\n",
       "</div>"
      ],
      "text/plain": [
       "                                               name                      id  \\\n",
       "18381  Volume One - Free State vs Dirt Devils Remix  03NSRR3kgp4oOKqGtTEjOZ   \n",
       "18382                  Volume One - Anjuna Deep Mix  4qKcK7oKhB2oMF1Ny2T4Rr   \n",
       "18383                     Volume One - Original Mix  1ZfyvweqqR3csr8K4ACjt4   \n",
       "18384                        Volume One - Tease Dub  4GYyq7cPaTjyynNWpPkC9P   \n",
       "18385           Won't Sleep Tonight - Moody Dub Mix  3G2fWbQSseRglXGRhC99Jm   \n",
       "\n",
       "       artists_name         user  \n",
       "18381   Anjunabeats  Anjunabeats  \n",
       "18382   Anjunabeats  Anjunabeats  \n",
       "18383   Anjunabeats  Anjunabeats  \n",
       "18384   Anjunabeats  Anjunabeats  \n",
       "18385  Super8 & Tab  Anjunabeats  "
      ]
     },
     "execution_count": 10,
     "metadata": {},
     "output_type": "execute_result"
    }
   ],
   "source": [
    "path_  = Path.cwd().joinpath('Dataset').joinpath('musiclabels_tracks.parquet')\n",
    "tracks_df = pd.read_parquet(path_)\n",
    "tracks_df.tail()"
   ]
  },
  {
   "cell_type": "code",
   "execution_count": 11,
   "metadata": {},
   "outputs": [],
   "source": [
    "tracks_df = tracks_df.replace('vcdikomxn7xuhp0ci0pn31pn9', 'ChillBeatsMusic')"
   ]
  },
  {
   "cell_type": "code",
   "execution_count": 12,
   "metadata": {},
   "outputs": [
    {
     "name": "stdout",
     "output_type": "stream",
     "text": [
      "['ChillBeatsMusic', 'anjunadeep', 'spinninrecordsofficial', 'enhanced_music', 'emergentmusic', 'armadamusicofficial', 'spotify', 'silkmusic', 'Anjunabeats']\n"
     ]
    }
   ],
   "source": [
    "users = list(tracks_df['user'].unique())\n",
    "print(users)"
   ]
  },
  {
   "cell_type": "code",
   "execution_count": 13,
   "metadata": {},
   "outputs": [],
   "source": [
    "tracksdf_byuser = [tracks_df[tracks_df['user'] == u] for u in users]"
   ]
  },
  {
   "cell_type": "code",
   "execution_count": 14,
   "metadata": {},
   "outputs": [
    {
     "name": "stdout",
     "output_type": "stream",
     "text": [
      "9\n",
      "user : ChillBeatsMusic , # of dfs : 3\n",
      "user : anjunadeep , # of dfs : 19\n",
      "user : spinninrecordsofficial , # of dfs : 33\n",
      "user : enhanced_music , # of dfs : 2\n",
      "user : emergentmusic , # of dfs : 3\n",
      "user : armadamusicofficial , # of dfs : 58\n",
      "user : spotify , # of dfs : 45\n",
      "user : silkmusic , # of dfs : 5\n",
      "user : Anjunabeats , # of dfs : 19\n"
     ]
    }
   ],
   "source": [
    "tracksdf_chunks = []\n",
    "n = 100 # chunk size\n",
    "for df in tracksdf_byuser:\n",
    "    \n",
    "    list_df = [df[i:i+n] for i in range(0,df.shape[0],n)]\n",
    "    tracksdf_chunks.append(list_df)\n",
    "    \n",
    "print(len(tracksdf_byuser))\n",
    "for u,l in zip(users, tracksdf_chunks):\n",
    "    \n",
    "    print('user : {} , # of dfs : {}'.format(u, len(l)))"
   ]
  },
  {
   "cell_type": "code",
   "execution_count": 15,
   "metadata": {},
   "outputs": [
    {
     "data": {
      "text/plain": [
       "WindowsPath('C:/Users/Administrator/Desktop/CapstoneJup/Dataset')"
      ]
     },
     "execution_count": 15,
     "metadata": {},
     "output_type": "execute_result"
    }
   ],
   "source": [
    "path = Path.cwd().joinpath('Dataset')\n",
    "path"
   ]
  },
  {
   "cell_type": "code",
   "execution_count": 16,
   "metadata": {},
   "outputs": [],
   "source": [
    "def get_df_analysis(spotipyUserAuth, tracks_df, segments=True, min_conf=0.5,\n",
    "                          min_dur=0.25, tempo=True, sections=False, beats=False, bars=False):\n",
    "    '''\n",
    "    spotipyUserAuth : Spotipy auth object.\n",
    "    playlist_id : playlist id\n",
    "    segments and tempo: Default True. False if not needed\n",
    "    min_conf: minimum confidence to include a segment (range 0-1)\n",
    "    min_dur : minimum duration/length in secs to include a segment\n",
    "    sections/beats/bars: Default False. True if needs to be returned\n",
    "\n",
    "    Returns : a dict with key/value pairs for all tracks in the playlist\n",
    "                Keys: name of track\n",
    "                Value: list containing tempo and segment dataframe of the track\n",
    "                       (and sections/beats/bars if asked)\n",
    "    '''\n",
    "\n",
    "    tracks_name = list(tracks_df['name'])\n",
    "    tracks_id = list(tracks_df['id'])\n",
    "    artists_name = list(tracks_df['artists_name'])\n",
    "    # track_analysis returns a list of dictionary\n",
    "    tracks_analysis = sc.get_tracks_analysis(spotipyUserAuth, tracks_id)\n",
    "    df_analysis = {}\n",
    "\n",
    "    for name_, artists_name_, track_analysis in zip(tracks_name, artists_name, tracks_analysis):\n",
    "\n",
    "        # remove any special characters from name (they may cause issues in filenaming)\n",
    "        name_ = re.sub(r'[*|><:\"?/]|\\\\', \"\", name_)\n",
    "        name_ = demoji.replace(name_)\n",
    "        artists_name_ = re.sub(r'[*|><:\"?/]|\\\\', \"\", artists_name_)\n",
    "        name_ = name_ + '-' + artists_name_[:3]\n",
    "        df_analysis[name_] = sc.get_segments(track_analysis, segments=segments,\n",
    "                                                min_conf=min_conf, min_dur=min_dur, tempo=tempo,\n",
    "                                                sections=sections, beats=beats, bars=bars)\n",
    "    return df_analysis"
   ]
  },
  {
   "cell_type": "code",
   "execution_count": 17,
   "metadata": {},
   "outputs": [],
   "source": [
    "def user_analysis(sp, user, df, save=True, path=None, fn=0):    \n",
    "    \n",
    "    if save:\n",
    "        # Create user folder\n",
    "        path_ = path.joinpath('{}'.format(user))\n",
    "        path_.mkdir(exist_ok=True)\n",
    "        # create sub folders for every chunk or n number of tracks in the user folder\n",
    "        p = path_.joinpath('{}_{}'.format(u, fn))\n",
    "        p.mkdir(exist_ok=True)\n",
    "\n",
    "    # list of dataframe names in output\n",
    "    df_names = ['tempo', 'segments', 'sections', 'beats', 'bars']\n",
    "        \n",
    "    df_analysis = get_df_analysis(sp, df)\n",
    "        \n",
    "    for track, a in df_analysis.items():\n",
    "        \n",
    "        for k in range(len(a)):\n",
    "\n",
    "            a[k].to_parquet(p.joinpath('{}_{}.parquet'.format(track, df_names[k])), engine='pyarrow')"
   ]
  },
  {
   "cell_type": "code",
   "execution_count": null,
   "metadata": {},
   "outputs": [],
   "source": [
    "j = 6\n",
    "k = 7\n",
    "\n",
    "for u, user_dfs in zip(users[j:k], tracksdf_chunks[j:k]): \n",
    "    \n",
    "    for i in range(26, 29):\n",
    "        \n",
    "        user_analysis(sp, user=u, df=user_dfs[i], path=path, fn=i)\n",
    "        "
   ]
  },
  {
   "cell_type": "code",
   "execution_count": 27,
   "metadata": {},
   "outputs": [],
   "source": [
    "spoti = tracks_df[tracks_df['user']=='spotify']"
   ]
  },
  {
   "cell_type": "code",
   "execution_count": 28,
   "metadata": {},
   "outputs": [
    {
     "data": {
      "text/html": [
       "<div>\n",
       "<style scoped>\n",
       "    .dataframe tbody tr th:only-of-type {\n",
       "        vertical-align: middle;\n",
       "    }\n",
       "\n",
       "    .dataframe tbody tr th {\n",
       "        vertical-align: top;\n",
       "    }\n",
       "\n",
       "    .dataframe thead th {\n",
       "        text-align: right;\n",
       "    }\n",
       "</style>\n",
       "<table border=\"1\" class=\"dataframe\">\n",
       "  <thead>\n",
       "    <tr style=\"text-align: right;\">\n",
       "      <th></th>\n",
       "      <th>name</th>\n",
       "      <th>id</th>\n",
       "      <th>artists_name</th>\n",
       "      <th>user</th>\n",
       "    </tr>\n",
       "  </thead>\n",
       "  <tbody>\n",
       "    <tr>\n",
       "      <th>11630</th>\n",
       "      <td>Sing To Me</td>\n",
       "      <td>17KGTOb8fkxlyTnB5eFnsh</td>\n",
       "      <td>MISSIO, Death Stranding: Timefall</td>\n",
       "      <td>spotify</td>\n",
       "    </tr>\n",
       "    <tr>\n",
       "      <th>11631</th>\n",
       "      <td>Strange Clouds</td>\n",
       "      <td>7o9fFaoToMlmcTftxZmgMs</td>\n",
       "      <td>ufo ufo</td>\n",
       "      <td>spotify</td>\n",
       "    </tr>\n",
       "    <tr>\n",
       "      <th>11632</th>\n",
       "      <td>The Kid I Used to Know</td>\n",
       "      <td>4poqovyJtmlKMDnSz6QwsE</td>\n",
       "      <td>Arrested Youth</td>\n",
       "      <td>spotify</td>\n",
       "    </tr>\n",
       "    <tr>\n",
       "      <th>11633</th>\n",
       "      <td>Our House (The Mess We Made)</td>\n",
       "      <td>5bl2pNsPhMT37RkDUa57Ab</td>\n",
       "      <td>You Me At Six</td>\n",
       "      <td>spotify</td>\n",
       "    </tr>\n",
       "    <tr>\n",
       "      <th>11634</th>\n",
       "      <td>Dead Weight</td>\n",
       "      <td>7hM9ShrZMCV7xYOQwqBnNb</td>\n",
       "      <td>PVRIS</td>\n",
       "      <td>spotify</td>\n",
       "    </tr>\n",
       "    <tr>\n",
       "      <th>...</th>\n",
       "      <td>...</td>\n",
       "      <td>...</td>\n",
       "      <td>...</td>\n",
       "      <td>...</td>\n",
       "    </tr>\n",
       "    <tr>\n",
       "      <th>16034</th>\n",
       "      <td>Kafka</td>\n",
       "      <td>6QlAW39LcyCNTxqsYjRBki</td>\n",
       "      <td>Ercos Blanka</td>\n",
       "      <td>spotify</td>\n",
       "    </tr>\n",
       "    <tr>\n",
       "      <th>16035</th>\n",
       "      <td>Branches</td>\n",
       "      <td>6q5QgqXvW1lgIBSdSihcVN</td>\n",
       "      <td>Nora En Pure</td>\n",
       "      <td>spotify</td>\n",
       "    </tr>\n",
       "    <tr>\n",
       "      <th>16036</th>\n",
       "      <td>Whispers</td>\n",
       "      <td>0V8okvZJmTFqnbsW9L1v1N</td>\n",
       "      <td>Valante</td>\n",
       "      <td>spotify</td>\n",
       "    </tr>\n",
       "    <tr>\n",
       "      <th>16037</th>\n",
       "      <td>Setting Sail - Chill Mix</td>\n",
       "      <td>3Am7bRVPs1DPbTkYQb9giH</td>\n",
       "      <td>Eastern Odyssey</td>\n",
       "      <td>spotify</td>\n",
       "    </tr>\n",
       "    <tr>\n",
       "      <th>16038</th>\n",
       "      <td>Brigante - Nhar Remix</td>\n",
       "      <td>2ff87EDRvp1GIY60XVLxwp</td>\n",
       "      <td>Ercos Blanka, Nhar</td>\n",
       "      <td>spotify</td>\n",
       "    </tr>\n",
       "  </tbody>\n",
       "</table>\n",
       "<p>4409 rows × 4 columns</p>\n",
       "</div>"
      ],
      "text/plain": [
       "                               name                      id  \\\n",
       "11630                    Sing To Me  17KGTOb8fkxlyTnB5eFnsh   \n",
       "11631                Strange Clouds  7o9fFaoToMlmcTftxZmgMs   \n",
       "11632        The Kid I Used to Know  4poqovyJtmlKMDnSz6QwsE   \n",
       "11633  Our House (The Mess We Made)  5bl2pNsPhMT37RkDUa57Ab   \n",
       "11634                   Dead Weight  7hM9ShrZMCV7xYOQwqBnNb   \n",
       "...                             ...                     ...   \n",
       "16034                         Kafka  6QlAW39LcyCNTxqsYjRBki   \n",
       "16035                      Branches  6q5QgqXvW1lgIBSdSihcVN   \n",
       "16036                      Whispers  0V8okvZJmTFqnbsW9L1v1N   \n",
       "16037      Setting Sail - Chill Mix  3Am7bRVPs1DPbTkYQb9giH   \n",
       "16038         Brigante - Nhar Remix  2ff87EDRvp1GIY60XVLxwp   \n",
       "\n",
       "                            artists_name     user  \n",
       "11630  MISSIO, Death Stranding: Timefall  spotify  \n",
       "11631                            ufo ufo  spotify  \n",
       "11632                     Arrested Youth  spotify  \n",
       "11633                      You Me At Six  spotify  \n",
       "11634                              PVRIS  spotify  \n",
       "...                                  ...      ...  \n",
       "16034                       Ercos Blanka  spotify  \n",
       "16035                       Nora En Pure  spotify  \n",
       "16036                            Valante  spotify  \n",
       "16037                    Eastern Odyssey  spotify  \n",
       "16038                 Ercos Blanka, Nhar  spotify  \n",
       "\n",
       "[4409 rows x 4 columns]"
      ]
     },
     "execution_count": 28,
     "metadata": {},
     "output_type": "execute_result"
    }
   ],
   "source": [
    "spoti"
   ]
  },
  {
   "cell_type": "code",
   "execution_count": 35,
   "metadata": {},
   "outputs": [
    {
     "data": {
      "text/html": [
       "<div>\n",
       "<style scoped>\n",
       "    .dataframe tbody tr th:only-of-type {\n",
       "        vertical-align: middle;\n",
       "    }\n",
       "\n",
       "    .dataframe tbody tr th {\n",
       "        vertical-align: top;\n",
       "    }\n",
       "\n",
       "    .dataframe thead th {\n",
       "        text-align: right;\n",
       "    }\n",
       "</style>\n",
       "<table border=\"1\" class=\"dataframe\">\n",
       "  <thead>\n",
       "    <tr style=\"text-align: right;\">\n",
       "      <th></th>\n",
       "      <th>name</th>\n",
       "      <th>id</th>\n",
       "      <th>artists_name</th>\n",
       "      <th>user</th>\n",
       "    </tr>\n",
       "  </thead>\n",
       "  <tbody>\n",
       "    <tr>\n",
       "      <th>14584</th>\n",
       "      <td>AEIOU</td>\n",
       "      <td>7KWkq3RScihPRrbDn8sqyg</td>\n",
       "      <td>Joell, Billy Got Waves</td>\n",
       "      <td>spotify</td>\n",
       "    </tr>\n",
       "  </tbody>\n",
       "</table>\n",
       "</div>"
      ],
      "text/plain": [
       "        name                      id            artists_name     user\n",
       "14584  AEIOU  7KWkq3RScihPRrbDn8sqyg  Joell, Billy Got Waves  spotify"
      ]
     },
     "execution_count": 35,
     "metadata": {},
     "output_type": "execute_result"
    }
   ],
   "source": [
    "spoti[spoti['name']=='AEIOU']"
   ]
  },
  {
   "cell_type": "code",
   "execution_count": 36,
   "metadata": {},
   "outputs": [
    {
     "data": {
      "text/html": [
       "<div>\n",
       "<style scoped>\n",
       "    .dataframe tbody tr th:only-of-type {\n",
       "        vertical-align: middle;\n",
       "    }\n",
       "\n",
       "    .dataframe tbody tr th {\n",
       "        vertical-align: top;\n",
       "    }\n",
       "\n",
       "    .dataframe thead th {\n",
       "        text-align: right;\n",
       "    }\n",
       "</style>\n",
       "<table border=\"1\" class=\"dataframe\">\n",
       "  <thead>\n",
       "    <tr style=\"text-align: right;\">\n",
       "      <th></th>\n",
       "      <th>name</th>\n",
       "      <th>id</th>\n",
       "      <th>artists_name</th>\n",
       "      <th>user</th>\n",
       "    </tr>\n",
       "  </thead>\n",
       "  <tbody>\n",
       "    <tr>\n",
       "      <th>14210</th>\n",
       "      <td>Wasted Sunsets</td>\n",
       "      <td>1IyTlom5MjqWmQe4mnc6TC</td>\n",
       "      <td>Deep Purple</td>\n",
       "      <td>spotify</td>\n",
       "    </tr>\n",
       "    <tr>\n",
       "      <th>14211</th>\n",
       "      <td>Bloodsucker - 1995 Remaster</td>\n",
       "      <td>4f2Mreghv4pgUIWVDJG0X7</td>\n",
       "      <td>Deep Purple</td>\n",
       "      <td>spotify</td>\n",
       "    </tr>\n",
       "    <tr>\n",
       "      <th>14212</th>\n",
       "      <td>Lady Double Dealer</td>\n",
       "      <td>4BJAeOVsTFqZOr9Ih3YT8R</td>\n",
       "      <td>Deep Purple</td>\n",
       "      <td>spotify</td>\n",
       "    </tr>\n",
       "    <tr>\n",
       "      <th>14213</th>\n",
       "      <td>All I Got Is You</td>\n",
       "      <td>1mEWmFEjFh1rGqZ8QkkJ0j</td>\n",
       "      <td>Deep Purple</td>\n",
       "      <td>spotify</td>\n",
       "    </tr>\n",
       "    <tr>\n",
       "      <th>14214</th>\n",
       "      <td>Lady Luck - 2010 Digital Remaster</td>\n",
       "      <td>0GTZdFCyqZ0gTItkBaiE3i</td>\n",
       "      <td>Deep Purple</td>\n",
       "      <td>spotify</td>\n",
       "    </tr>\n",
       "    <tr>\n",
       "      <th>...</th>\n",
       "      <td>...</td>\n",
       "      <td>...</td>\n",
       "      <td>...</td>\n",
       "      <td>...</td>\n",
       "    </tr>\n",
       "    <tr>\n",
       "      <th>14580</th>\n",
       "      <td>Be Mindful</td>\n",
       "      <td>3MozP0utcd8PxTQ4BIcbmt</td>\n",
       "      <td>Yeti, Mase</td>\n",
       "      <td>spotify</td>\n",
       "    </tr>\n",
       "    <tr>\n",
       "      <th>14581</th>\n",
       "      <td>Big Bad</td>\n",
       "      <td>30avbfWF8K8ZodTwNHTLog</td>\n",
       "      <td>Jaywop</td>\n",
       "      <td>spotify</td>\n",
       "    </tr>\n",
       "    <tr>\n",
       "      <th>14582</th>\n",
       "      <td>Toyota Ae86</td>\n",
       "      <td>7pPSVe2XBmjkhFnvLS9M2F</td>\n",
       "      <td>andy polk</td>\n",
       "      <td>spotify</td>\n",
       "    </tr>\n",
       "    <tr>\n",
       "      <th>14583</th>\n",
       "      <td>Need Sum</td>\n",
       "      <td>3qF7hj0Ntqew5mWdEG92cm</td>\n",
       "      <td>CP</td>\n",
       "      <td>spotify</td>\n",
       "    </tr>\n",
       "    <tr>\n",
       "      <th>14584</th>\n",
       "      <td>AEIOU</td>\n",
       "      <td>7KWkq3RScihPRrbDn8sqyg</td>\n",
       "      <td>Joell, Billy Got Waves</td>\n",
       "      <td>spotify</td>\n",
       "    </tr>\n",
       "  </tbody>\n",
       "</table>\n",
       "<p>375 rows × 4 columns</p>\n",
       "</div>"
      ],
      "text/plain": [
       "                                    name                      id  \\\n",
       "14210                     Wasted Sunsets  1IyTlom5MjqWmQe4mnc6TC   \n",
       "14211        Bloodsucker - 1995 Remaster  4f2Mreghv4pgUIWVDJG0X7   \n",
       "14212                 Lady Double Dealer  4BJAeOVsTFqZOr9Ih3YT8R   \n",
       "14213                   All I Got Is You  1mEWmFEjFh1rGqZ8QkkJ0j   \n",
       "14214  Lady Luck - 2010 Digital Remaster  0GTZdFCyqZ0gTItkBaiE3i   \n",
       "...                                  ...                     ...   \n",
       "14580                         Be Mindful  3MozP0utcd8PxTQ4BIcbmt   \n",
       "14581                            Big Bad  30avbfWF8K8ZodTwNHTLog   \n",
       "14582                        Toyota Ae86  7pPSVe2XBmjkhFnvLS9M2F   \n",
       "14583                           Need Sum  3qF7hj0Ntqew5mWdEG92cm   \n",
       "14584                              AEIOU  7KWkq3RScihPRrbDn8sqyg   \n",
       "\n",
       "                 artists_name     user  \n",
       "14210             Deep Purple  spotify  \n",
       "14211             Deep Purple  spotify  \n",
       "14212             Deep Purple  spotify  \n",
       "14213             Deep Purple  spotify  \n",
       "14214             Deep Purple  spotify  \n",
       "...                       ...      ...  \n",
       "14580              Yeti, Mase  spotify  \n",
       "14581                  Jaywop  spotify  \n",
       "14582               andy polk  spotify  \n",
       "14583                      CP  spotify  \n",
       "14584  Joell, Billy Got Waves  spotify  \n",
       "\n",
       "[375 rows x 4 columns]"
      ]
     },
     "execution_count": 36,
     "metadata": {},
     "output_type": "execute_result"
    }
   ],
   "source": [
    "spoti.loc[14210:14584]"
   ]
  },
  {
   "cell_type": "code",
   "execution_count": 100,
   "metadata": {},
   "outputs": [
    {
     "data": {
      "text/plain": [
       "3.974199"
      ]
     },
     "execution_count": 100,
     "metadata": {},
     "output_type": "execute_result"
    }
   ],
   "source": [
    "start_time = timer(None)\n",
    "i = 14435+80\n",
    "\n",
    "df_analy = get_df_analysis(sp, spoti.loc[i:i+5])\n",
    "\n",
    "timer(start_time)"
   ]
  },
  {
   "cell_type": "code",
   "execution_count": 82,
   "metadata": {},
   "outputs": [],
   "source": [
    "path_ = path.joinpath('{}'.format('spotify'))\n",
    "path_.mkdir(exist_ok=True)\n",
    "        # create sub folders for every chunk or n number of tracks in the user folder\n",
    "p = path_.joinpath('{}_{}'.format('spotify', 28))\n",
    "p.mkdir(exist_ok=True)"
   ]
  },
  {
   "cell_type": "code",
   "execution_count": 101,
   "metadata": {},
   "outputs": [],
   "source": [
    "df_names = ['tempo', 'segments', 'sections', 'beats', 'bars']\n",
    "for track, a in df_analy.items():\n",
    "        \n",
    "        for k in range(len(a)):\n",
    "\n",
    "            a[k].to_parquet(p.joinpath('{}_{}.parquet'.format(track, df_names[k])), engine='pyarrow')"
   ]
  },
  {
   "cell_type": "code",
   "execution_count": null,
   "metadata": {},
   "outputs": [],
   "source": []
  }
 ],
 "metadata": {
  "kernelspec": {
   "display_name": "Python 3",
   "language": "python",
   "name": "python3"
  },
  "language_info": {
   "codemirror_mode": {
    "name": "ipython",
    "version": 3
   },
   "file_extension": ".py",
   "mimetype": "text/x-python",
   "name": "python",
   "nbconvert_exporter": "python",
   "pygments_lexer": "ipython3",
   "version": "3.7.7"
  }
 },
 "nbformat": 4,
 "nbformat_minor": 4
}
